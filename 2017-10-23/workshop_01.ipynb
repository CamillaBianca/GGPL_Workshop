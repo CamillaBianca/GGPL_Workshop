{
 "cells": [
  {
   "cell_type": "markdown",
   "metadata": {},
   "source": [
    "# Workshop 01"
   ]
  },
  {
   "cell_type": "markdown",
   "metadata": {},
   "source": [
    "<b><u>Obiettivo</u></b>: Convertire scripts da <i>classic PLaSM</i> a <i>pyplasm.</i>"
   ]
  },
  {
   "cell_type": "markdown",
   "metadata": {},
   "source": [
    "- <b>Script 1.5.3</b> (Table model):"
   ]
  },
  {
   "cell_type": "code",
   "execution_count": null,
   "metadata": {},
   "outputs": [],
   "source": [
    "# PLASM:\n",
    "\n",
    "DEF Leg = CUBOID:< 0.1,0.1,0.7 >;\n",
    "DEF Plane = CUBOID:< 1, 1, 0.2>;\n",
    "    \n",
    "DEF Table = STRUCT:<\n",
    "    Leg, T:1:0.9, Leg, T:2:0.9, Leg, T:1:-0.9, Leg, T:<2,3>:<-0.9,0.7>, Plane >;\n",
    "            \n",
    "DEF Table1 = STRUCT:<\n",
    "    Leg, T:1:0.9:Leg, T:<1,2>:<0.9,0.9>:Leg, T:2:0.9:Leg, T:3:0.7:Plane >;\n",
    "                                                    \n",
    "VRML: Table:'out.wrl';"
   ]
  },
  {
   "cell_type": "code",
   "execution_count": 1,
   "metadata": {},
   "outputs": [
    {
     "name": "stdout",
     "output_type": "stream",
     "text": [
      "Evaluating fenvs.py..\n",
      "...fenvs.py imported in 0.0105383154449 seconds\n"
     ]
    },
    {
     "data": {
      "text/plain": [
       "<pyplasm.xgepy.Hpc; proxy of <Swig Object of type 'std::shared_ptr< Hpc > *' at 0x000000000C06C5A0> >"
      ]
     },
     "execution_count": 1,
     "metadata": {},
     "output_type": "execute_result"
    }
   ],
   "source": [
    "#PYPLASM:\n",
    "\n",
    "# Importo le librerie:\n",
    "import sys\n",
    "sys.path.insert(0, 'C:\\Users\\Camilla Bianca\\Documents\\GGPL\\lar-cc\\larlib')\n",
    "from larlib import *\n",
    "# Creo una gamba del tavolo:\n",
    "Leg = CUBOID([0.1,0.1,0.7])\n",
    "# Creo il piano del tavolo:\n",
    "Plane = CUBOID([1,1,0.2])\n",
    "# Aggrego le 4 gambe col piano (funzioni composte):\n",
    "Table = STRUCT([Leg, T(1)(0.9), Leg, T(2)(0.9), Leg, T(1)(-0.9),\n",
    "                Leg, T([2,3])([-0.9,0.7]), Plane])\n",
    "# Aggrego le 4 gambe del tavolo col piano:\n",
    "Table1 = STRUCT([Leg,T(1)(0.9)(Leg), T([1,2])([0.9,0.9])(Leg), T(2)(0.9)(Leg),\n",
    "                 T(3)(0.7)(Plane)])\n",
    "# Visualizzo i due tavoli (uguali):\n",
    "VIEW(Table)\n",
    "VIEW(Table1)"
   ]
  },
  {
   "attachments": {},
   "cell_type": "markdown",
   "metadata": {},
   "source": [
    "![ws1_img1.png](files/ws1_img1.png)"
   ]
  },
  {
   "attachments": {},
   "cell_type": "markdown",
   "metadata": {},
   "source": [
    "![ws1_img2.png](files/ws1_img2.png)"
   ]
  },
  {
   "cell_type": "markdown",
   "metadata": {},
   "source": [
    "- <b>Script 1.5.6</b> (Building Facade)"
   ]
  },
  {
   "cell_type": "code",
   "execution_count": null,
   "metadata": {},
   "outputs": [],
   "source": [
    "# PLASM:\n",
    "\n",
    "DEF facade (n,m::IsIntPos) = STRUCT:<\n",
    "    Q:xRithm * Q:yRithm,\n",
    "    Q:xVoid * Q:yRithm,\n",
    "    Q:xRithm * Q:yVoid ,\n",
    "    @1:(Q:xVoid * Q:yVoid) >\n",
    "WHERE\n",
    "    xRithm = ##:n:<5,-2,-5,-2> AR 5,\n",
    "    yRithm = ##:m:<7,-5,-2> AR 7,\n",
    "    xVoid = AA:-:xRithm,\n",
    "    yVoid = AA:-:yRithm\n",
    "END;"
   ]
  },
  {
   "cell_type": "code",
   "execution_count": 11,
   "metadata": {},
   "outputs": [
    {
     "data": {
      "text/plain": [
       "<pyplasm.xgepy.Hpc; proxy of <Swig Object of type 'std::shared_ptr< Hpc > *' at 0x000000000C1B2E10> >"
      ]
     },
     "execution_count": 11,
     "metadata": {},
     "output_type": "execute_result"
    }
   ],
   "source": [
    "# PYPLASM:\n",
    "\n",
    "import sys\n",
    "sys.path.insert(0, 'C:\\Users\\Camilla Bianca\\Documents\\GGPL\\lar-cc\\larlib')\n",
    "from larlib import *\n",
    "# Funzione che ritorna un oggetto HPC che rappresenta una faccata di \n",
    "# n colonne ed m righe\n",
    "def facade(n,m):\n",
    "    # Creo l'array dei valori x e lo replico un numero di colonne pari a n:\n",
    "    xRithm = [5,-2,-5,-2]*n\n",
    "    # Appendo alla fine dell'array un 5:\n",
    "    xRithm.append(5)\n",
    "    # Creo l'array dei valori y e lo replico un numero di righe pari a m:\n",
    "    yRithm = [7,-5,-2]*m\n",
    "    # Appendo alla fine dell'array un 7:\n",
    "    yRithm.append(7)\n",
    "    # Creo copie degli array di x e di y, ma con i segni invertiti:\n",
    "    xVoid=[-x for x in xRithm]\n",
    "    yVoid=[-y for y in yRithm]\n",
    "    # Ritorno il prodotto cartesiano tra i costruttori dei poliedri (QUOTE): \n",
    "    # i valori negativi nella sequenza sono usati per denotare\n",
    "    # intervalli vuoti nel complesso:\n",
    "    return STRUCT([PROD([QUOTE(xRithm),QUOTE(yRithm)]),\n",
    "                   PROD([QUOTE(xVoid),QUOTE(yRithm)]),\n",
    "                   PROD([QUOTE(xRithm),QUOTE(yVoid)]),\n",
    "                   SKEL_1(PROD([QUOTE(xVoid),QUOTE(yVoid)]))])\n",
    "VIEW(facade(10,5))"
   ]
  },
  {
   "attachments": {},
   "cell_type": "markdown",
   "metadata": {},
   "source": [
    "![ws1_img3.png](files/ws1_img3.png)"
   ]
  },
  {
   "cell_type": "code",
   "execution_count": null,
   "metadata": {},
   "outputs": [],
   "source": []
  }
 ],
 "metadata": {
  "kernelspec": {
   "display_name": "Python 2",
   "language": "python",
   "name": "python2"
  },
  "language_info": {
   "codemirror_mode": {
    "name": "ipython",
    "version": 2
   },
   "file_extension": ".py",
   "mimetype": "text/x-python",
   "name": "python",
   "nbconvert_exporter": "python",
   "pygments_lexer": "ipython2",
   "version": "2.7.12"
  }
 },
 "nbformat": 4,
 "nbformat_minor": 2
}
