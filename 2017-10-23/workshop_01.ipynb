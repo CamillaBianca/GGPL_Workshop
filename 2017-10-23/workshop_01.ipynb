{
 "cells": [
  {
   "cell_type": "markdown",
   "metadata": {},
   "source": [
    "# Workshop 01"
   ]
  },
  {
   "cell_type": "markdown",
   "metadata": {},
   "source": [
    "<b>Obiettivo</b>: Convertire scripts da <i>classic PLaSM</i> a <i>pyplasm.</i>"
   ]
  },
  {
   "cell_type": "markdown",
   "metadata": {},
   "source": [
    "- <b>Script 1.5.3</b> (Table model):"
   ]
  },
  {
   "cell_type": "code",
   "execution_count": null,
   "metadata": {},
   "outputs": [],
   "source": [
    "# PLASM:\n",
    "\n",
    "DEF Leg = CUBOID:< 0.1,0.1,0.7 >;\n",
    "DEF Plane = CUBOID:< 1, 1, 0.2>;\n",
    "    \n",
    "DEF Table = STRUCT:<\n",
    "    Leg, T:1:0.9, Leg, T:2:0.9, Leg, T:1:-0.9, Leg, T:<2,3>:<-0.9,0.7>, Plane >;\n",
    "            \n",
    "DEF Table1 = STRUCT:<\n",
    "    Leg, T:1:0.9:Leg, T:<1,2>:<0.9,0.9>:Leg, T:2:0.9:Leg, T:3:0.7:Plane >;\n",
    "                                                    \n",
    "VRML: Table:'out.wrl';"
   ]
  },
  {
   "cell_type": "code",
   "execution_count": 7,
   "metadata": {},
   "outputs": [
    {
     "data": {
      "text/plain": [
       "<pyplasm.xgepy.Hpc; proxy of <Swig Object of type 'std::shared_ptr< Hpc > *' at 0x000000000C5A41E0> >"
      ]
     },
     "execution_count": 7,
     "metadata": {},
     "output_type": "execute_result"
    }
   ],
   "source": [
    "#PYPLASM:\n",
    "\n",
    "# Importo le librerie:\n",
    "import sys\n",
    "sys.path.insert(0, 'C:\\Users\\Camilla Bianca\\Documents\\GGPL\\lar-cc\\larlib')\n",
    "from larlib import *\n",
    "\n",
    "# Creo una gamba del tavolo:\n",
    "Leg = CUBOID([0.1,0.1,0.7])\n",
    "# Creo il piano del tavolo:\n",
    "Plane = CUBOID([1,1,0.2])\n",
    "# Aggrego le 4 gambe col piano (funzioni composte):\n",
    "Table = STRUCT([Leg, T(1)(0.9), Leg, T(2)(0.9), Leg, T(1)(-0.9),\n",
    "                Leg, T([2,3])([-0.9,0.7]), Plane])\n",
    "# Aggrego le 4 gambe del tavolo col piano:\n",
    "Table1 = STRUCT([Leg,T(1)(0.9)(Leg), T([1,2])([0.9,0.9])(Leg), T(2)(0.9)(Leg),\n",
    "                 T(3)(0.7)(Plane)])\n",
    "\n",
    "# Visualizzo i due tavoli (l'output è il medesimo):\n",
    "VIEW(Table)\n",
    "VIEW(Table1)"
   ]
  },
  {
   "cell_type": "markdown",
   "metadata": {},
   "source": [
    "![ws1_img1.png](files/Immagini/ws1_img1.png)\n",
    "![ws1_img2.png](files/Immagini/ws1_img2.png)"
   ]
  },
  {
   "cell_type": "markdown",
   "metadata": {},
   "source": [
    "<br><hr><br>\n",
    "- <b>Script 1.5.4</b> (1-skeleton):"
   ]
  },
  {
   "cell_type": "code",
   "execution_count": null,
   "metadata": {},
   "outputs": [],
   "source": [
    "# PLASM:\n",
    "\n",
    "DEF out = @1:(CUBOID:<1,1,1> STRUCT SIMPLEX:3);\n",
    "VRML: out:'out.wrl';"
   ]
  },
  {
   "cell_type": "code",
   "execution_count": 2,
   "metadata": {},
   "outputs": [
    {
     "name": "stdout",
     "output_type": "stream",
     "text": [
      "Evaluating fenvs.py..\n",
      "...fenvs.py imported in 0.00424515641547 seconds\n"
     ]
    },
    {
     "data": {
      "text/plain": [
       "<pyplasm.xgepy.Hpc; proxy of <Swig Object of type 'std::shared_ptr< Hpc > *' at 0x000000000C411570> >"
      ]
     },
     "execution_count": 2,
     "metadata": {},
     "output_type": "execute_result"
    }
   ],
   "source": [
    "# PYPLASM:\n",
    "\n",
    "import sys\n",
    "sys.path.insert(0, 'C:\\Users\\Camilla Bianca\\Documents\\GGPL\\lar-cc\\larlib')\n",
    "from larlib import *\n",
    "\n",
    "def out():\n",
    "    return STRUCT([SKEL_1(CUBOID([1,1,1])), SKEL_1(SIMPLEX(3))])\n",
    "\n",
    "VIEW(out())"
   ]
  },
  {
   "cell_type": "markdown",
   "metadata": {},
   "source": [
    "![ws1_img4.png](files/Immagini/ws1_img4.png)"
   ]
  },
  {
   "cell_type": "markdown",
   "metadata": {},
   "source": [
    "<br><hr><br>\n",
    "- <b>Script 1.5.6</b> (Building Facade):"
   ]
  },
  {
   "cell_type": "code",
   "execution_count": null,
   "metadata": {},
   "outputs": [],
   "source": [
    "# PLASM:\n",
    "\n",
    "DEF facade (n,m::IsIntPos) = STRUCT:<\n",
    "    Q:xRithm * Q:yRithm,\n",
    "    Q:xVoid * Q:yRithm,\n",
    "    Q:xRithm * Q:yVoid ,\n",
    "    @1:(Q:xVoid * Q:yVoid) >\n",
    "WHERE\n",
    "    xRithm = ##:n:<5,-2,-5,-2> AR 5,\n",
    "    yRithm = ##:m:<7,-5,-2> AR 7,\n",
    "    xVoid = AA:-:xRithm,\n",
    "    yVoid = AA:-:yRithm\n",
    "END;"
   ]
  },
  {
   "cell_type": "code",
   "execution_count": 11,
   "metadata": {},
   "outputs": [
    {
     "data": {
      "text/plain": [
       "<pyplasm.xgepy.Hpc; proxy of <Swig Object of type 'std::shared_ptr< Hpc > *' at 0x000000000C1B2E10> >"
      ]
     },
     "execution_count": 11,
     "metadata": {},
     "output_type": "execute_result"
    }
   ],
   "source": [
    "# PYPLASM:\n",
    "\n",
    "import sys\n",
    "sys.path.insert(0, 'C:\\Users\\Camilla Bianca\\Documents\\GGPL\\lar-cc\\larlib')\n",
    "from larlib import *\n",
    "\n",
    "# Funzione che ritorna un oggetto HPC che rappresenta una faccata di \n",
    "# n colonne ed m righe\n",
    "def facade(n,m):\n",
    "    # Creo l'array dei valori x e lo replico un numero di colonne pari a n:\n",
    "    xRithm = [5,-2,-5,-2]*n\n",
    "    # Appendo alla fine dell'array un 5:\n",
    "    xRithm.append(5)\n",
    "    # Creo l'array dei valori y e lo replico un numero di righe pari a m:\n",
    "    yRithm = [7,-5,-2]*m\n",
    "    # Appendo alla fine dell'array un 7:\n",
    "    yRithm.append(7)\n",
    "    # Creo copie degli array di x e di y, ma con i segni invertiti:\n",
    "    xVoid=[-x for x in xRithm]\n",
    "    yVoid=[-y for y in yRithm]\n",
    "    # Ritorno il prodotto cartesiano tra i costruttori dei poliedri (QUOTE): \n",
    "    # i valori negativi nella sequenza sono usati per denotare\n",
    "    # intervalli vuoti nel complesso:\n",
    "    return STRUCT([PROD([QUOTE(xRithm),QUOTE(yRithm)]),\n",
    "                   PROD([QUOTE(xVoid),QUOTE(yRithm)]),\n",
    "                   PROD([QUOTE(xRithm),QUOTE(yVoid)]),\n",
    "                   SKEL_1(PROD([QUOTE(xVoid),QUOTE(yVoid)]))])\n",
    "VIEW(facade(10,5))"
   ]
  },
  {
   "cell_type": "markdown",
   "metadata": {},
   "source": [
    "![ws1_img3.png](files/Immagini/ws1_img3.png)"
   ]
  },
  {
   "cell_type": "markdown",
   "metadata": {},
   "source": [
    "<br><hr><br>\n",
    "- <b>Script 1.5.9</b> (Boolean example):"
   ]
  },
  {
   "cell_type": "code",
   "execution_count": null,
   "metadata": {},
   "outputs": [],
   "source": [
    "# PLASM:\n",
    "\n",
    "DEF a = T:<1,2>:<-0.5,-0.5>:(CUBOID:<1,1,1>); DEF b = R:<1,2>:(PI/4):a;\n",
    "STRUCT:< a + b, T:1:2, a & b, T:1:2, a ∧ b, T:1:2, a - b >;"
   ]
  },
  {
   "cell_type": "code",
   "execution_count": 11,
   "metadata": {},
   "outputs": [
    {
     "data": {
      "text/plain": [
       "<pyplasm.xgepy.Hpc; proxy of <Swig Object of type 'std::shared_ptr< Hpc > *' at 0x000000000C5A43C0> >"
      ]
     },
     "execution_count": 11,
     "metadata": {},
     "output_type": "execute_result"
    }
   ],
   "source": [
    "# PYPLASM:\n",
    "\n",
    "import sys\n",
    "sys.path.insert(0, 'C:\\Users\\Camilla Bianca\\Documents\\GGPL\\lar-cc\\larlib')\n",
    "from larlib import *\n",
    "\n",
    "# Creo un cubo traslato dall'origine:\n",
    "def a():\n",
    "    return T([1,2])([-0.5,-0.5])(CUBOID([1,1,1]))\n",
    "\n",
    "# Creo un cubo ruotato (con asse z fisso) di 45°:\n",
    "def b():\n",
    "    return R([1,2])(PI/4)(a())\n",
    "\n",
    "# Creo un oggetto che fa l'unione, l'intersezione,\n",
    "# la disgiunzione esclusiva e la differenza\n",
    "# tra i due cubi creati in precedenza:\n",
    "boolean = STRUCT([\n",
    "    UNION([a(),b()]),T(1)(2),INTERSECTION([a(),b()]),T(1)(2),\n",
    "    XOR([a(),b()]),T(1)(2),DIFFERENCE([a(),b()])])\n",
    "\n",
    "# Visualizzo l'oggetto:\n",
    "VIEW(boolean)"
   ]
  },
  {
   "cell_type": "markdown",
   "metadata": {},
   "source": [
    "![ws1_img5.png](files/Immagini/ws1_img5.png)"
   ]
  },
  {
   "cell_type": "markdown",
   "metadata": {},
   "source": [
    "<br><hr><br>\n",
    "- <b>Script 1.6.3</b> (Assembly of colored cubes):"
   ]
  },
  {
   "cell_type": "code",
   "execution_count": null,
   "metadata": {},
   "outputs": [],
   "source": [
    "# PLASM:\n",
    "\n",
    "DEF cube = CUBOID:<1,1,1>;\n",
    "DEF cube1 = cube COLOR CYAN;\n",
    "DEF cube2 = cube COLOR MAGENTA;\n",
    "DEF cube3 = cube COLOR YELLOW;\n",
    "DEF basis = (EMBED:1 ~ CUBOID):<3,3>;\n",
    "DEF assembly = cube1 TOP cube2 TOP cube3;\n",
    "DEF out = basis TOP assembly;\n",
    "\n",
    "VRML:out:'out.wrl'; \n",
    "VRML:(@1:out):''out.wrl'';\n",
    "DEF out = basis TOP @1:assembly;\n",
    "VRML:out:'out.wrl'; \n",
    "DEF out = basis TOP ((SWEEP:< 0.2, 0.2, 0.2 > ~ @1):assembly COLOR RED);\n",
    "VRML:out:'out.wrl';\n",
    "DEF out = basis TOP ((OFFSET:< 0.1, 0.1, 0.1 > ~ @1):assembly COLOR RED); \n",
    "VRML:out:'out.wrl'; \n",
    "DEF out = basis TOP\n",
    "    ((STRUCT ~ [ID, OFFSET:< 0.1, 0.1, 0.1 > ~ @1]):assembly COLOR RED);\n",
    "VRML:out:'out.wrl';"
   ]
  },
  {
   "cell_type": "code",
   "execution_count": 5,
   "metadata": {},
   "outputs": [
    {
     "data": {
      "text/plain": [
       "<pyplasm.xgepy.Hpc; proxy of <Swig Object of type 'std::shared_ptr< Hpc > *' at 0x000000000CD3F420> >"
      ]
     },
     "execution_count": 5,
     "metadata": {},
     "output_type": "execute_result"
    }
   ],
   "source": [
    "# PYPLASM: \n",
    "\n",
    "import sys\n",
    "sys.path.insert(0, 'C:\\Users\\Camilla Bianca\\Documents\\GGPL\\lar-cc\\larlib')\n",
    "from larlib import *\n",
    "\n",
    "def cube():\n",
    "    return CUBOID([1,1,1])\n",
    "def cube1():\n",
    "    return COLOR(CYAN)(cube())\n",
    "def cube2():\n",
    "    return COLOR(MAGENTA)(cube())\n",
    "def cube3():\n",
    "    return COLOR(YELLOW)(cube())\n",
    "def basis():\n",
    "    return STRUCT([EMBED(1), CUBOID([3, 3])])\n",
    "def assembly():\n",
    "    return TOP([TOP([cube1(), cube2()]), cube3()])\n",
    "def out():\n",
    "    return TOP([basis(), assembly()])\n",
    "\n",
    "VIEW(out())\n",
    "VIEW(SKEL_1(out()))\n",
    "def out():\n",
    "    return TOP([basis(),SKEL_1(assembly())])\n",
    "VIEW(out())\n",
    "def out():\n",
    "    return TOP([basis(),COLOR(RED)(SWEEP([0.2, 0.2, 0.2])(SKEL_1(assembly())))])\n",
    "VIEW(out())\n",
    "def out():\n",
    "    return TOP([basis(),COLOR(RED)(OFFSET([0.1, 0.1, 0.1])(SKEL_1(assembly())))])\n",
    "VIEW(out())\n",
    "def out():\n",
    "    return TOP([basis(),STRUCT([COLOR(RED)(OFFSET([0.1, 0.1, 0.1])\n",
    "            (SKEL_1(assembly()))),assembly()])])\n",
    "VIEW(out())"
   ]
  },
  {
   "cell_type": "markdown",
   "metadata": {},
   "source": [
    "![ws1_img6.png](files/Immagini/ws1_img6.png)\n",
    "![ws1_img7.png](files/Immagini/ws1_img7.png)\n",
    "![ws1_img8.png](files/Immagini/ws1_img8.png)\n",
    "![ws1_img9.png](files/Immagini/ws1_img9.png)\n",
    "![ws1_img10.png](files/Immagini/ws1_img10.png)\n",
    "![ws1_img11.png](files/Immagini/ws1_img11.png)"
   ]
  }
 ],
 "metadata": {
  "kernelspec": {
   "display_name": "Python 2",
   "language": "python",
   "name": "python2"
  },
  "language_info": {
   "codemirror_mode": {
    "name": "ipython",
    "version": 2
   },
   "file_extension": ".py",
   "mimetype": "text/x-python",
   "name": "python",
   "nbconvert_exporter": "python",
   "pygments_lexer": "ipython2",
   "version": "2.7.12"
  }
 },
 "nbformat": 4,
 "nbformat_minor": 2
}
