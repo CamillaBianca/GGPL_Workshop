{
 "cells": [
  {
   "cell_type": "markdown",
   "metadata": {},
   "source": [
    "# Workshop 02"
   ]
  },
  {
   "cell_type": "markdown",
   "metadata": {},
   "source": [
    "<b>Obiettivo</b>: Creare modelli di mobili di <i>Ikea</i>."
   ]
  },
  {
   "cell_type": "code",
   "execution_count": 1,
   "metadata": {},
   "outputs": [
    {
     "name": "stdout",
     "output_type": "stream",
     "text": [
      "Evaluating fenvs.py..\n",
      "...fenvs.py imported in 0.0149829478985 seconds\n"
     ]
    }
   ],
   "source": [
    "import sys\n",
    "sys.path.insert(0, 'C:\\Users\\Camilla Bianca\\Documents\\GGPL\\lar-cc\\larlib')\n",
    "from larlib import *"
   ]
  },
  {
   "cell_type": "markdown",
   "metadata": {},
   "source": [
    "- Mobile 1: <a href=\"http://www.ikea.com/it/it/catalog/products/40275813/\" target=\"blank\">KALLAX</a>\n",
    "- Mobile 2: <a href=\"http://www.ikea.com/it/it/images/products/kallax-scaffale__0400164_PE564140_S4.JPG\" target=\"blank\">KALLAX (variante)</a>\n",
    "- Mobile 3: <a href=\"http://www.ikea.com/it/it/catalog/products/S19247704/\" target=\"blank\">BESTÅ</a>"
   ]
  },
  {
   "cell_type": "markdown",
   "metadata": {},
   "source": [
    "<hr>\n",
    "- <b>KALLAX:</b>"
   ]
  },
  {
   "cell_type": "code",
   "execution_count": 168,
   "metadata": {},
   "outputs": [
    {
     "data": {
      "text/plain": [
       "<pyplasm.xgepy.Hpc; proxy of <Swig Object of type 'std::shared_ptr< Hpc > *' at 0x000000000BED1B40> >"
      ]
     },
     "execution_count": 168,
     "metadata": {},
     "output_type": "execute_result"
    }
   ],
   "source": [
    "# Creo il piano esterno inferiore (lunghezza 77cm , altezza 5cm, profondità 39cm):\n",
    "pianoExtInf = CUBOID([0.77,0.05,0.39])\n",
    "# Creo il piano esterno sinistro (lunghezza 5cm, altezza 77cm, profondità 39cm):\n",
    "pianoExtSx = CUBOID([0.05,0.77,0.39])\n",
    "# Creo il piano esterno superiore, uguale al piano superiore ma\n",
    "# traslato di 72cm (cioè 77cm - 5cm) rispetto all'asse y:\n",
    "pianoExtSup = T(2)(0.72)(CUBOID([0.77,0.05,0.39]))\n",
    "# Creo il piano esterno destro, uguale al destro ma\n",
    "# traslato di 72cm (cioè 77cm - 5cm) rispetto all'asse x:\n",
    "pianoExtDx = T(1)(0.72)(CUBOID([0.05,0.77,0.39]))\n",
    "# Creo il piano interno verticale (lunghezza 1cm, altezza 77cm, profondità 39cm),\n",
    "# traslato di 38,5cm (cioè la metà di 77cm) rispetto all'asse x:\n",
    "pianoIntV = T(1)(0.38)(CUBOID([0.01,0.77,0.39]))\n",
    "# Creo il piano interno orizzontale (lunghezza 77cm, altezza 1cm, profondità 39cm),\n",
    "# traslato di 38,5cm (cioè la metà di 77cm) rispetto all'asse y:\n",
    "pianoIntO = T(2)(0.38)(CUBOID([0.77,0.01,0.39]))\n",
    "# Metto insieme il tutto:\n",
    "kallax = STRUCT([\n",
    "    COLOR([0.9,0.7,0.6])(pianoExtSup),\n",
    "    COLOR([0.9,0.7,0.6])(pianoExtSx),\n",
    "    COLOR([0.9,0.7,0.6])(pianoExtInf),\n",
    "    COLOR([0.9,0.7,0.6])(pianoExtDx),\n",
    "    COLOR([0.9,0.7,0.6])(pianoIntV),\n",
    "    COLOR([0.9,0.7,0.6])(pianoIntO)\n",
    "])\n",
    "# E lo visualizzo:\n",
    "VIEW(kallax)"
   ]
  },
  {
   "cell_type": "markdown",
   "metadata": {},
   "source": [
    "![ws2_img1.png](files/Immagini/ws2_img1.png)\n",
    "![ws2_img2.png](files/Immagini/ws2_img2.png)"
   ]
  },
  {
   "cell_type": "markdown",
   "metadata": {},
   "source": [
    "<hr>\n",
    "- <b>KALLAX (variante):</b>"
   ]
  },
  {
   "cell_type": "code",
   "execution_count": 182,
   "metadata": {},
   "outputs": [
    {
     "data": {
      "text/plain": [
       "<pyplasm.xgepy.Hpc; proxy of <Swig Object of type 'std::shared_ptr< Hpc > *' at 0x000000000BEF0D80> >"
      ]
     },
     "execution_count": 182,
     "metadata": {},
     "output_type": "execute_result"
    }
   ],
   "source": [
    "# Creo un'anta di 33cm x 33cm x 1cm:\n",
    "anta = CUBOID([0.33,0.33,0.01])\n",
    "# Traslo l'anta per posizionarla in basso a destra:\n",
    "antaDx = T([1,2,3])([0.39,0.05,0.39])(anta)\n",
    "# Traslo l'anta per posizionarla in basso a sinisra:\n",
    "antaSx = T([1,2,3])([0.05,0.05,0.39])(anta)\n",
    "# Creo il pannello da mettere dietro il mobile (e lo traslo per centrarlo):\n",
    "pannello = T([1,2])([0.05,0.05])(CUBOID([0.67,0.33,0.01]))\n",
    "# Creo i pomell per le ante:\n",
    "pomelloSx = T([1,2,3])([0.4,0.215,0.40])(CUBOID([0.01,0.01,0.02]))\n",
    "pomelloDx = T([1,2,3])([0.36,0.215,0.40])(CUBOID([0.01,0.01,0.02]))\n",
    "# Assemblo il tutto:\n",
    "kallaxVariante = STRUCT([\n",
    "    kallax,\n",
    "    COLOR([1.0,0.9,0.8])(antaDx),\n",
    "    COLOR([1.0,0.9,0.8])(antaSx),\n",
    "    COLOR([1.0,0.9,0.8])(pannello),\n",
    "    pomelloSx,\n",
    "    pomelloDx\n",
    "])\n",
    "# E lo visualizzo:\n",
    "VIEW(kallaxVariante)"
   ]
  },
  {
   "cell_type": "markdown",
   "metadata": {},
   "source": [
    "![ws2_img3.png](files/Immagini/ws2_img3.png)\n",
    "![ws2_img4.png](files/Immagini/ws2_img4.png)"
   ]
  },
  {
   "cell_type": "markdown",
   "metadata": {},
   "source": [
    "<hr>\n",
    "- <b>BESTÅ:</b>"
   ]
  },
  {
   "cell_type": "code",
   "execution_count": 212,
   "metadata": {},
   "outputs": [
    {
     "data": {
      "text/plain": [
       "<pyplasm.xgepy.Hpc; proxy of <Swig Object of type 'std::shared_ptr< Hpc > *' at 0x000000000C06DFC0> >"
      ]
     },
     "execution_count": 212,
     "metadata": {},
     "output_type": "execute_result"
    }
   ],
   "source": [
    "# Creo la parete posteriore:\n",
    "paretePost = CUBOID([1.8,1.92])\n",
    "# Creo lo scaffale più in basso:\n",
    "scaffale = CUBOID([1.8,0.01,0.42])\n",
    "# Creo gli altri scaffali:\n",
    "scaffale1 = T(2)(0.47)(scaffale)\n",
    "scaffale2 = T(2)(0.71)(scaffale)\n",
    "scaffale3 = T(2)(1.31)(scaffale)\n",
    "scaffale4 = T(2)(1.91)(scaffale)\n",
    "# Creo i pannelli laterali sx e dx:\n",
    "pannelloSx = CUBOID([0.01,1.92,0.42])\n",
    "pannelloDx = T(1)(1.79)(pannelloSx)\n",
    "# Assemblo lo scheletro della libreria: \n",
    "scheletro = STRUCT([\n",
    "    paretePost,\n",
    "    scaffale,\n",
    "    scaffale1,\n",
    "    scaffale2,\n",
    "    scaffale3,\n",
    "    scaffale4,\n",
    "    pannelloSx,\n",
    "    pannelloDx\n",
    "])\n",
    "# E lo visualizzo:\n",
    "VIEW(scheletro)\n",
    "# Ora creo i pannelli anteriori, di diverse dimensioni:\n",
    "antaL = CUBOID([0.6,0.6,0.01])\n",
    "antaM = CUBOID([0.6,0.48,0.01])\n",
    "antaS = CUBOID([0.6,0.24,0.01])\n",
    "# Assemblo le sequenze di ante, in linee da sx a dx, dal basso verso l'alto:\n",
    "ante1 = STRUCT([\n",
    "    T(3)(0.42)(antaM),\n",
    "    COLOR([0.9,0.8,0.7])(T([1,3])([0.6,0.42])(antaM)),\n",
    "    COLOR([0.3,0.5,0.5])(T([1,3])([1.2,0.42])(antaM))\n",
    "])\n",
    "ante2 = STRUCT([\n",
    "    COLOR([0.9,0.8,0.7])(T([2,3])([0.48,0.42])(antaS)),\n",
    "    COLOR([0.3,0.5,0.5])(T([1,2,3])([0.6,0.48,0.42])(antaS)),\n",
    "    T([1,2,3])([1.2,0.48,0.42])(antaS)\n",
    "])\n",
    "ante3 = STRUCT([\n",
    "    COLOR([0.3,0.5,0.5])(T([2,3])([0.72,0.42])(antaL)),\n",
    "    COLOR([0.8,0.8,0.8])(T([1,2,3])([0.6,0.72,0.42])(antaL)),\n",
    "    COLOR([0.9,0.8,0.7])(T([1,2,3])([1.2,0.72,0.42])(antaL))\n",
    "])\n",
    "ante4 = STRUCT([\n",
    "    COLOR([0.9,0.8,0.7])(T([2,3])([1.32,0.42])(antaL)),\n",
    "    T([1,2,3])([0.6,1.32,0.42])(antaL),\n",
    "    COLOR([0.8,0.8,0.8])(T([1,2,3])([1.2,1.32,0.42])(antaL))\n",
    "])\n",
    "# Assemblo le ante e lo scheletro:\n",
    "besta = STRUCT([\n",
    "    scheletro,\n",
    "    ante1,\n",
    "    ante2,\n",
    "    ante3,\n",
    "    ante4\n",
    "])\n",
    "# E visualizzo la struttura finita:\n",
    "VIEW(besta)"
   ]
  },
  {
   "cell_type": "markdown",
   "metadata": {},
   "source": [
    "![ws2_img5.png](files/Immagini/ws2_img5.png)\n",
    "![ws2_img6.png](files/Immagini/ws2_img6.png)"
   ]
  }
 ],
 "metadata": {
  "kernelspec": {
   "display_name": "Python 2",
   "language": "python",
   "name": "python2"
  },
  "language_info": {
   "codemirror_mode": {
    "name": "ipython",
    "version": 2
   },
   "file_extension": ".py",
   "mimetype": "text/x-python",
   "name": "python",
   "nbconvert_exporter": "python",
   "pygments_lexer": "ipython2",
   "version": "2.7.12"
  }
 },
 "nbformat": 4,
 "nbformat_minor": 2
}
