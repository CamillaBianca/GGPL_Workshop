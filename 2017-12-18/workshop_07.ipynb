{
 "cells": [
  {
   "cell_type": "markdown",
   "metadata": {},
   "source": [
    "# Workshop 07"
   ]
  },
  {
   "cell_type": "markdown",
   "metadata": {},
   "source": [
    "<b>Obiettivo</b>: Realizzazione del modello 3D di <i><b>Villa Gazzotti Grimani</b></i>."
   ]
  },
  {
   "cell_type": "markdown",
   "metadata": {},
   "source": [
    "![VillaGazzotti_2007_07_18_1.jpg](files/Immagini/VillaGazzotti_2007_07_18_1.jpg)"
   ]
  },
  {
   "cell_type": "code",
   "execution_count": 1,
   "metadata": {},
   "outputs": [
    {
     "name": "stdout",
     "output_type": "stream",
     "text": [
      "Evaluating fenvs.py..\n",
      "...fenvs.py imported in 0.00698348469687 seconds\n"
     ]
    }
   ],
   "source": [
    "# Importo le librerie:\n",
    "import sys\n",
    "sys.path.insert(0, 'C:\\Users\\Camilla Bianca\\Documents\\GGPL\\lar-cc\\larlib')\n",
    "from larlib import *\n",
    "import math\n",
    "import csv"
   ]
  },
  {
   "cell_type": "markdown",
   "metadata": {},
   "source": [
    "<hr>"
   ]
  },
  {
   "cell_type": "markdown",
   "metadata": {},
   "source": [
    "## Struttura piano terra:"
   ]
  },
  {
   "cell_type": "markdown",
   "metadata": {},
   "source": [
    "### - Stanza:"
   ]
  },
  {
   "cell_type": "code",
   "execution_count": 2,
   "metadata": {},
   "outputs": [
    {
     "data": {
      "text/plain": [
       "<pyplasm.xgepy.Hpc; proxy of <Swig Object of type 'std::shared_ptr< Hpc > *' at 0x000000000DE4D420> >"
      ]
     },
     "execution_count": 2,
     "metadata": {},
     "output_type": "execute_result"
    }
   ],
   "source": [
    "# Le misure sono in metri.\n",
    "#\n",
    "# X = larghezza; Y = altezza; Z = profondità\n",
    "#\n",
    "# Definiamo la funzione per costruire una stanza:\n",
    "def stanza (x,y,z):\n",
    "    cubo = CUBOID([x+1,y,z+1])\n",
    "    cuboDaSottrarre = T([1,3])([0.5,0.5])(CUBOID([x,y,z]))\n",
    "    return DIFFERENCE([cubo,cuboDaSottrarre])\n",
    "\n",
    "# Esempio di stanza cubica:\n",
    "VIEW(stanza(20,20,20))"
   ]
  },
  {
   "cell_type": "markdown",
   "metadata": {},
   "source": [
    "![ws7_stanza.png](files/Immagini/ws7_stanza.png)"
   ]
  },
  {
   "cell_type": "markdown",
   "metadata": {},
   "source": [
    "### - Pianta:"
   ]
  },
  {
   "cell_type": "code",
   "execution_count": 3,
   "metadata": {},
   "outputs": [
    {
     "data": {
      "text/plain": [
       "<pyplasm.xgepy.Hpc; proxy of <Swig Object of type 'std::shared_ptr< Hpc > *' at 0x000000000DE6CA80> >"
      ]
     },
     "execution_count": 3,
     "metadata": {},
     "output_type": "execute_result"
    }
   ],
   "source": [
    "# Definiamo una funzione per creare la pianta del primo piano:\n",
    "# (h = altezza muri)\n",
    "def pianoTerra(h):\n",
    "    # Creiamo le stanze della pianta: \n",
    "    # - Stanza rettangolare in alto, a destra e sinistra:\n",
    "    stanzaPiccola = stanza(4,h,9)\n",
    "    # - Stanza quadrata:\n",
    "    stanzaQuadrata = stanza(9,h,9)\n",
    "    # - Stanza quadrata in basso, a destra e sinsitra:\n",
    "    stanzaGrande = stanza(12,h,12)\n",
    "    # - Stanza ccentralo a forma di croce:\n",
    "    stanzaCroce1 = DIFFERENCE([STRUCT([T(3)(4)(stanza(17,h,9)),T(1)(4)(stanza(9,h,17))]),T([1,3])([4.5,1])(CUBOID([9,h,16]))])\n",
    "    stanzaCroce = DIFFERENCE([stanzaCroce1,T([1,3])([1,4.5])(CUBOID([16,h,9]))])\n",
    "    # - Stanza dove saranno poste le scale interne:\n",
    "    stanzetta = stanza(5,h,3.5)\n",
    "    # Struttura del piano terra:\n",
    "    pianoTerra1 = STRUCT([\n",
    "        stanzaPiccola,\n",
    "        T(1)(4.5)(stanzaQuadrata),\n",
    "        T([1,3])([14,-4])(stanzaCroce),\n",
    "        T(1)(31.5)(stanzaQuadrata),\n",
    "        T(1)(41)(stanzaPiccola)\n",
    "    ])\n",
    "    pianoTerra = STRUCT([\n",
    "        pianoTerra1,\n",
    "        T(3)(9.5)(stanzaGrande),\n",
    "        T([1,3])([12.5,9.5])(stanzetta),\n",
    "        T([1,3])([27.5,9.5])(stanzetta),\n",
    "        T([1,3])([33,9.5])(stanzaGrande),\n",
    "    ])\n",
    "    return pianoTerra\n",
    "\n",
    "h = 7\n",
    "VIEW(pianoTerra(h))"
   ]
  },
  {
   "cell_type": "markdown",
   "metadata": {},
   "source": [
    "![ws7_pianta.png](files/Immagini/ws7_pianta.png)"
   ]
  },
  {
   "cell_type": "markdown",
   "metadata": {},
   "source": [
    "<hr>"
   ]
  },
  {
   "cell_type": "markdown",
   "metadata": {},
   "source": [
    "### - Porte:"
   ]
  },
  {
   "cell_type": "code",
   "execution_count": 4,
   "metadata": {},
   "outputs": [
    {
     "name": "stdout",
     "output_type": "stream",
     "text": [
      "Child 3\n"
     ]
    },
    {
     "data": {
      "text/plain": [
       "<pyplasm.xgepy.Hpc; proxy of <Swig Object of type 'std::shared_ptr< Hpc > *' at 0x000000000DE4DE40> >"
      ]
     },
     "execution_count": 4,
     "metadata": {},
     "output_type": "execute_result"
    }
   ],
   "source": [
    "# Creiamo la struttura per le porte:\n",
    "def porta():\n",
    "    maniglia = JOIN(SPHERE(0.1)([18,36]))\n",
    "    # Creiamo un blocco della dimensione della porta:\n",
    "    p = CUBOID([1.2,3,0.5])\n",
    "    buco = CUBOID([0.45,0.85,0.05])\n",
    "    buchi = STRUCT([T([1,2])([0.1,0.1])(buco),T([1,2])([0.65,0.1]),(buco)])\n",
    "    # Creiamo i dettagli della porta:\n",
    "    pDaSottrarre = STRUCT([buchi,T(2)(1)(buchi),T(2)(1.95)(buchi),\n",
    "                          T(3)(0.45)(buchi),T([2,3])([1,0.45])(buchi),T([2,3])([1.95,0.45])(buchi)])\n",
    "    # Otteniamo la porta sottraendo al blocco iniziale p la struttura pDaSottrarre\n",
    "    diff = DIFFERENCE([p,pDaSottrarre])\n",
    "    return STRUCT([TEXTURE('Texture/legno4.jpg')(diff),\n",
    "                   T([1,2,3])([0.05,1.55,-0.1])(TEXTURE('Texture/ottone1.jpg')(maniglia)),\n",
    "                   T([1,2,3])([0.05,1.55,0.6])(TEXTURE('Texture/ottone1.jpg')(maniglia))])\n",
    "    \n",
    "VIEW(porta())"
   ]
  },
  {
   "cell_type": "markdown",
   "metadata": {},
   "source": [
    "![ws7_porta.png](files/Immagini/ws7_porta.png)"
   ]
  },
  {
   "cell_type": "markdown",
   "metadata": {},
   "source": [
    "### - Fori per le porte:"
   ]
  },
  {
   "cell_type": "code",
   "execution_count": 6,
   "metadata": {},
   "outputs": [
    {
     "data": {
      "text/plain": [
       "<pyplasm.xgepy.Hpc; proxy of <Swig Object of type 'std::shared_ptr< Hpc > *' at 0x000000000DEBCC30> >"
      ]
     },
     "execution_count": 6,
     "metadata": {},
     "output_type": "execute_result"
    }
   ],
   "source": [
    "# Eliminiamo dalla struttura i blocchi della grandezza delle porte:\n",
    "#\n",
    "# Blocco sull'asse X:\n",
    "bloccoX = CUBOID([1.2,3,0.5])\n",
    "# Blocchi sull'asse Z:\n",
    "bloccoZ1 = CUBOID([37,3,1.2])\n",
    "bloccoZ2 = CUBOID([12,3,1.2])\n",
    "bloccoZ3 = CUBOID([22,3,1.2])\n",
    "# Uniamo in un'unica struttura i buchi opportunamente traslati:\n",
    "buchiPortePT = STRUCT([\n",
    "    T([1,3])([4.5,4.4])(bloccoZ1),\n",
    "    T([1,3])([17.5,11])(bloccoZ2),\n",
    "    T([1,3])([12,17])(bloccoZ3),\n",
    "    T([1,3])([8.5,9.5])(bloccoX),\n",
    "    T([1,3])([36,9.5])(bloccoX),\n",
    "    # porta ingresso:\n",
    "    T([1,3])([22.4,13.5])(bloccoX),\n",
    "    # porta retro:\n",
    "    T([1,3])([22,-4])(CUBOID([2,4,0.5]))\n",
    "])\n",
    "# Otteniamo la struttura con le fessure per le porte:\n",
    "pianoTerraBuchiPorte = DIFFERENCE([pianoTerra(h),buchiPortePT])\n",
    "\n",
    "VIEW(pianoTerraBuchiPorte)"
   ]
  },
  {
   "cell_type": "markdown",
   "metadata": {},
   "source": [
    "![ws7_foriPortePT.png](files/Immagini/ws7_foriPortePT.png)"
   ]
  },
  {
   "cell_type": "markdown",
   "metadata": {},
   "source": [
    "### - Inserimento porte:"
   ]
  },
  {
   "cell_type": "code",
   "execution_count": 7,
   "metadata": {},
   "outputs": [
    {
     "name": "stdout",
     "output_type": "stream",
     "text": [
      "Child 3\n",
      "Child 3\n",
      "Child 3\n"
     ]
    },
    {
     "data": {
      "text/plain": [
       "<pyplasm.xgepy.Hpc; proxy of <Swig Object of type 'std::shared_ptr< Hpc > *' at 0x000000000DEBCB40> >"
      ]
     },
     "execution_count": 7,
     "metadata": {},
     "output_type": "execute_result"
    }
   ],
   "source": [
    "# Posizioniamo le porte nelle fessure:\n",
    "#\n",
    "# Ruotiamo la porta per posizionarla sui muri lungo l'asse z:\n",
    "portaR = R([1,3])(PI/2)(porta())\n",
    "# Creiamo una struttura che contenga tutte le porte nelle posizioni esatte:\n",
    "portePT = STRUCT([\n",
    "    T([1,3])([8.5,9.5])(porta()),\n",
    "    T([1,3])([36,9.5])(porta()),\n",
    "    T([1,3])([5,4.4])(portaR),\n",
    "    T([1,3])([14.5,4.4])(portaR),\n",
    "    T([1,3])([32,4.4])(portaR),\n",
    "    T([1,3])([41.5,4.4])(portaR),\n",
    "    T([1,3])([18.5,11])(portaR),\n",
    "    T([1,3])([28,11])(portaR),\n",
    "    T([1,3])([13,17])(portaR),\n",
    "    T([1,3])([33.5,17])(portaR)\n",
    "])\n",
    "pianoTerraPorte = STRUCT([pianoTerraBuchiPorte,portePT])\n",
    "\n",
    "VIEW(pianoTerraPorte)"
   ]
  },
  {
   "cell_type": "markdown",
   "metadata": {},
   "source": [
    "![ws7_insPortePT.png](files/Immagini/ws7_insPortePT.png)"
   ]
  },
  {
   "cell_type": "markdown",
   "metadata": {},
   "source": [
    "<hr>"
   ]
  },
  {
   "cell_type": "markdown",
   "metadata": {},
   "source": [
    "### - Finestre:"
   ]
  },
  {
   "cell_type": "code",
   "execution_count": 8,
   "metadata": {},
   "outputs": [
    {
     "data": {
      "text/plain": [
       "<pyplasm.xgepy.Hpc; proxy of <Swig Object of type 'std::shared_ptr< Hpc > *' at 0x000000000DEF2DE0> >"
      ]
     },
     "execution_count": 8,
     "metadata": {},
     "output_type": "execute_result"
    }
   ],
   "source": [
    "# Costruiamo una funzione per simulare il vetro:\n",
    "def hex_material(color, light, trasparence):\n",
    "    def hex_to_rgb(value):\n",
    "        value = value.lstrip('#')\n",
    "        lv = len(value)\n",
    "        return map(lambda x: x/255., list(int(value[i:i + lv // 3], 16) for i in range(0, lv, lv // 3)))\n",
    "    params = hex_to_rgb(color) + [.1] + \\\n",
    "                hex_to_rgb(light) + [trasparence] +\\\n",
    "                hex_to_rgb(light) + [.1] +\\\n",
    "                hex_to_rgb(\"#000000\") + [.1] +\\\n",
    "                [100]\n",
    "    return MATERIAL(params)\n",
    "        \n",
    "# Ci sono tre tipi di finestre, una più alta (grande), una quadrata (piccola),\n",
    "# e quella ancora più grande per la facciata:\n",
    "#\n",
    "# Definiamo la funzione per la finestra alta (grande):\n",
    "def finestraGrande():\n",
    "    # Creiamo la lastra di vetro:\n",
    "    f = CUBOID([1,2,0.1])\n",
    "    finestra = hex_material(\"#ffffff\", \"#ffffff\",0.3)(f)\n",
    "    # Creiamo la cornice esterna:\n",
    "    cornice = STRUCT([\n",
    "        T([1,2,3])([-0.04,-0.04,0.1])(CUBOID([1.08,0.04,0.01])),\n",
    "        T([1,3])([-0.04,0.1])(CUBOID([0.04,2,0.01])),\n",
    "        T([1,3])([1,0.1])(CUBOID([0.04,2,0.01])),\n",
    "        CUBOID([1.01,0.01,0.1]),\n",
    "        CUBOID([0.01,2,0.1]),\n",
    "        T([1,2])([1,0.01])(CUBOID([0.01,2,0.1])),\n",
    "        T(1)(-0.14)(CUBOID([0.1,2,0.01])),\n",
    "        T(1)(1.04)(CUBOID([0.1,2,0.01]))\n",
    "    ])\n",
    "    # Con MKPOLS creiamo la struttura triangolare superiore:\n",
    "    verts1 = [[0,0,0],[0.1,0,0],[0.65,0.2,0],[1.2,0,0],[1.3,0,0],[0.65,0.3,0]]\n",
    "    cells = [[1,2,3,6],[3,4,5,6]]\n",
    "    pols = [[1],[2]]\n",
    "    dettaglio1= OFFSET([0,0,0.1])(MKPOL([verts1,cells,pols]))\n",
    "    verts2 = [[0.1,0,0],[0.15,0,0],[0.65,0.2,0],[1.2,0,0],[1.25,0,0],[0.65,0.25,0]]\n",
    "    dettaglio2 = OFFSET([0,0,0.12])(MKPOL([verts2,cells,pols]))\n",
    "    dettaglio3 = STRUCT([\n",
    "        TEXTURE('Texture/pietra3.jpg')(T(1)(0.1)(CUBOID([1.1,0.04,0.1]))),\n",
    "        TEXTURE('Texture/pietra2.jpg')(T(1)(0.11)(CUBOID([1.1,0.005,0.12]))),\n",
    "        TEXTURE('Texture/pietra2.jpg')(T([1,2])([0.2,0.04])(CUBOID([0.9,0.005,0.12])))\n",
    "    ])\n",
    "    triangolo = STRUCT([\n",
    "        TEXTURE('Texture/pietra2.jpg')(dettaglio1),\n",
    "        TEXTURE('Texture/pietra1.jpg')(dettaglio2),\n",
    "        dettaglio3\n",
    "    ])\n",
    "    # Creiamo i riccioli laterali:\n",
    "    dettaglio4 = DIFFERENCE([\n",
    "        T([2,3])([0.06,0.2])(R([1,3])(-PI/2)(CYLINDER([0.06,0.04])(20))),\n",
    "        T(2)(0.1)(CUBOID([0.1,0.1,0.27]))\n",
    "    ])\n",
    "    dettaglio5 = T([2,3])([0.07,0.03])(R([1,3])(-PI/2)(CYLINDER([0.03,0.04])(20)))\n",
    "    dettaglio6 = OFFSET([0.04,0,0])(MKPOL([\n",
    "        [[0,0.1,0.02],[0,0.005,0.2],[0,0.04,0.2]],\n",
    "        [[1,2,3]],\n",
    "        [[1]]\n",
    "    ]))\n",
    "    ricciolo1 = T([1,2,3])([-0.14,1.75,0.1])(R([2,3])(-PI/2)(STRUCT([\n",
    "        dettaglio4,\n",
    "        dettaglio5,\n",
    "        dettaglio6\n",
    "    ])))\n",
    "    ricciolo = STRUCT([ricciolo1,T(1)(0.05)(ricciolo1)])\n",
    "    # Uniamo il tutto:\n",
    "    return STRUCT([\n",
    "        finestra,\n",
    "        TEXTURE('Texture/pietra2.jpg')(cornice),\n",
    "        T([1,2])([-0.15,2])(triangolo),\n",
    "        TEXTURE('Texture/pietra3.jpg')(ricciolo),\n",
    "        TEXTURE('Texture/pietra3.jpg')(T(1)(1.19)(ricciolo))\n",
    "    ])\n",
    "\n",
    "VIEW(finestraGrande())\n",
    "\n",
    "# Prima di definire la funzione per la finestra piccola,\n",
    "# definiamo due funzioni di appoggio usate nell'HW4 per creare un arco:\n",
    "def ArchSurface(rr,w,h):\n",
    "    x1=lambda k: rr*cos(k[0])\n",
    "    y1=lambda k: rr*sin(k[0])\n",
    "    x2=lambda k: (rr-w)*cos(k[0])\n",
    "    y2=lambda k: (rr-w)*sin(k[0])\n",
    "    z=lambda k: h\n",
    "    \n",
    "    Circle0=BEZIER(S1)([CONS([x1,y1,z])])\n",
    "    Circle1=BEZIER(S1)([CONS([x2,y2,z])])\n",
    "    return BEZIER(S2)([Circle0,Circle1])\n",
    "\n",
    "def Arch(length,w,depth,angle):\n",
    "    radius=(length/2)/cos(angle/2)\n",
    "    domain2D=PROD([T(1)(angle/2)(INTERVALS(PI-angle)(16)),QUOTE([1])])\n",
    "    domain3D=PROD([domain2D,QUOTE([1])])\n",
    "    ArchSurf2D_0=ArchSurface(radius,w,0)\n",
    "    ArchSurf2D_1=ArchSurface(radius,w,depth)\n",
    "    SolidMap=BEZIER(S3)([ArchSurf2D_0,ArchSurf2D_1])\n",
    "    #ceiling=MIN(2)(MAP(ArchSurf2D)(domain2D))\n",
    "    return MAP(SolidMap)(domain3D)\n",
    "\n",
    "# Definiamo ora la funzione per la finestra piccola:\n",
    "def finestraPiccola():\n",
    "    f = CUBOID([1,1,0.1])\n",
    "    finestra = hex_material(\"#ffffff\", \"#ffffff\",0.3)(f)\n",
    "    cornice = STRUCT([\n",
    "        T([1,3])([-0.04,0.1])(CUBOID([0.04,1,0.01])),\n",
    "        T([1,3])([1,0.1])(CUBOID([0.04,1,0.01])),\n",
    "        T([1,2,3])([-0.04,-0.04,0.1])(CUBOID([1.08,0.04,0.01])),\n",
    "        T([1,2,3])([-0.04,1,0.1])(CUBOID([1.08,0.04,0.01])),\n",
    "        CUBOID([0.01,1,0.1]),\n",
    "        T(1)(1)(CUBOID([0.01,1,0.1])),\n",
    "        CUBOID([1,0.01,0.1]),\n",
    "        T(2)(1)(CUBOID([1,0.01,0.1]))\n",
    "    ])\n",
    "    cornice1 = STRUCT([\n",
    "        T(1)([-0.2])(CUBOID([0.2,1,0.01])),\n",
    "        T(1)(1)(CUBOID([0.2,1,0.01])),\n",
    "        T([1,2])([-0.2,-0.1])(CUBOID([1.4,0.1,0.01])),\n",
    "        T([1,2])([-0.2,1])(CUBOID([1.4,0.1,0.01]))\n",
    "    ])\n",
    "    return STRUCT([\n",
    "        finestra,\n",
    "        TEXTURE('Texture/pietraB.jpg')(cornice),\n",
    "        TEXTURE('Texture/pietra2.jpg')(cornice1),\n",
    "        TEXTURE('Texture/mattoni2.jpg')(T(1)(0.5)(Arch(1.5,0.3,0.02,0.7*PI)))\n",
    "    ])\n",
    "    \n",
    "VIEW(finestraPiccola())\n",
    "\n",
    "# Definiamo infine la funzione per la finestra grande per la facciata:\n",
    "def finestraFacciata():\n",
    "    # Creiamo la lastra di vetro:\n",
    "    f = CUBOID([2,4,0.2])\n",
    "    finestra = hex_material(\"#ffffff\", \"#ffffff\",0.5)(f)\n",
    "    # Creiamo la cornice:\n",
    "    # - cornice esterna:\n",
    "    corniceEst = STRUCT([\n",
    "        T([1,2])([-0.2,-0.2])(CUBOID([2.4,0.2,0.01])),\n",
    "        T(1)(-0.2)(CUBOID([0.2,4.2,0.01])),\n",
    "        T(1)(2)(CUBOID([0.2,4.2,0.01])),\n",
    "        T([1,2])([-0.2,4])(CUBOID([2.4,0.2,0.01]))\n",
    "    ])\n",
    "    # - cornice interna:\n",
    "    corniceInt = STRUCT([\n",
    "        # - parte più interna:\n",
    "        T([1,2,3])([-0.05,-0.05,0.01])(CUBOID([2.1,0.05,0.01])),\n",
    "        T([1,3])([-0.05,0.01])(CUBOID([0.05,4.05,0.01])),\n",
    "        T([1,3])([2,0.01])(CUBOID([0.05,4.05,0.01])),\n",
    "        T([1,2,3])([-0.05,4,0.01])(CUBOID([2.1,0.05,0.01])),\n",
    "        # - parte centrale:\n",
    "        T([1,2,3])([-0.1,-0.1,0.01])(CUBOID([2.2,0.025,0.001])),\n",
    "        T([1,2,3])([-0.1,-0.1,0.01])(CUBOID([0.025,4.2,0.01])),\n",
    "        T([1,2,3])([2.075,-0.1,0.01])(CUBOID([0.025,4.2,0.01])),\n",
    "        T([1,2,3])([-0.1,4.075,0.01])(CUBOID([2.2,0.025,0.01])),\n",
    "        # - parte più esterna:\n",
    "        T([1,2,3])([-0.25,-0.25,0.01])(CUBOID([2.5,0.05,0.001])),\n",
    "        T([1,2,3])([-0.25,-0.25,0.01])(CUBOID([0.05,4.5,0.01])),\n",
    "        T([1,2,3])([2.2,-0.25,0.01])(CUBOID([0.05,4.5,0.01]))\n",
    "    ])\n",
    "    # Con MKPOL creiamo la struttura triangolare superiore:\n",
    "    verts1 = [[0,0,0],[0.2,0,0],[1.2,0.5,0],[2.2,0,0],[2.4,0,0],[1.2,0.7,0]]\n",
    "    cells = [[1,2,3,6],[3,4,5,6]]\n",
    "    pols = [[1],[2]]\n",
    "    dettaglio1= OFFSET([0,0,0.2])(MKPOL([verts1,cells,pols]))\n",
    "    verts2 = [[0.2,0,0],[0.3,0,0],[1.2,0.3,0],[2.1,0,0],[2.2,0,0],[1.2,0.5,0]]\n",
    "    dettaglio2 = OFFSET([0,0,0.1])(MKPOL([verts2,cells,pols]))\n",
    "    dettaglio3 = TEXTURE('Texture/pietra2.jpg')(CUBOID([2.4,0.05,0.2]))\n",
    "    triangolo = T(2)(0.2)(STRUCT([\n",
    "        TEXTURE('Texture/pietra2.jpg')(dettaglio1),\n",
    "        TEXTURE('Texture/pietra1.jpg')(dettaglio2),\n",
    "        dettaglio3\n",
    "    ]))\n",
    "    # Creiamo i riccioli laterali:\n",
    "    dettaglio4 = DIFFERENCE([\n",
    "        T([2,3])([0.06,0.2])(R([1,3])(-PI/2)(CYLINDER([0.1,0.08])(20))),\n",
    "        T(2)(0.1)(CUBOID([0.2,0.3,0.5]))\n",
    "    ])\n",
    "    dettaglio5 = T([1,2,3])([0.015,0.015,-0.2])(R([1,3])(-PI/2)(CYLINDER([0.06,0.05])(20)))\n",
    "    dettaglio6 = T([1,2,3])([0.015,-0.05,-0.3])(OFFSET([0.05,0,0])(MKPOL([\n",
    "        [[0,0.1,0.05],[0,0.05,0.5],[0,0.1,0.5]],\n",
    "        [[1,2,3]],\n",
    "        [[1]]\n",
    "    ])))\n",
    "    ricciolo1 = T([1,2,3])([-0.2,3.9,0.1])(R([2,3])(-PI/2)(STRUCT([\n",
    "        dettaglio4,\n",
    "        dettaglio5,\n",
    "        dettaglio6\n",
    "    ])))\n",
    "    ricciolo = STRUCT([ricciolo1,T(1)(0.1)(ricciolo1)])\n",
    "    # Uniamo il tutto:\n",
    "    return STRUCT([\n",
    "        T(3)(-0.2)(finestra),\n",
    "        TEXTURE('Texture/pietraB.jpg')(corniceEst),\n",
    "        TEXTURE('Texture/pietra1.jpg')(corniceInt),\n",
    "        T([1,2])([-0.2,4])(triangolo),\n",
    "        TEXTURE('Texture/pietra3.jpg')(ricciolo),\n",
    "        TEXTURE('Texture/pietra3.jpg')(T(1)(2.21)(ricciolo))\n",
    "    ])\n",
    "\n",
    "VIEW(finestraFacciata())"
   ]
  },
  {
   "cell_type": "markdown",
   "metadata": {},
   "source": [
    "![ws7_finGrande.png](files/Immagini/ws7_finGrande.png)"
   ]
  },
  {
   "cell_type": "markdown",
   "metadata": {},
   "source": [
    "![ws7_finPiccola.png](files/Immagini/ws7_finPiccola.png)"
   ]
  },
  {
   "cell_type": "markdown",
   "metadata": {},
   "source": [
    "![ws7_finFacciata.png](files/Immagini/ws7_finFacciata.png)"
   ]
  },
  {
   "cell_type": "markdown",
   "metadata": {},
   "source": [
    "### - Fori per le finestre:"
   ]
  },
  {
   "cell_type": "code",
   "execution_count": 52,
   "metadata": {},
   "outputs": [
    {
     "data": {
      "text/plain": [
       "<pyplasm.xgepy.Hpc; proxy of <Swig Object of type 'std::shared_ptr< Hpc > *' at 0x000000000E0EAE70> >"
      ]
     },
     "execution_count": 52,
     "metadata": {},
     "output_type": "execute_result"
    }
   ],
   "source": [
    "# Aggiungiamo i fori per le finestre:\n",
    "#\n",
    "# Finestra grande asse X:\n",
    "finGX = CUBOID([1,2,0.5])\n",
    "# Finestra grande asse Z:\n",
    "finGZ = CUBOID([0.5,2,1])\n",
    "# Finestra piccola asse X:\n",
    "finPX = CUBOID([1,1,0.5])\n",
    "# Finestra piccola asse Z:\n",
    "finPZ = CUBOID([0.5,1,1])\n",
    "# Finestra facciata asse X:\n",
    "finFX = CUBOID([2,4,0.5])\n",
    "# Tutte le finestre:\n",
    "buchiFinestrePT = STRUCT([\n",
    "    #\n",
    "    # Finestre grandi:\n",
    "    # - dietro:\n",
    "    T([1,2])([15.5,2])(finGX),\n",
    "    T([1,2])([29.5,2])(finGX),\n",
    "    # - dietro laterale:\n",
    "    T([1,2,3])([18,2,-2.5])(finGZ),\n",
    "    T([1,2,3])([27.5,2,-2.5])(finGZ),\n",
    "    #\n",
    "    # Finestre piccole:\n",
    "    # - laterale sx:\n",
    "    T([2,3])([3,5])(finPZ),\n",
    "    T([2,3])([3,13])(finPZ),\n",
    "    T([2,3])([3,18])(finPZ),\n",
    "    # - laterale dx:\n",
    "    T([1,2,3])([45.5,3,5])(finPZ),\n",
    "    T([1,2,3])([45.5,3,13])(finPZ),\n",
    "    T([1,2,3])([45.5,3,18])(finPZ),\n",
    "    # - dietro:\n",
    "    T([1,2])([2,3])(finPX),\n",
    "    T([1,2])([6.5,3])(finPX),\n",
    "    T([1,2])([10.5,3])(finPX),\n",
    "    T([1,2])([34.5,3])(finPX),\n",
    "    T([1,2])([38.5,3])(finPX),\n",
    "    T([1,2])([43,3])(finPX),\n",
    "    #\n",
    "    # Finestre facciata:\n",
    "    T([1,2,3])([2.5,2.5,22])(finFX),\n",
    "    T([1,2,3])([8.5,2.5,22])(finFX),\n",
    "    T([1,2,3])([35.5,2.5,22])(finFX),\n",
    "    T([1,2,3])([41.5,2.5,22])(finFX),\n",
    "])\n",
    "\n",
    "pianoTerraBuchiFinestre = DIFFERENCE([pianoTerra(h),buchiFinestrePT])\n",
    "\n",
    "VIEW(pianoTerraBuchiFinestre)"
   ]
  },
  {
   "cell_type": "markdown",
   "metadata": {},
   "source": [
    "![ws7_foriFinPT.png](files/Immagini/ws7_foriFinPT.png)"
   ]
  },
  {
   "cell_type": "markdown",
   "metadata": {},
   "source": [
    "### - Inserimento finestre:"
   ]
  },
  {
   "cell_type": "code",
   "execution_count": 54,
   "metadata": {},
   "outputs": [
    {
     "data": {
      "text/plain": [
       "<pyplasm.xgepy.Hpc; proxy of <Swig Object of type 'std::shared_ptr< Hpc > *' at 0x000000000DEE2DB0> >"
      ]
     },
     "execution_count": 54,
     "metadata": {},
     "output_type": "execute_result"
    }
   ],
   "source": [
    "# Posizioniamo le finestre nei fori appena fatti:\n",
    "#\n",
    "# Creiamo le finestre che si possano mettere sul retro dell'edificio:\n",
    "finestraGrandeR = R([1,3])(PI)(finestraGrande())\n",
    "finestraPiccolaR = R([1,3])(PI)(finestraPiccola())\n",
    "# Creiamo le finestre che si possono mettere sul lato dell'edificio:\n",
    "finestraGrandeLSX = R([1,3])(PI/2)(finestraGrande())\n",
    "finestraGrandeLDX = R([1,3])(-PI/2)(finestraGrande())\n",
    "finestraPiccolaLSX = R([1,3])(PI/2)(finestraPiccola())\n",
    "finestraPiccolaLDX = R([1,3])(-PI/2)(finestraPiccola())\n",
    "finestrePT = STRUCT([\n",
    "    #\n",
    "    # Finestre retro:\n",
    "    T([1,2])([16.5,2])(finestraGrandeR),\n",
    "    T([1,2])([30.5,2])(finestraGrandeR),\n",
    "    T([1,2])([3,3])(finestraPiccolaR),\n",
    "    T([1,2])([7.5,3])(finestraPiccolaR),\n",
    "    T([1,2])([11.5,3])(finestraPiccolaR),\n",
    "    T([1,2])([35.5,3])(finestraPiccolaR),\n",
    "    T([1,2])([39.5,3])(finestraPiccolaR),\n",
    "    T([1,2])([44,3])(finestraPiccolaR),\n",
    "    #\n",
    "    # Finestre davanti:\n",
    "    T([1,2,3])([2.5,2.5,22.5])(finestraFacciata()),\n",
    "    T([1,2,3])([8.5,2.5,22.5])(finestraFacciata()),\n",
    "    T([1,2,3])([35.5,2.5,22.5])(finestraFacciata()),\n",
    "    T([1,2,3])([41.5,2.5,22.5])(finestraFacciata()),\n",
    "    #\n",
    "    # Finestre laterali:\n",
    "    # - sx:\n",
    "    T([1,2,3])([18,2,-2.5])(finestraGrandeLSX),\n",
    "    T([2,3])([3,5])(finestraPiccolaLSX),\n",
    "    T([2,3])([3,13])(finestraPiccolaLSX),\n",
    "    T([2,3])([3,18])(finestraPiccolaLSX),\n",
    "    # - dx:\n",
    "    T([1,2,3])([28,2,-1.5])(finestraGrandeLDX),\n",
    "    T([1,2,3])([46,3,6])(finestraPiccolaLDX),\n",
    "    T([1,2,3])([46,3,14])(finestraPiccolaLDX),\n",
    "    T([1,2,3])([46,3,19])(finestraPiccolaLDX)\n",
    "])\n",
    "\n",
    "pianoTerraFinestre = STRUCT([pianoTerraBuchiFinestre,finestrePT])\n",
    "VIEW(pianoTerraFinestre)"
   ]
  },
  {
   "cell_type": "markdown",
   "metadata": {},
   "source": [
    "![ws7_insFinPT1.png](files/Immagini/ws7_insFinPT1.png)"
   ]
  },
  {
   "cell_type": "markdown",
   "metadata": {},
   "source": [
    "![ws7_insFinPT2.png](files/Immagini/ws7_insFinPT2.png)"
   ]
  },
  {
   "cell_type": "markdown",
   "metadata": {},
   "source": [
    "<hr>"
   ]
  },
  {
   "cell_type": "markdown",
   "metadata": {},
   "source": [
    "### - Porta ingresso:"
   ]
  },
  {
   "cell_type": "code",
   "execution_count": 11,
   "metadata": {},
   "outputs": [
    {
     "name": "stdout",
     "output_type": "stream",
     "text": [
      "Child 3\n"
     ]
    },
    {
     "data": {
      "text/plain": [
       "<pyplasm.xgepy.Hpc; proxy of <Swig Object of type 'std::shared_ptr< Hpc > *' at 0x000000000E13FB70> >"
      ]
     },
     "execution_count": 11,
     "metadata": {},
     "output_type": "execute_result"
    }
   ],
   "source": [
    "# La porta d'ingresso è una porta normale con l'aggiunta\n",
    "# dei dettagli delle finestre grandi:\n",
    "def portaIngresso():\n",
    "    portaI = porta()\n",
    "    # Creiamo la cornice esterna:\n",
    "    cornice = STRUCT([\n",
    "        T([1,3])([-0.05,0.2])(CUBOID([0.05,3,0.01])),\n",
    "        T([1,3])([1.2,0.2])(CUBOID([0.05,3,0.01])),\n",
    "        T(1)(-0.2)(CUBOID([0.2,3,0.01])),\n",
    "        T(1)(-0.01)(CUBOID([0.01,3,0.2])),\n",
    "        T([1,2])([1.2,0.01])(CUBOID([0.01,3,0.2])),\n",
    "        T(1)(1.2)(CUBOID([0.2,3,0.01]))\n",
    "    ])\n",
    "    # Con MKPOL creiamo la struttura triangolare superiore:\n",
    "    verts1 = [[0,0,0],[0.2,0,0],[0.8,0.2,0],[1.4,0,0],[1.6,0,0],[0.8,0.3,0]]\n",
    "    cells = [[1,2,3,6],[3,4,5,6]]\n",
    "    pols = [[1],[2]]\n",
    "    dettaglio1= OFFSET([0,0,0.2])(MKPOL([verts1,cells,pols]))\n",
    "    verts2 = [[0.2,0,0],[0.25,0,0],[0.8,0.2,0],[1.4,0,0],[1.45,0,0],[0.8,0.25,0]]\n",
    "    dettaglio2 = OFFSET([0,0,0.24])(MKPOL([verts2,cells,pols]))\n",
    "    dettaglio3 = STRUCT([\n",
    "        TEXTURE('Texture/pietra3.jpg')(T(1)(0.2)(CUBOID([1.2,0.04,0.2]))),\n",
    "        TEXTURE('Texture/pietra2.jpg')(T(1)(0.25)(CUBOID([1.15,0.005,0.25]))),\n",
    "        TEXTURE('Texture/pietra2.jpg')(T([1,2])([0.35,0.04])(CUBOID([0.95,0.005,0.25])))\n",
    "    ])\n",
    "    triangolo = STRUCT([\n",
    "        TEXTURE('Texture/pietra2.jpg')(dettaglio1),\n",
    "        TEXTURE('Texture/pietra1.jpg')(dettaglio2),\n",
    "        dettaglio3\n",
    "    ])\n",
    "    # Creiamo i riccioli laterali:\n",
    "    dettaglio4 = DIFFERENCE([T([2,3])([0.06,0.2])(R([1,3])(-PI/2)(CYLINDER([0.06,0.04])(20))),T(2)(0.1)(CUBOID([0.1,0.1,0.27]))])\n",
    "    dettaglio5 = T([2,3])([0.07,0.03])(R([1,3])(-PI/2)(CYLINDER([0.03,0.04])(20)))\n",
    "    dettaglio6 = OFFSET([0.04,0,0])(MKPOL([[[0,0.1,0.02],[0,0.005,0.2],[0,0.04,0.2]],[[1,2,3]],[[1]]]))\n",
    "    ricciolo1 = T([1,2,3])([-0.14,1.75,0.1])(R([2,3])(-PI/2)(STRUCT([dettaglio4,dettaglio5,dettaglio6])))\n",
    "    ricciolo = STRUCT([ricciolo1,T(1)(0.05)(ricciolo1)])\n",
    "    # Uniamo il tutto:\n",
    "    return STRUCT([\n",
    "        T(3)(-0.3)(portaI),\n",
    "        TEXTURE('Texture/pietra2.jpg')(cornice),\n",
    "        T([1,2])([-0.2,3])(triangolo),\n",
    "        TEXTURE('Texture/pietra3.jpg')(T([1,2])([-0.05,0.95])(ricciolo)),\n",
    "        TEXTURE('Texture/pietra3.jpg')(T([1,2])([1.44,0.95])(ricciolo))\n",
    "    ])\n",
    "\n",
    "VIEW(portaIngresso())"
   ]
  },
  {
   "cell_type": "markdown",
   "metadata": {},
   "source": [
    "![ws7_portaIngr.png](files/Immagini/ws7_portaIngr.png)"
   ]
  },
  {
   "cell_type": "markdown",
   "metadata": {},
   "source": [
    "<hr>"
   ]
  },
  {
   "cell_type": "markdown",
   "metadata": {},
   "source": [
    "### - Porta retro:"
   ]
  },
  {
   "cell_type": "code",
   "execution_count": 12,
   "metadata": {},
   "outputs": [
    {
     "name": "stdout",
     "output_type": "stream",
     "text": [
      "Child 3\n"
     ]
    },
    {
     "data": {
      "text/plain": [
       "<pyplasm.xgepy.Hpc; proxy of <Swig Object of type 'std::shared_ptr< Hpc > *' at 0x000000000DEE5CC0> >"
      ]
     },
     "execution_count": 12,
     "metadata": {},
     "output_type": "execute_result"
    }
   ],
   "source": [
    "# La porta sul retro è più grande delle porte normali, \n",
    "# è fatta di vetro ed è protetta da grate:\n",
    "def portaRetro():\n",
    "    portaR1 = CUBOID([2,4,0.5])\n",
    "    portaR = hex_material(\"#ffffff\", \"#ffffff\",0.4)(portaR1)\n",
    "    tuboGrataOrizzontaleGrosso = R([1,3])(-PI/2)(CYLINDER([0.05,2])(20))\n",
    "    tuboGrataOrizzontaleFino = R([1,3])(-PI/2)(CYLINDER([0.02,2])(20))\n",
    "    tuboGrataVerticaleGrosso = R([2,3])(-PI/2)(CYLINDER([0.05,4.08])(20))\n",
    "    serratura = STRUCT([\n",
    "        TEXTURE('Texture/ferro1.jpg')(T([1,2])([0.85,2])(CUBOID([0.4,0.2,0.05]))),\n",
    "        TEXTURE('Texture/ottone1.jpg')(T([1,2,3])([1.15,2.1,0.1])(JOIN(SPHERE(0.05)([18,36]))))   \n",
    "    ])\n",
    "    grata = TEXTURE('Texture/ferro1.jpg')(STRUCT([\n",
    "        T(2)(3.4)(tuboGrataOrizzontaleGrosso),\n",
    "        STRUCT(NN(5)([T(2)(3)(tuboGrataOrizzontaleFino),T(2)(0.2)])),\n",
    "        T(2)(2)(tuboGrataOrizzontaleFino),\n",
    "        T(2)(2.2)(tuboGrataOrizzontaleFino),\n",
    "        T(2)(0.4)(tuboGrataOrizzontaleFino),\n",
    "        T(2)(0.2)(tuboGrataOrizzontaleFino),\n",
    "        tuboGrataOrizzontaleGrosso,\n",
    "        T(2)(4)(tuboGrataOrizzontaleGrosso),\n",
    "        T(2)(-0.04)(tuboGrataVerticaleGrosso),\n",
    "        T([1,2])([2,-0.04])(tuboGrataVerticaleGrosso),\n",
    "        T([1,2])([1,-0.04])(tuboGrataVerticaleGrosso),\n",
    "    ]))\n",
    "    return STRUCT([\n",
    "        T(3)(-0.5)(portaR),\n",
    "        TEXTURE('Texture/mattoni2.jpg')(T([1,2])([1,2.4])(Arch(2.4,0.4,0.02,0.7*PI))),\n",
    "        grata,\n",
    "        serratura,\n",
    "    ])\n",
    "\n",
    "VIEW(portaRetro())"
   ]
  },
  {
   "cell_type": "markdown",
   "metadata": {},
   "source": [
    "![ws7_portaRetro.png](files/Immagini/ws7_portaRetro.png)"
   ]
  },
  {
   "cell_type": "markdown",
   "metadata": {},
   "source": [
    "<hr>"
   ]
  },
  {
   "cell_type": "markdown",
   "metadata": {},
   "source": [
    "### - Scale interne:"
   ]
  },
  {
   "cell_type": "code",
   "execution_count": 13,
   "metadata": {},
   "outputs": [
    {
     "data": {
      "text/plain": [
       "<pyplasm.xgepy.Hpc; proxy of <Swig Object of type 'std::shared_ptr< Hpc > *' at 0x000000000E112990> >"
      ]
     },
     "execution_count": 13,
     "metadata": {},
     "output_type": "execute_result"
    }
   ],
   "source": [
    "# Scale interne:\n",
    "def scaleInterne():\n",
    "    scale1 = T(2)(-0.5)(R([1,3])(PI)(STRUCT(NN(4)([CUBOID([1,0.5,2]),T([1,2])([-0.5,-0.5])]))))\n",
    "    scale2 = T([1,2,3])([1.5,-2.5,-4])(STRUCT(NN(4)([CUBOID([1,0.5,2]),T([1,2])([-0.5,-0.5])])))\n",
    "    pianerottolo1 = T([1,3])([-2,-4])(CUBOID([2,0.1,4]))\n",
    "    pianerottolo2 = T([1,2])([3.5,-2])(pianerottolo1)\n",
    "    return STRUCT([\n",
    "        TEXTURE('Texture/pietra2.jpg')(scale1),\n",
    "        TEXTURE('Texture/pietra2.jpg')(scale2),\n",
    "        TEXTURE('Texture/pavimento1.jpg')(pianerottolo1),\n",
    "        TEXTURE('Texture/pavimento1.jpg')(pianerottolo2)\n",
    "    ])\n",
    "\n",
    "scaleInterneTot = STRUCT([\n",
    "    T([1,3])([29.5,13.5])(scaleInterne()),\n",
    "    T([1,3])([16,9.5])(R([1,3])(PI)((scaleInterne())))\n",
    "])\n",
    "\n",
    "VIEW(scaleInterneTot)"
   ]
  },
  {
   "cell_type": "markdown",
   "metadata": {},
   "source": [
    "![ws7_scaleInt.png](files/Immagini/ws7_scaleInt.png)"
   ]
  },
  {
   "cell_type": "markdown",
   "metadata": {},
   "source": [
    "<hr>"
   ]
  },
  {
   "cell_type": "markdown",
   "metadata": {},
   "source": [
    "## - Piano terra completo:"
   ]
  },
  {
   "cell_type": "code",
   "execution_count": 14,
   "metadata": {},
   "outputs": [
    {
     "name": "stdout",
     "output_type": "stream",
     "text": [
      "Child 3\n",
      "Child 3\n"
     ]
    },
    {
     "data": {
      "text/plain": [
       "<pyplasm.xgepy.Hpc; proxy of <Swig Object of type 'std::shared_ptr< Hpc > *' at 0x000000000E13FD80> >"
      ]
     },
     "execution_count": 14,
     "metadata": {},
     "output_type": "execute_result"
    }
   ],
   "source": [
    "# Uniamo (per facilitare la computazione) tutti i fori da sottrarre alla struttura iniziale:\n",
    "buchiTotPT = STRUCT([buchiPortePT,buchiFinestrePT])\n",
    "differenzaPT = DIFFERENCE([pianoTerra(h),buchiTotPT])\n",
    "\n",
    "VIEW(differenzaPT)\n",
    "\n",
    "# Pavimento:\n",
    "cross = STRUCT([\n",
    "    CUBOID([18,0.1,9.5]),\n",
    "    T([1,3])([4.5,-4])(CUBOID([9.5,0.1,18]))\n",
    "])\n",
    "pavimento = STRUCT([\n",
    "    TEXTURE('Texture/pavimento2.jpg')(CUBOID([5,0.1,10])),\n",
    "    TEXTURE('Texture/pavimento1.jpg')(T(1)(4.5)(CUBOID([9.5,0.1,10]))),\n",
    "    TEXTURE('Texture/pavimento3.jpg')(T(1)(14)(cross)),\n",
    "    TEXTURE('Texture/pavimento1.jpg')(T(1)(31.5)(CUBOID([10,0.1,10]))),\n",
    "    TEXTURE('Texture/pavimento2.jpg')(T(1)(41)(CUBOID([4.5,0.1,10]))),\n",
    "    TEXTURE('Texture/pavimento4.jpg')(T(3)(10)(CUBOID([12.5,0.1,12]))),\n",
    "    #TEXTURE('Texture/pavimento2.jpg')(T([1,3])([13,10])(CUBOID([5,0.1,4]))),\n",
    "    #TEXTURE('Texture/pavimento2.jpg')(T([1,3])([28,10])(CUBOID([5,0.1,4]))),\n",
    "    TEXTURE('Texture/pavimento4.jpg')(T([1,3])([33,10])(CUBOID([12.5,0.1,12])))\n",
    "])\n",
    "\n",
    "# Il piano terra è l'unione di tutti gli elementi d'arredo:\n",
    "pianoTerraTot = STRUCT([\n",
    "    COLOR([0.9,0.8,0.7])(differenzaPT),\n",
    "    portePT,\n",
    "    finestrePT,\n",
    "    T([1,3])([22.4,14])(portaIngresso()),\n",
    "    R([1,3])(PI)(T([1,3])([-24,4])(portaRetro())),\n",
    "    scaleInterneTot,\n",
    "    pavimento\n",
    "])\n",
    "\n",
    "VIEW(pianoTerraTot)"
   ]
  },
  {
   "cell_type": "markdown",
   "metadata": {},
   "source": [
    "![ws7_PTCompleto1.png](files/Immagini/ws7_PTCompleto1.png)"
   ]
  },
  {
   "cell_type": "markdown",
   "metadata": {},
   "source": [
    "![ws7_PTCompleto2.png](files/Immagini/ws7_PTCompleto2.png)"
   ]
  },
  {
   "cell_type": "markdown",
   "metadata": {},
   "source": [
    "![ws7_PTCompleto3.png](files/Immagini/ws7_PTCompleto3.png)"
   ]
  },
  {
   "cell_type": "markdown",
   "metadata": {},
   "source": [
    "![ws7_PTCompleto4.png](files/Immagini/ws7_PTCompleto4.png)"
   ]
  },
  {
   "cell_type": "markdown",
   "metadata": {},
   "source": [
    "<hr>"
   ]
  },
  {
   "cell_type": "markdown",
   "metadata": {},
   "source": [
    "## Struttura primo piano:"
   ]
  },
  {
   "cell_type": "code",
   "execution_count": 15,
   "metadata": {},
   "outputs": [
    {
     "data": {
      "text/plain": [
       "<pyplasm.xgepy.Hpc; proxy of <Swig Object of type 'std::shared_ptr< Hpc > *' at 0x000000000E13FC30> >"
      ]
     },
     "execution_count": 15,
     "metadata": {},
     "output_type": "execute_result"
    }
   ],
   "source": [
    "# Utilizziamo la funzione usata per il piano terra per realizzare\n",
    "# un primo piano con muri più bassi:\n",
    "pianoPrimo = T(2)(h)(pianoTerra(h-2))\n",
    "\n",
    "VIEW(STRUCT([pianoTerraTot,pianoPrimo]))"
   ]
  },
  {
   "cell_type": "markdown",
   "metadata": {},
   "source": [
    "![ws7_strutturaPP.png](files/Immagini/ws7_strutturaPP.png)"
   ]
  },
  {
   "cell_type": "markdown",
   "metadata": {},
   "source": [
    "### - Finestre:"
   ]
  },
  {
   "cell_type": "code",
   "execution_count": 16,
   "metadata": {},
   "outputs": [
    {
     "data": {
      "text/plain": [
       "<pyplasm.xgepy.Hpc; proxy of <Swig Object of type 'std::shared_ptr< Hpc > *' at 0x000000000E0EDE70> >"
      ]
     },
     "execution_count": 16,
     "metadata": {},
     "output_type": "execute_result"
    }
   ],
   "source": [
    "# Aggiungiamo un nuovo tipo di finestra:\n",
    "# La finestra sul retro è simile alla porta sul retro, ma più semplice:\n",
    "def finestraGrateVetro():\n",
    "    finestraGV1 = CUBOID([1.5,1.5,0.5])\n",
    "    finestraGV = hex_material(\"#ffffff\", \"#ffffff\",0.4)(finestraGV1)\n",
    "    tuboGrataOrizzontale = R([1,3])(-PI/2)(CYLINDER([0.02,1.53])(20))\n",
    "    tuboGrataVerticale = R([2,3])(-PI/2)(CYLINDER([0.02,1.5])(20))\n",
    "    grata = TEXTURE('Texture/ferro1.jpg')(STRUCT([\n",
    "        STRUCT(NN(6)([T(1)(-0.015)(tuboGrataOrizzontale),T(2)(0.3)])),\n",
    "        STRUCT(NN(6)([tuboGrataVerticale,T(1)(0.3)])),\n",
    "    ]))\n",
    "    return STRUCT([\n",
    "        TEXTURE('Texture/mattoni2.jpg')(T([1,2,3])([0.75,0.1,-0.02])(Arch(2,0.3,0.02,0.7*PI))),\n",
    "        finestraGV,\n",
    "        grata\n",
    "    ])\n",
    "    \n",
    "VIEW(finestraGrateVetro())"
   ]
  },
  {
   "cell_type": "markdown",
   "metadata": {},
   "source": [
    "![ws7_finGrateV.png](files/Immagini/ws7_finGrateV.png)"
   ]
  },
  {
   "cell_type": "markdown",
   "metadata": {},
   "source": [
    "### - Fori per le finestre:"
   ]
  },
  {
   "cell_type": "code",
   "execution_count": 17,
   "metadata": {},
   "outputs": [
    {
     "data": {
      "text/plain": [
       "<pyplasm.xgepy.Hpc; proxy of <Swig Object of type 'std::shared_ptr< Hpc > *' at 0x000000000E13FF00> >"
      ]
     },
     "execution_count": 17,
     "metadata": {},
     "output_type": "execute_result"
    }
   ],
   "source": [
    "# Facciamo i fori del primo piano:\n",
    "# questi riguardano solo finestre piccole ed una finestra particolare,\n",
    "# posta sopra alla porta secondaria:\n",
    "buchiFinestrePP = STRUCT([\n",
    "    # Finestre piccole:\n",
    "    # - laterale sx:\n",
    "    T([2,3])([2,5])(finPZ),\n",
    "    T([2,3])([2,13])(finPZ),\n",
    "    T([2,3])([2,18])(finPZ),\n",
    "    # - laterale dx:\n",
    "    T([1,2,3])([45.5,2,5])(finPZ),\n",
    "    T([1,2,3])([45.5,2,13])(finPZ),\n",
    "    T([1,2,3])([45.5,2,18])(finPZ),\n",
    "    # - dietro:\n",
    "    T([1,2])([2,2.8])(finPX),\n",
    "    T(1)(2)(finPX),\n",
    "    T([1,2])([6.5,2.8])(finPX),\n",
    "    T(1)(6.5)(finPX),\n",
    "    T([1,2])([10.5,2.8])(finPX),\n",
    "    T(1)(10.5)(finPX),\n",
    "    T([1,2])([34.5,2.8])(finPX),\n",
    "    T(1)(34.5)(finPX),\n",
    "    T([1,2])([38.5,2.8])(finPX),\n",
    "    T(1)(38.5)(finPX),\n",
    "    T([1,2])([43,2.8])(finPX),\n",
    "    T(1)(43)(finPX),\n",
    "    # Finestra retro:\n",
    "    T([1,2,3])([22.25,1.5,-4])(CUBOID([1.5,1.5,0.5]))    \n",
    "])\n",
    "\n",
    "pianoPrimoBuchiFinestre = DIFFERENCE([pianoPrimo,T(2)(h)(buchiFinestrePP)])\n",
    "\n",
    "VIEW(pianoPrimoBuchiFinestre)\n",
    "\n",
    "VIEW(STRUCT([pianoTerraTot,pianoPrimoBuchiFinestre]))"
   ]
  },
  {
   "cell_type": "markdown",
   "metadata": {},
   "source": [
    "![ws7_foriFinPP1.png](files/Immagini/ws7_foriFinPP1.png)"
   ]
  },
  {
   "cell_type": "markdown",
   "metadata": {},
   "source": [
    "![ws7_foriFinPP2.png](files/Immagini/ws7_foriFinPP2.png)"
   ]
  },
  {
   "cell_type": "markdown",
   "metadata": {},
   "source": [
    "### - Inserimento finestre:"
   ]
  },
  {
   "cell_type": "code",
   "execution_count": 18,
   "metadata": {},
   "outputs": [
    {
     "data": {
      "text/plain": [
       "<pyplasm.xgepy.Hpc; proxy of <Swig Object of type 'std::shared_ptr< Hpc > *' at 0x000000000DEF2B10> >"
      ]
     },
     "execution_count": 18,
     "metadata": {},
     "output_type": "execute_result"
    }
   ],
   "source": [
    "# Posizioniamo le finestre nei fori:\n",
    "finestrePP = STRUCT([\n",
    "    #\n",
    "    # Finestre dietro:\n",
    "    T([1,2])([3,2.8])(finestraPiccolaR),\n",
    "    T(1)(3)(finestraPiccolaR),\n",
    "    T([1,2])([7.5,2.8])(finestraPiccolaR),\n",
    "    T(1)(7.5)(finestraPiccolaR),\n",
    "    T([1,2])([11.5,2.8])(finestraPiccolaR),\n",
    "    T(1)(11.5)(finestraPiccolaR),\n",
    "    T([1,2])([35.5,2.8])(finestraPiccolaR),\n",
    "    T(1)(35.5)(finestraPiccolaR),\n",
    "    T([1,2])([39.5,2.8])(finestraPiccolaR),\n",
    "    T(1)(39.5)(finestraPiccolaR),\n",
    "    T([1,2])([44,2.8])(finestraPiccolaR),\n",
    "    T(1)(44)(finestraPiccolaR),\n",
    "    #\n",
    "    # Finestre laterali:\n",
    "    # - sx:\n",
    "    T([2,3])([2,5])(finestraPiccolaLSX),\n",
    "    T([2,3])([2,13])(finestraPiccolaLSX),\n",
    "    T([2,3])([2,18])(finestraPiccolaLSX),\n",
    "    # - dx:\n",
    "    T([1,2,3])([46,2,6])(finestraPiccolaLDX),\n",
    "    T([1,2,3])([46,2,14])(finestraPiccolaLDX),\n",
    "    T([1,2,3])([46,2,19])(finestraPiccolaLDX),\n",
    "    # Finestra retro:\n",
    "    T([1,2,3])([22.25,1.5,-4.02])(finestraGrateVetro())   \n",
    "])\n",
    "\n",
    "pianoPrimoFinestre = STRUCT([\n",
    "    pianoPrimoBuchiFinestre,\n",
    "    T(2)(h)(finestrePP)\n",
    "])\n",
    "\n",
    "VIEW(pianoPrimoFinestre)"
   ]
  },
  {
   "cell_type": "markdown",
   "metadata": {},
   "source": [
    "![ws7_insFinPP.png](files/Immagini/ws7_insFinPP.png)"
   ]
  },
  {
   "cell_type": "markdown",
   "metadata": {},
   "source": [
    "<hr>"
   ]
  },
  {
   "cell_type": "markdown",
   "metadata": {},
   "source": [
    "## - Primo piano completo:"
   ]
  },
  {
   "cell_type": "code",
   "execution_count": 19,
   "metadata": {
    "scrolled": true
   },
   "outputs": [
    {
     "data": {
      "text/plain": [
       "<pyplasm.xgepy.Hpc; proxy of <Swig Object of type 'std::shared_ptr< Hpc > *' at 0x000000000E13FA50> >"
      ]
     },
     "execution_count": 19,
     "metadata": {},
     "output_type": "execute_result"
    }
   ],
   "source": [
    "# Unione di piano terra e primo piano:\n",
    "pianoPrimoTot = COLOR([0.9,0.8,0.7])(pianoPrimoFinestre)\n",
    "\n",
    "VIEW(STRUCT([pianoTerraTot,pianoPrimoTot]))"
   ]
  },
  {
   "cell_type": "markdown",
   "metadata": {},
   "source": [
    "![ws7_PPCompleto1.png](files/Immagini/ws7_PPCompleto1.png)"
   ]
  },
  {
   "cell_type": "markdown",
   "metadata": {},
   "source": [
    "![ws7_PPCompleto2.png](files/Immagini/ws7_PPCompleto2.png)"
   ]
  },
  {
   "cell_type": "markdown",
   "metadata": {},
   "source": [
    "<hr>"
   ]
  },
  {
   "cell_type": "markdown",
   "metadata": {},
   "source": [
    "## Struttura piano sotterraneo:"
   ]
  },
  {
   "cell_type": "markdown",
   "metadata": {},
   "source": [
    "### - Archi interni:"
   ]
  },
  {
   "cell_type": "code",
   "execution_count": 20,
   "metadata": {},
   "outputs": [
    {
     "data": {
      "text/plain": [
       "<pyplasm.xgepy.Hpc; proxy of <Swig Object of type 'std::shared_ptr< Hpc > *' at 0x000000000DEF32A0> >"
      ]
     },
     "execution_count": 20,
     "metadata": {},
     "output_type": "execute_result"
    }
   ],
   "source": [
    "# Definiammo delle funzioni per la realizzazione di archi:\n",
    "\n",
    "dominioA = PROD([PROD([INTERVALS(1)(30),INTERVALS(1)(1)]),QUOTE([1])])\n",
    "\n",
    "def bottomArc(d):\n",
    "    return BEZIER(S1)([[0,0,0],[0,2*d/3,0],[d,2*d/3,0],[d,0,0]])\n",
    "\n",
    "def bottomArcProf(d):\n",
    "    return BEZIER(S1)([[0,0,0.5],[0,2*d/3,0.5],[d,2*d/3,0.5],[d,0,0.5]])\n",
    "\n",
    "def downArc(d):\n",
    "    return BEZIER(S1)([[0,0,0],[d,0,0]])\n",
    "\n",
    "def downArcProf(d):\n",
    "    return BEZIER(S1)([[0,0,0.5],[d,0,0.5]])\n",
    "\n",
    "#VIEW(MAP(bottomArc(2))(dominioA))\n",
    "#VIEW(MAP(bottomArcProf(2))(dominioA))\n",
    "\n",
    "#VIEW(MAP(downArc(2))(dominioA))\n",
    "#VIEW(MAP(downArcProf(2))(dominioA))\n",
    "\n",
    "def arc2DSott(d):\n",
    "    return BEZIER(S2)([bottomArc(d),downArc(d)])\n",
    "\n",
    "def arc2DSottProf(d):\n",
    "    return BEZIER(S2)([bottomArcProf(d),downArcProf(d)])\n",
    "\n",
    "#VIEW(MAP(arc2DSott(2))(dominioA))\n",
    "#VIEW(MAP(arc2DSottProf(2))(dominioA))\n",
    "\n",
    "def arc3DSott(d):\n",
    "    return BEZIER(S3)([arc2DSott(d),arc2DSottProf(d)])\n",
    "\n",
    "arcoSotterraneo = STRUCT([\n",
    "    T(2)(3)(MAP(arc3DSott(2))(dominioA)),\n",
    "    CUBOID([2,3,0.5])\n",
    "])\n",
    "\n",
    "VIEW(arcoSotterraneo)"
   ]
  },
  {
   "cell_type": "markdown",
   "metadata": {},
   "source": [
    "![ws7_archiInt.png](files/Immagini/ws7_archiInt.png)"
   ]
  },
  {
   "cell_type": "markdown",
   "metadata": {},
   "source": [
    "<hr>"
   ]
  },
  {
   "cell_type": "markdown",
   "metadata": {},
   "source": [
    "### - Finestre:"
   ]
  },
  {
   "cell_type": "code",
   "execution_count": 21,
   "metadata": {},
   "outputs": [],
   "source": [
    "# Le finestrelle del piano sotterraneo sono piccole, con grate e senza vetri:\n",
    "def finestraGrate():\n",
    "    tuboGrataOrizzontale = R([1,3])(-PI/2)(CYLINDER([0.02,0.9])(20))\n",
    "    tuboGrataVerticale = R([2,3])(-PI/2)(CYLINDER([0.02,0.9])(20))\n",
    "    grata = TEXTURE('Texture/ferro1.jpg')(STRUCT([\n",
    "        STRUCT(NN(2)([T(2)(0.3)(tuboGrataOrizzontale),T(2)(0.3)])),\n",
    "        STRUCT(NN(2)([T(1)(0.3)(tuboGrataVerticale),T(1)(0.3)])),\n",
    "    ]))\n",
    "    corniceExt = TEXTURE('Texture/pietra2.jpg')(STRUCT([\n",
    "        T([1,2])([-0.15,-0.15])(CUBOID([1.2,0.15,0.01])),\n",
    "        T([1,2])([-0.15,0.9])(CUBOID([1.2,0.15,0.01])),\n",
    "        T(1)(-0.15)(CUBOID([0.15,0.9,0.01])),\n",
    "        T(1)(0.9)(CUBOID([0.15,0.9,0.01]))\n",
    "    ]))\n",
    "    corniceInt = TEXTURE('Texture/pietra2.jpg')(STRUCT([\n",
    "        CUBOID([0.01,0.9,0.5]),\n",
    "        T(1)(0.89)(CUBOID([0.01,0.9,0.5])),\n",
    "        CUBOID([0.9,0.01,0.5]),\n",
    "        T(2)(0.89)(CUBOID([0.9,0.01,0.5]))\n",
    "    ]))\n",
    "    return STRUCT([\n",
    "        T(3)(0.25)(grata),\n",
    "        T(3)(-0.01)(corniceExt),\n",
    "        corniceInt\n",
    "    ])\n",
    "    \n",
    "VIEW(finestraGrate())\n",
    "\n",
    "# Dimensione della finestra, utile per i fori:\n",
    "finestraG = CUBOID([0.9,0.9,0.5])"
   ]
  },
  {
   "cell_type": "markdown",
   "metadata": {},
   "source": [
    "![ws7_finGrate.png](files/Immagini/ws7_finGrate.png)"
   ]
  },
  {
   "cell_type": "markdown",
   "metadata": {},
   "source": [
    "### - Fori per porte e finestre:"
   ]
  },
  {
   "cell_type": "code",
   "execution_count": 22,
   "metadata": {},
   "outputs": [
    {
     "data": {
      "text/plain": [
       "<pyplasm.xgepy.Hpc; proxy of <Swig Object of type 'std::shared_ptr< Hpc > *' at 0x000000000DEF3AB0> >"
      ]
     },
     "execution_count": 22,
     "metadata": {},
     "output_type": "execute_result"
    }
   ],
   "source": [
    "# Utilizziamo la funzione usata per il piano terra per realizzare\n",
    "# un piano sotterraneo con muri più bassi, e usiamo le differenze\n",
    "# per ottenere dei fori per la creazione di archi di passaggio:\n",
    "diffSotterraneo = STRUCT([\n",
    "    T([1,3])([18,9.5])(CUBOID([10,h-4,4])),\n",
    "    T([1,3])([4.5,6])(R([1,3])(-PI/2)(arcoSotterraneo)),\n",
    "    T([1,3])([14,6])(R([1,3])(-PI/2)(arcoSotterraneo)),\n",
    "    T([1,3])([31.5,6])(R([1,3])(-PI/2)(arcoSotterraneo)),\n",
    "    T([1,3])([41,6])(R([1,3])(-PI/2)(arcoSotterraneo)),\n",
    "    T([1,3])([8.5,9.5])(arcoSotterraneo),\n",
    "    T([1,3])([36,9.5])(arcoSotterraneo),\n",
    "    # porta secondaria:\n",
    "    T([1,3])([22.3,-4])(CUBOID([1.2,3,0.5])),\n",
    "    # porta secondaria laterale (sx):\n",
    "    T(3)(12)(R([1,3])(-PI/2)(CUBOID([1.2,3,0.5]))),\n",
    "    # finestra grate vetro laterale (sx):\n",
    "    T([2,3])([1.5,18])(R([1,3])(-PI/2)(CUBOID([1.5,1.5,0.5]))),\n",
    "    #\n",
    "    # finestrelle con grate:\n",
    "    # - retro:\n",
    "    T([1,2])([3,1.5])(finestraG),\n",
    "    T([1,2])([9,1.5])(finestraG),\n",
    "    T([1,2])([15,1.5])(finestraG),\n",
    "    T([1,2])([30.1,1.5])(finestraG),\n",
    "    T([1,2])([36.1,1.5])(finestraG),\n",
    "    T([1,2])([42.1,1.5])(finestraG),\n",
    "    # - davanti:\n",
    "    T([1,2,3])([3,1.5,22])(finestraG),\n",
    "    T([1,2,3])([9,1.5,22])(finestraG),\n",
    "    T([1,2,3])([36.1,1.5,22])(finestraG),\n",
    "    T([1,2,3])([42.1,1.5,22])(finestraG)\n",
    "])\n",
    "sotterraneo = DIFFERENCE([pianoTerra(h-3),diffSotterraneo])\n",
    "pianoSotterraneoBuchi = COLOR([0.9,0.8,0.7])(T(2)(-(h-3))(sotterraneo))\n",
    "\n",
    "VIEW(pianoSotterraneoBuchi)"
   ]
  },
  {
   "cell_type": "markdown",
   "metadata": {},
   "source": [
    "![ws7_foriPS.png](files/Immagini/ws7_foriPS.png)"
   ]
  },
  {
   "cell_type": "markdown",
   "metadata": {},
   "source": [
    "<hr>"
   ]
  },
  {
   "cell_type": "markdown",
   "metadata": {},
   "source": [
    "### - Scala frontale:"
   ]
  },
  {
   "cell_type": "code",
   "execution_count": 23,
   "metadata": {},
   "outputs": [
    {
     "data": {
      "text/plain": [
       "<pyplasm.xgepy.Hpc; proxy of <Swig Object of type 'std::shared_ptr< Hpc > *' at 0x000000000DEF36C0> >"
      ]
     },
     "execution_count": 23,
     "metadata": {},
     "output_type": "execute_result"
    }
   ],
   "source": [
    "# Scala frontale:\n",
    "def scalaFrontale():\n",
    "    scale = STRUCT(NN(9)([CUBOID([5,0.5,1.5]),T([2,3])([-0.5,0.75])]))\n",
    "    colonnina = STRUCT([\n",
    "        TEXTURE('Texture/mattoni3.jpg')(CUBOID([1,2.5,1])),\n",
    "        TEXTURE('Texture/pietra1.jpg')(T([1,2,3])([-0.05,2.5,-0.05])(CUBOID([1.1,0.1,1.1]))),\n",
    "        TEXTURE('Texture/mattoni3.jpg')(T([1,2,3])([0.05,2.6,0.05])(CUBOID([0.9,0.3,0.9]))),\n",
    "        TEXTURE('Texture/pietra1.jpg')(T([1,2,3])([-0.05,2.9,-0.05])(CUBOID([1.1,0.1,1.1])))\n",
    "    ])\n",
    "    muretto = T([1,2])([-0.5,-4])(STRUCT([\n",
    "        TEXTURE('Texture/pietra1.jpg')(OFFSET([0.5,0,0])(MKPOL([\n",
    "            [[0,0,0],[0,0,8],[0,2,8],[0,7,3],[0,7,0]],\n",
    "            [[1,2,3,4,5]],\n",
    "            [0]\n",
    "        ]))),\n",
    "        T([1,3])([-0.25,8])(colonnina)\n",
    "    ]))\n",
    "    \n",
    "    return STRUCT([\n",
    "        TEXTURE('Texture/mattoni3.jpg')(scale),\n",
    "        muretto,\n",
    "        T(1)(5.5)(muretto)\n",
    "    ])\n",
    "\n",
    "VIEW(scalaFrontale())"
   ]
  },
  {
   "cell_type": "markdown",
   "metadata": {},
   "source": [
    "![ws7_scalaFront.png](files/Immagini/ws7_scalaFront.png)"
   ]
  },
  {
   "cell_type": "markdown",
   "metadata": {},
   "source": [
    "<hr>"
   ]
  },
  {
   "cell_type": "markdown",
   "metadata": {},
   "source": [
    "### - Porta secondaria:"
   ]
  },
  {
   "cell_type": "code",
   "execution_count": 24,
   "metadata": {},
   "outputs": [
    {
     "name": "stdout",
     "output_type": "stream",
     "text": [
      "Child 3\n"
     ]
    },
    {
     "data": {
      "text/plain": [
       "<pyplasm.xgepy.Hpc; proxy of <Swig Object of type 'std::shared_ptr< Hpc > *' at 0x000000000E13F240> >"
      ]
     },
     "execution_count": 24,
     "metadata": {},
     "output_type": "execute_result"
    }
   ],
   "source": [
    "# La porta secondaria è una normale porta con l'archetto di mattoni sopra:\n",
    "def portaSecondaria():\n",
    "    return STRUCT([\n",
    "        porta(),\n",
    "        TEXTURE('Texture/mattoni2.jpg')(T([1,2,3])([0.58,1.5,-0.05])(Arch(2,0.3,0.02,0.7*PI)))\n",
    "    ])\n",
    "\n",
    "VIEW(portaSecondaria())"
   ]
  },
  {
   "cell_type": "markdown",
   "metadata": {},
   "source": [
    "![ws7_portaSec.png](files/Immagini/ws7_portaSec.png)"
   ]
  },
  {
   "cell_type": "markdown",
   "metadata": {},
   "source": [
    "<hr>"
   ]
  },
  {
   "cell_type": "markdown",
   "metadata": {},
   "source": [
    "### - Scala sul retro:"
   ]
  },
  {
   "cell_type": "code",
   "execution_count": 26,
   "metadata": {},
   "outputs": [
    {
     "data": {
      "text/plain": [
       "<pyplasm.xgepy.Hpc; proxy of <Swig Object of type 'std::shared_ptr< Hpc > *' at 0x000000000DEDB6F0> >"
      ]
     },
     "execution_count": 26,
     "metadata": {},
     "output_type": "execute_result"
    }
   ],
   "source": [
    "# Scriviamo una funzione per l'ornamento alla fine del corrimano,\n",
    "# utilizzando le curve di Bezier:\n",
    "def ricciolo():\n",
    "    curvaSX = BEZIER(S1)([\n",
    "        [0,0.05,-0.05],\n",
    "        [0,0,0],\n",
    "        [0,0,0.1],\n",
    "        [0,0.2,0.1],\n",
    "        [0,0.2,0],\n",
    "        [0,0.3,-0.1],\n",
    "    ])\n",
    "    curvaSpessore = BEZIER(S1)([\n",
    "        [0.03,0.05,-0.05],\n",
    "        [0.03,0,0],\n",
    "        [0.03,0,0.1],\n",
    "        [0.03,0.2,0.1],\n",
    "        [0.03,0.2,0],\n",
    "        [0.03,0.3,-0.1],\n",
    "    ])\n",
    "    curva2D = BEZIER(S2)([curvaSX,curvaSpessore]) \n",
    "    curvaDX = BEZIER(S1)([\n",
    "        [-0.03,0.05,-0.05],\n",
    "        [-0.03,0,0],\n",
    "        [-0.03,0,0.1],\n",
    "        [-0.03,0.2,0.1],\n",
    "        [-0.03,0.2,0],\n",
    "        [-0.03,0.3,-0.1],\n",
    "    ])\n",
    "    curvaSpessore2 = BEZIER(S1)([\n",
    "        [0,0.05,0],\n",
    "        [0,0,0.02],\n",
    "        [0,0,0.12],\n",
    "        [0,0.2,0.12],\n",
    "        [0,0.2,0.06],\n",
    "        [0,0.3,-0.05],\n",
    "    ])\n",
    "    curva2D1 = BEZIER(S2)([curvaDX,curvaSpessore2]) \n",
    "    \n",
    "    dominioR1 = PROD([INTERVALS(1)(32),INTERVALS(1)(1)])\n",
    "    dominioR = PROD([dominioR1,QUOTE([1])])\n",
    "    curva3D1 = BEZIER(S3)([curva2D,curva2D1]) \n",
    "\n",
    "    curva3D = MAP(curva3D1)(dominioR)\n",
    "    return curva3D\n",
    "    \n",
    "VIEW(ricciolo())"
   ]
  },
  {
   "cell_type": "markdown",
   "metadata": {},
   "source": [
    "![ws7_ricciolo.png](files/Immagini/ws7_ricciolo.png)"
   ]
  },
  {
   "cell_type": "code",
   "execution_count": 28,
   "metadata": {},
   "outputs": [
    {
     "name": "stdout",
     "output_type": "stream",
     "text": [
      "Child 3\n"
     ]
    },
    {
     "data": {
      "text/plain": [
       "<pyplasm.xgepy.Hpc; proxy of <Swig Object of type 'std::shared_ptr< Hpc > *' at 0x000000000E13FE40> >"
      ]
     },
     "execution_count": 28,
     "metadata": {},
     "output_type": "execute_result"
    }
   ],
   "source": [
    "# Scala sul retro:\n",
    "def scalaRetro():\n",
    "    gradini = STRUCT([\n",
    "        CUBOID([13.8,0.6,3]),\n",
    "        T([1,2])([0.6,0.6])(CUBOID([12.6,0.6,3])),\n",
    "        T([1,2])([1.2,1.2])(CUBOID([11.4,0.6,3])),\n",
    "        T([1,2])([1.8,1.8])(CUBOID([10.2,0.6,3])),\n",
    "        T([1,2])([2.4,2.4])(CUBOID([9,0.6,3])),\n",
    "        T([1,2])([3,3])(CUBOID([7.8,0.6,3])),\n",
    "        T([1,2])([3.6,3.6])(CUBOID([6.6,0.6,3])),\n",
    "        #T([1,2])([4.2,4.2])(CUBOID([5.4,0.6,3])),\n",
    "        #T([1,2])([4.8,4.8])(CUBOID([4.2,0.6,3])),\n",
    "        #T([1,2])([5.4,5.4])(CUBOID([3,0.6,3]))\n",
    "    ])\n",
    "    foro = T(1)(6.2)(CUBOID([1.2,3,3]))\n",
    "    scalaBucata = DIFFERENCE([gradini,foro])\n",
    "    dettaglioG1 = T([1,2])([3,-0.6])(CUBOID([0.65,0.05,3.05]))\n",
    "    dettaglioG2 = STRUCT(NN(6)([dettaglioG1,T([1,2])([0.6,-0.6])]))\n",
    "    dettaglioGradini = T(3)(-0.05)(STRUCT([\n",
    "        T(1)(-3.65)(CUBOID([6.7,0.05,3.05])),\n",
    "        dettaglioG2,\n",
    "        T([1,3])([-0.6,3.05])(R([1,3])(PI)(dettaglioG2))\n",
    "    ]))\n",
    "    # Tubo orizzontale:\n",
    "    tuboRO = R([1,3])(-PI/2)(CYLINDER([0.03,6.6])(20))\n",
    "    # Tubo inclinato di 45°:\n",
    "    tuboR45 = R([1,2])(-PI/4)(R([1,3])(-PI/2)(CYLINDER([0.03,5.6])(20)))\n",
    "    # Tubo verticale:\n",
    "    tuboRV = R([2,3])(-PI/2)(CYLINDER([0.02,2])(20))\n",
    "    corrimano = T([1,2])([10.2,4.2])(STRUCT([\n",
    "        T(2)(2)(tuboR45),\n",
    "        STRUCT(NN(7)([tuboRV,T([1,2])([0.6,-0.6])])),\n",
    "        T([1,2])([3.9,-2.11])(R([1,3])(-PI/2)(ricciolo()))\n",
    "    ]))\n",
    "    ringhiera = TEXTURE('Texture/ferro1.jpg')(STRUCT([\n",
    "        T([1,2])([3.6,6.2])(tuboRO),\n",
    "        T([1,2])([3.6,4.2])(STRUCT(NN(22)([tuboRV,T(1)(0.3)]))),\n",
    "        corrimano,\n",
    "        T(1)(13.8)(R([1,3])(-PI)(corrimano))\n",
    "        \n",
    "    ]))\n",
    "    return STRUCT([\n",
    "        TEXTURE('Texture/mattoni3M.jpg')(scalaBucata),\n",
    "        T(1)(6.2)(portaSecondaria()),\n",
    "        TEXTURE('Texture/pietra2.jpg')(T([1,2])([7.2,4.2])(dettaglioGradini)),\n",
    "        ringhiera\n",
    "    ])\n",
    "\n",
    "VIEW(scalaRetro())"
   ]
  },
  {
   "cell_type": "markdown",
   "metadata": {},
   "source": [
    "![ws7_scalaRetro1.png](files/Immagini/ws7_scalaRetro1.png)"
   ]
  },
  {
   "cell_type": "markdown",
   "metadata": {},
   "source": [
    "![ws7_scalaRetro2.png](files/Immagini/ws7_scalaRetro2.png)"
   ]
  },
  {
   "cell_type": "markdown",
   "metadata": {},
   "source": [
    "<hr>"
   ]
  },
  {
   "cell_type": "markdown",
   "metadata": {},
   "source": [
    "## - Piano sotterraneo completo:"
   ]
  },
  {
   "cell_type": "code",
   "execution_count": 30,
   "metadata": {},
   "outputs": [
    {
     "name": "stdout",
     "output_type": "stream",
     "text": [
      "Child 3\n",
      "Child 3\n"
     ]
    },
    {
     "data": {
      "text/plain": [
       "<pyplasm.xgepy.Hpc; proxy of <Swig Object of type 'std::shared_ptr< Hpc > *' at 0x000000000DEDB7B0> >"
      ]
     },
     "execution_count": 30,
     "metadata": {},
     "output_type": "execute_result"
    }
   ],
   "source": [
    "# Utilizziamo una variabile per salvare la struttura della finestra con grate ruotata:\n",
    "finestraGrateR = R([1,3])(PI)(finestraGrate())\n",
    "\n",
    "# Poniamo finestre e porte alla struttura del piano sotterraneo:\n",
    "pianoSotterraneo = STRUCT([\n",
    "    pianoSotterraneoBuchi,\n",
    "    # porta secondaria laterale (sx):\n",
    "    T([2,3])([-4,12])(R([1,3])(-PI/2)(porta())),\n",
    "    # finestra grate vetro laterale (sx):\n",
    "    T([1,2,3])([-0.01,-2.5,18])(R([1,3])(-PI/2)(finestraGrateVetro())),\n",
    "    #\n",
    "    # finestrelle con grate:\n",
    "    # - retro:\n",
    "    T([1,2])([3,-2.5])(finestraGrate()),\n",
    "    T([1,2])([9,-2.5])(finestraGrate()),\n",
    "    T([1,2])([15,-2.5])(finestraGrate()),\n",
    "    T([1,2])([30.1,-2.5])(finestraGrate()),\n",
    "    T([1,2])([36.1,-2.5])(finestraGrate()),\n",
    "    T([1,2])([42.1,-2.5])(finestraGrate()),\n",
    "    # - davanti:\n",
    "    T([1,2,3])([3.9,-2.5,22.5])(finestraGrateR),\n",
    "    T([1,2,3])([9.9,-2.5,22.5])(finestraGrateR),\n",
    "    T([1,2,3])([37,-2.5,22.5])(finestraGrateR),\n",
    "    T([1,2,3])([43,-2.5,22.5])(finestraGrateR)\n",
    "])\n",
    "\n",
    "VIEW(pianoSotterraneo)\n",
    "\n",
    "# Unione di piano terra, primo piano e piano sotterraneo:\n",
    "pianoSotterraneoTot = STRUCT([\n",
    "    COLOR([0.9,0.8,0.7])(pianoSotterraneo),\n",
    "    T([1,2,3])([20.5,0,22.4])(scalaFrontale()),\n",
    "    T([1,2,3])([16.1,-4,-7])(scalaRetro())\n",
    "])\n",
    "\n",
    "VIEW(STRUCT([pianoTerraTot,pianoPrimoTot,pianoSotterraneoTot]))"
   ]
  },
  {
   "cell_type": "markdown",
   "metadata": {},
   "source": [
    "![ws7_PSCompleto1.png](files/Immagini/ws7_PSCompleto1.png)"
   ]
  },
  {
   "cell_type": "markdown",
   "metadata": {},
   "source": [
    "![ws7_PSCompleto2.png](files/Immagini/ws7_PSCompleto2.png)"
   ]
  },
  {
   "cell_type": "markdown",
   "metadata": {},
   "source": [
    "![ws7_PSCompleto3.png](files/Immagini/ws7_PSCompleto3.png)"
   ]
  },
  {
   "cell_type": "markdown",
   "metadata": {},
   "source": [
    "<hr>"
   ]
  },
  {
   "cell_type": "markdown",
   "metadata": {},
   "source": [
    "## Facciata frontale:"
   ]
  },
  {
   "cell_type": "markdown",
   "metadata": {},
   "source": [
    "### - Colonne:"
   ]
  },
  {
   "cell_type": "code",
   "execution_count": 31,
   "metadata": {},
   "outputs": [
    {
     "data": {
      "text/plain": [
       "<pyplasm.xgepy.Hpc; proxy of <Swig Object of type 'std::shared_ptr< Hpc > *' at 0x000000000E13F750> >"
      ]
     },
     "execution_count": 31,
     "metadata": {},
     "output_type": "execute_result"
    }
   ],
   "source": [
    "# Definiamo una funzione per creare l'ondina della parte superiore della colonna:\n",
    "def ondina(d):\n",
    "    davanti = BEZIER(S1)([[0,0.1,0],[0,2*d/3,0],[d,2*d/3,0],[d,0.1,0]])\n",
    "    dietro = BEZIER(S1)([[0,0,0],[0,2*d/3,0.1],[d,2*d/3,0.1],[d,0,0]])\n",
    "    unione2D = BEZIER(S2)([dietro,davanti])\n",
    "    ultimo = BEZIER(S1)([[0,0.07,0],[0.07,2*d/3,0.07],[d-0.07,2*d/3,0.07],[d,0.07,0]])\n",
    "    unione3D = BEZIER(S3)([unione2D,ultimo])\n",
    "    return MAP(unione3D)(dominioA)\n",
    "\n",
    "d = 0.25\n",
    "VIEW(ondina(d))\n",
    "\n",
    "# Definiamo una funzione per creare la spirale della parte superiore della colonna:\n",
    "def spirale(r,h):\n",
    "    s1 = CYLINDER([r,h])(20)\n",
    "    s2 = CYLINDER([r-r/5,h])(20)\n",
    "    s3 = CYLINDER([r-r/3,h])(20)\n",
    "    s4 = CYLINDER([r/2,h])(20)\n",
    "    s5 = CYLINDER([r/4,h])(20)\n",
    "    return STRUCT([\n",
    "        s1,\n",
    "        T(3)(alt/2)(s2),\n",
    "        T(3)(alt)(s3),\n",
    "        T(3)(alt*3/2)(s4),\n",
    "        T(3)(alt*2)(s5)\n",
    "    ])\n",
    "r = 0.1\n",
    "alt = 0.01\n",
    "VIEW(spirale(r,alt))"
   ]
  },
  {
   "cell_type": "markdown",
   "metadata": {},
   "source": [
    "![ws7_ondina.png](files/Immagini/ws7_ondina.png)"
   ]
  },
  {
   "cell_type": "markdown",
   "metadata": {},
   "source": [
    "![ws7_spirale.png](files/Immagini/ws7_spirale.png)"
   ]
  },
  {
   "cell_type": "code",
   "execution_count": 32,
   "metadata": {},
   "outputs": [
    {
     "data": {
      "text/plain": [
       "<pyplasm.xgepy.Hpc; proxy of <Swig Object of type 'std::shared_ptr< Hpc > *' at 0x000000000E126F00> >"
      ]
     },
     "execution_count": 32,
     "metadata": {},
     "output_type": "execute_result"
    }
   ],
   "source": [
    "# Colonne (capitello composito):\n",
    "def colonna():\n",
    "    # Decoriamo la parte inferiore della colonna:\n",
    "    trapezio = T(1)(-0.1)(OFFSET([0,0,0.25])(MKPOL([\n",
    "        [[0,0,0],[1,0,0],[1,0.2,0],[0.9,0.5,0],[0.1,0.5,0],[0,0.2,0]],\n",
    "        [[1,2,3,4,5,6]],\n",
    "        [[1]]\n",
    "    ])))\n",
    "    triangolo = T([2,3])([0.5,0.1])(OFFSET([0.8,0,0])(MKPOL([\n",
    "        [[0,0,0],[0,0,0.15],[0,0.15,0]],\n",
    "        [[1,2,3]],\n",
    "        [[1]]\n",
    "    ])))\n",
    "    base = STRUCT([\n",
    "        T(1)(-0.1)(CUBOID([1,0.2,0.3])),\n",
    "        T([1,2])([-0.12,0.2])(CUBOID([1.04,0.05,0.35])),\n",
    "        T([1,2])([0,0.25])(CUBOID([0.8,0.05,0.25])),\n",
    "        T([1,2])([-0.05,0.3])(CUBOID([0.9,0.02,0.3])),\n",
    "        T([1,2])([-0.1,0.32])(CUBOID([1.02,0.05,0.32])),\n",
    "        T([1,2])([-0.05,0.37])(CUBOID([0.9,0.02,0.3])),\n",
    "        trapezio,\n",
    "    ])\n",
    "    # Decoriamo la parte superiore della colonna:\n",
    "    ondine = T([1,2,3])([0.08,7.5,0.1])(STRUCT([\n",
    "        ondina(d),\n",
    "        T(1)(0.4)(ondina(d)),\n",
    "        T([1,2])([0.2,0.1])(ondina(d)),\n",
    "        T([1,2])([-0.2,0.1])(ondina(d)),\n",
    "        T([1,2])([0.6,0.1])(ondina(d))\n",
    "    ]))\n",
    "    spiraleCompleta = STRUCT([\n",
    "        R([1,3])(3*PI/4)(spirale(r,alt)),\n",
    "        R([1,3])(7*PI/4)(spirale(r,alt))\n",
    "    ])\n",
    "    spirali = STRUCT([\n",
    "        spiraleCompleta,\n",
    "        T(1)(0.9)(R([1,3])(PI/2)(spiraleCompleta))\n",
    "    ])\n",
    "    tri = OFFSET([0,0,0.1])(MKPOL([\n",
    "        [[0,0,0],[0.15,0,0],[0.15,-0.4,0]],\n",
    "        [[1,2,3]],\n",
    "        [[1]]\n",
    "    ]))\n",
    "    decorazione = T([1,2,3])([-0.05,7.8,0.15])(STRUCT([\n",
    "        spirali,\n",
    "        T([1,3])([0.05,-0.05])(R([1,3])(-PI/2)(CYLINDER([0.04,0.8])(20))),\n",
    "        T([1,2,3])([-0.1,0.1,-0.15])(tri),\n",
    "        T([1,2,3])([1,0.1,-0.05])(R([1,3])(PI)(tri)),\n",
    "        T([1,2,3])([-0.05,0.1,-0.15])(OFFSET([0,0.08,0])(MKPOL([\n",
    "            [[0,0,0],[0.4,0,0],[1,0,0],[1.1,0,0.2],[0.5,0,0.1],[-0.1,0,0.2]],\n",
    "            [[1,2,5,6],[2,3,4,5]],\n",
    "            [[1],[2]]\n",
    "        ]))),\n",
    "        T([1,2,3])([-0.05,0.2,-0.15])(OFFSET([0,0.01,0])(MKPOL([\n",
    "            [[0,0,0],[0.4,0,0],[1,0,0],[1.1,0,0.2],[0.5,0,0.1],[-0.1,0,0.2]],\n",
    "            [[1,2,5,6],[2,3,4,5]],\n",
    "            [[1],[2]]\n",
    "        ]))),\n",
    "        T([1,2,3])([0.04,-0.4,-0.15])(CUBOID([0.82,0.01,0.11])),\n",
    "        T([1,2,3])([0.04,-0.38,-0.15])(CUBOID([0.82,0.03,0.11]))\n",
    "    ]))\n",
    "    superiore = STRUCT([\n",
    "        ondine,\n",
    "        decorazione\n",
    "    ])\n",
    "    # Uniamo il tutto:\n",
    "    col = STRUCT([\n",
    "        TEXTURE('Texture/mattoniScoloriti4.jpg')(CUBOID([0.8,8,0.1])),\n",
    "        TEXTURE('Texture/pietra5.jpg')(base),\n",
    "        TEXTURE('Texture/pietra5.jpg')(triangolo),\n",
    "        TEXTURE('Texture/pietra5.jpg')(superiore)\n",
    "    ])\n",
    "    return col\n",
    "\n",
    "VIEW(colonna()) "
   ]
  },
  {
   "cell_type": "markdown",
   "metadata": {},
   "source": [
    "![ws7_colonne1.png](files/Immagini/ws7_colonne1.png)"
   ]
  },
  {
   "cell_type": "markdown",
   "metadata": {},
   "source": [
    "![ws7_colonne2.png](files/Immagini/ws7_colonne2.png)"
   ]
  },
  {
   "cell_type": "markdown",
   "metadata": {},
   "source": [
    "![ws7_colonne3.png](files/Immagini/ws7_colonne3.png)"
   ]
  },
  {
   "cell_type": "markdown",
   "metadata": {},
   "source": [
    "### - Posizionamento colonne:"
   ]
  },
  {
   "cell_type": "code",
   "execution_count": 33,
   "metadata": {},
   "outputs": [
    {
     "data": {
      "text/plain": [
       "<pyplasm.xgepy.Hpc; proxy of <Swig Object of type 'std::shared_ptr< Hpc > *' at 0x000000000DEDB600> >"
      ]
     },
     "execution_count": 33,
     "metadata": {},
     "output_type": "execute_result"
    }
   ],
   "source": [
    "villaTot = STRUCT([pianoTerraTot,pianoPrimoTot,pianoSotterraneoTot])\n",
    "\n",
    "facciataColonne = (STRUCT([\n",
    "    villaTot,\n",
    "    T([1,2,3])([0.2,2.2,22.5])((colonna())),\n",
    "    T([1,2,3])([6.1,2.2,22.5])((colonna())),\n",
    "    T([1,2,3])([12,2.2,22.5])((colonna())),\n",
    "    T([1,2,3])([33.2,2.2,22.5])((colonna())),\n",
    "    T([1,2,3])([39.1,2.2,22.5])((colonna())),\n",
    "    T([1,2,3])([45,2.2,22.5])((colonna())),\n",
    "]))\n",
    "\n",
    "VIEW(facciataColonne)"
   ]
  },
  {
   "cell_type": "markdown",
   "metadata": {},
   "source": [
    "![ws7_posColonne.png](files/Immagini/ws7_posColonne.png)"
   ]
  },
  {
   "cell_type": "markdown",
   "metadata": {},
   "source": [
    "<hr>"
   ]
  },
  {
   "cell_type": "markdown",
   "metadata": {},
   "source": [
    "### - Dettagli frontali:"
   ]
  },
  {
   "cell_type": "code",
   "execution_count": 34,
   "metadata": {},
   "outputs": [
    {
     "data": {
      "text/plain": [
       "<pyplasm.xgepy.Hpc; proxy of <Swig Object of type 'std::shared_ptr< Hpc > *' at 0x000000000E0F1FC0> >"
      ]
     },
     "execution_count": 34,
     "metadata": {},
     "output_type": "execute_result"
    }
   ],
   "source": [
    "# Funzione che costruisce la colonnina, ricevendo in input larghezza e profondità:\n",
    "def colonnina(l,p):\n",
    "    base = STRUCT([\n",
    "        T([1,2])([0.05,0.5])(CUBOID([l+0.1,0.1,p+0.025])),\n",
    "        CUBOID([l+0.2,0.5,p+0.05])\n",
    "    ])\n",
    "    colonnina = STRUCT([\n",
    "        TEXTURE('Texture/mattoni3.jpg')(CUBOID([l,2.5,p])),\n",
    "        TEXTURE('Texture/pietra4.jpg')(T([1,2])([-0.1,2.5])(CUBOID([l+0.2,0.05,p+0.1]))),\n",
    "        TEXTURE('Texture/pietra5.jpg')(T([1,2])([-0.05,2.475])(CUBOID([l+0.1,0.025,p+0.05]))),\n",
    "        TEXTURE('Texture/pietra5.jpg')(T([1,2])([-0.025,2.45])(CUBOID([l+0.05,0.0175,p+0.025]))),\n",
    "        TEXTURE('Texture/pietra5.jpg')(T(1)(-0.1)(base))\n",
    "    ])\n",
    "    return colonnina\n",
    "\n",
    "# Funzione che costruisce il muretto superiore:\n",
    "def murettoSuperiore():\n",
    "    lastra = TEXTURE('Texture/mattoni2.jpg')(CUBOID([13,2.5,0.01]))\n",
    "    lastraPiccola = TEXTURE('Texture/pietra5.jpg')(CUBOID([13,0.5,0.02]))\n",
    "    # Larghezza e profondità colonnina:\n",
    "    lCol = 1.2\n",
    "    pCol = 0.4\n",
    "    # Larghezza e profondità insenatura:\n",
    "    lIns = 2.5\n",
    "    pIns = 0.2\n",
    "    murettoSuperiore1 = STRUCT([\n",
    "        # 3 colonnine:\n",
    "        colonnina(lCol,pCol),\n",
    "        T(1)(5.9)(colonnina(lCol,pCol)),\n",
    "        T(1)(11.8)(colonnina(lCol,pCol)),\n",
    "        # 2 insenature:\n",
    "        T(1)(2.25)(colonnina(lIns,pIns)),\n",
    "        T(1)(8.25)(colonnina(lIns,pIns)),\n",
    "        lastra,\n",
    "        lastraPiccola\n",
    "    ])\n",
    "    murettoSuperiore = STRUCT([\n",
    "        murettoSuperiore1,\n",
    "        T(1)(33)(murettoSuperiore1)\n",
    "    ])\n",
    "    return murettoSuperiore\n",
    "\n",
    "#VIEW(murettoSuperiore())\n",
    "\n",
    "facciataMurettoSuperiore = STRUCT([facciataColonne,T([2,3])([-0.3,22.5])(murettoSuperiore())])\n",
    "\n",
    "VIEW(facciataMurettoSuperiore)"
   ]
  },
  {
   "cell_type": "markdown",
   "metadata": {},
   "source": [
    "![ws7_murettoSup.png](files/Immagini/ws7_murettoSup.png)"
   ]
  },
  {
   "cell_type": "code",
   "execution_count": 35,
   "metadata": {},
   "outputs": [
    {
     "data": {
      "text/plain": [
       "<pyplasm.xgepy.Hpc; proxy of <Swig Object of type 'std::shared_ptr< Hpc > *' at 0x000000000DEF3DB0> >"
      ]
     },
     "execution_count": 35,
     "metadata": {},
     "output_type": "execute_result"
    }
   ],
   "source": [
    "# Funzione che costruisce il muretto inferiore:\n",
    "def murettoInferiore():\n",
    "    bordo = TEXTURE('Texture/pietra2.jpg')(CUBOID([20.1,0.2,0.5]))\n",
    "    lastra = STRUCT([\n",
    "        CUBOID([20,1.35,0.01]),\n",
    "        T(2)(2.5)(CUBOID([20,1.35,0.01])),\n",
    "        T(2)(1.35)(CUBOID([2.85,1.35,0.01])),\n",
    "        T([1,2])([4.05,1.35])(CUBOID([4.8,1.35,0.01])),\n",
    "        T([1,2])([10.05,1.35])(CUBOID([10,1.35,0.01]))\n",
    "    ])\n",
    "    murettoInferiore1 = STRUCT([\n",
    "        T(1)(-0.1)(bordo),\n",
    "        TEXTURE('Texture/mattoni1.jpg')(T(2)(-3.7)(lastra))\n",
    "    ])\n",
    "    murettoInferiore2 = STRUCT([\n",
    "        T(1)(26)(bordo),\n",
    "        TEXTURE('Texture/mattoni1.jpg')(R([1,3])(-PI)(T([1,2,3])([-46,-3.7,-0.05])(lastra)))\n",
    "    ])\n",
    "    murettoInferiore = STRUCT([\n",
    "        murettoInferiore1,\n",
    "        murettoInferiore2\n",
    "    ])\n",
    "    return murettoInferiore\n",
    "\n",
    "facciataMurettoInferiore = STRUCT([\n",
    "    facciataColonne,\n",
    "    T([2,3])([-0.3,22.5])(murettoSuperiore()),\n",
    "    T([2,3])([-0.3,22.5])(murettoInferiore())\n",
    "])\n",
    "\n",
    "VIEW(facciataMurettoInferiore)"
   ]
  },
  {
   "cell_type": "markdown",
   "metadata": {},
   "source": [
    "![ws7_murettoInf.png](files/Immagini/ws7_murettoInf.png)"
   ]
  },
  {
   "cell_type": "markdown",
   "metadata": {},
   "source": [
    "<hr>"
   ]
  },
  {
   "cell_type": "markdown",
   "metadata": {},
   "source": [
    "### - Archi ingresso:"
   ]
  },
  {
   "cell_type": "code",
   "execution_count": 36,
   "metadata": {},
   "outputs": [
    {
     "data": {
      "text/plain": [
       "<pyplasm.xgepy.Hpc; proxy of <Swig Object of type 'std::shared_ptr< Hpc > *' at 0x000000000DEED8D0> >"
      ]
     },
     "execution_count": 36,
     "metadata": {},
     "output_type": "execute_result"
    }
   ],
   "source": [
    "# COLONNA COMPLETA:\n",
    "colonnaCompleta = STRUCT([\n",
    "    T([1,2])([0.2,-0.05])(colonna()),\n",
    "    T(2)(-2.55)(colonnina(1.2,0.4))\n",
    "])\n",
    "\n",
    "# Creiamo una struttura ad arco:\n",
    "#def bottomArcFacciataProf(d):\n",
    "#    return BEZIER(S1)([[0,0,0.1],[0,2*d/3,0.1],[d,2*d/3,0.1],[d,0,0.1]])\n",
    "\n",
    "#VIEW(MAP(bottomArc(8))(dominioA))\n",
    "#VIEW(MAP(bottomArcFacciataProf(8))(dominioA))\n",
    "\n",
    "def topArc(d):\n",
    "    return BEZIER(S1)([[0,2*d/3,0],[d,2*d/3,0]])\n",
    "\n",
    "def topArcProf(d):\n",
    "    return BEZIER(S1)([[0,2*d/3,0.5],[d,2*d/3,0.5]])\n",
    "\n",
    "#VIEW(MAP(topArc(8))(dominioA))\n",
    "#VIEW(MAP(topArcProf(8))(dominioA))\n",
    "\n",
    "def arc2D(d):\n",
    "    return BEZIER(S2)([bottomArc(d),topArc(d)])\n",
    "\n",
    "def arc2DProf(d):\n",
    "    return BEZIER(S2)([bottomArcProf(d),topArcProf(d)])\n",
    "\n",
    "#VIEW(MAP(arc2D(8))(dominioA))\n",
    "#VIEW(MAP(arc2DProf(8))(dominioA))\n",
    "\n",
    "def arc3D(d):\n",
    "    return BEZIER(S3)([arc2D(d),arc2DProf(d)])\n",
    "\n",
    "VIEW(MAP(arc3D(8))(dominioA))\n",
    "\n",
    "# Costruiamo ora la facciata formata da archi e colonne:\n",
    "def arcoFacciata():\n",
    "    arcoBase = MAP(arc3D(5))(dominioA)\n",
    "    trapezio = OFFSET([0,0,0.6])(MKPOL([\n",
    "        [[0,0.8,0],[0.2,0,0],[0.5,0,0],[0.7,0.8,0]],\n",
    "        [[1,2,3,4]],\n",
    "        [[1]]\n",
    "    ]))\n",
    "    return TEXTURE('Texture/mattoniScoloriti7.jpg')(STRUCT([\n",
    "        T([1,2])([-0.57,-2.55])(CUBOID([0.57,10.5,0.5])),\n",
    "        T(2)(4.95)(arcoBase),\n",
    "        T([1,2])([5,-2.55])(CUBOID([0.57,10.5,0.5])),\n",
    "        T([1,2])([2.15,7.15])(trapezio),\n",
    "        T([1,2])([-0.57,5])(CUBOID([0.7,0.3,0.6])),\n",
    "        T([1,2])([4.86,5])(CUBOID([0.7,0.3,0.6]))\n",
    "    ]))\n",
    "\n",
    "murettoFacciata = STRUCT([\n",
    "    TEXTURE('Texture/mattoniScoloriti1.jpg')(CUBOID([5,1.5,0.4])),\n",
    "    TEXTURE('Texture/pietra2.jpg')(T(2)(1.5)(CUBOID([5,0.2,0.5])))\n",
    "])\n",
    "\n",
    "facciataArchi = STRUCT([\n",
    "    T([1,3])([0.57,-0.5])(arcoFacciata()),\n",
    "    T([1,2,3])([0.57,-2.5,-0.5])(murettoFacciata),\n",
    "    T(1)(0.57+5+0.57-0.2)(colonnaCompleta),\n",
    "    T([1,3])([0.57+5+0.57+0.8+0.57,-0.5])(arcoFacciata()),\n",
    "    T([1,2,3])([14.5,-2.5,-0.5])(murettoFacciata),\n",
    "    T(1)(0.57+5+0.57+0.8+0.57+5+0.57-0.2)(colonnaCompleta),\n",
    "    T([1,3])([0.57+5+0.57+0.8+0.57+5+0.57+0.8+0.57,-0.5])(arcoFacciata()),\n",
    "    T([1,2,3])([0,-2.2,-9])(TEXTURE('Texture/pietra4.jpg')(CUBOID([20,0.01,8.9])))\n",
    "])\n",
    "\n",
    "VIEW(facciataArchi)"
   ]
  },
  {
   "cell_type": "markdown",
   "metadata": {},
   "source": [
    "![ws7_archiIngr1.png](files/Immagini/ws7_archiIngr1.png)"
   ]
  },
  {
   "cell_type": "markdown",
   "metadata": {},
   "source": [
    "![ws7_archiIngr2.png](files/Immagini/ws7_archiIngr2.png)"
   ]
  },
  {
   "cell_type": "markdown",
   "metadata": {},
   "source": [
    "![ws7_archiIngr3.png](files/Immagini/ws7_archiIngr3.png)"
   ]
  },
  {
   "cell_type": "markdown",
   "metadata": {},
   "source": [
    "<hr>"
   ]
  },
  {
   "cell_type": "markdown",
   "metadata": {},
   "source": [
    "### - Facciata frontale completa:"
   ]
  },
  {
   "cell_type": "code",
   "execution_count": 37,
   "metadata": {},
   "outputs": [
    {
     "data": {
      "text/plain": [
       "<pyplasm.xgepy.Hpc; proxy of <Swig Object of type 'std::shared_ptr< Hpc > *' at 0x000000000DEEDCC0> >"
      ]
     },
     "execution_count": 37,
     "metadata": {},
     "output_type": "execute_result"
    }
   ],
   "source": [
    "# Facciata frontale completa:\n",
    "dettagliLineaSopra = STRUCT([\n",
    "    COLOR([0.9,0.8,0.7])(CUBOID([46,1.8,0.02])),\n",
    "    TEXTURE('Texture/pietraBL.jpg')(T(1)(-0.03)(CUBOID([46.06,0.1,0.04]))),\n",
    "    TEXTURE('Texture/mattoniScoloriti9.jpg')(T([1,2])([-0.03,0.1])(CUBOID([46.06,0.2,0.06]))),\n",
    "    TEXTURE('Texture/pietraBL.jpg')(T([1,2])([-0.03,0.3])(CUBOID([46.06,0.4,0.08]))),\n",
    "    TEXTURE('Texture/mattoniScoloriti9.jpg')(T([1,2])([-0.03,0.7])(CUBOID([46.06,0.8,0.10]))),\n",
    "    TEXTURE('Texture/pietra4.jpg')(T([1,2])([-0.03,1.5])(CUBOID([46.06,0.1,0.15])))\n",
    "])\n",
    "\n",
    "lastraFacciata = T([2,3])([2.2,22.5])(TEXTURE('Texture/mattoniScoloriti9.jpg')(STRUCT([\n",
    "    CUBOID([2.3,8,0.01]),\n",
    "    T([1,2])([2.3,4.5])(CUBOID([2.45,3.5,0.01])),\n",
    "    T(1)(4.75)(CUBOID([3.5,8,0.01])),\n",
    "    T([1,2])([8.2,4.5])(CUBOID([2.55,3.5,0.01])),\n",
    "    T(1)(10.7)(CUBOID([2.3,8,0.01]))\n",
    "])))\n",
    "\n",
    "facciataFrontaleCompleta = STRUCT([\n",
    "    T([1,2,3])([13,2.25,22.5])(facciataArchi),\n",
    "    facciataMurettoInferiore,\n",
    "    T([2,3])([10.2,22.5])(dettagliLineaSopra),\n",
    "    lastraFacciata,\n",
    "    T([1,3])([46,45.01])(R([1,3])(-PI)(lastraFacciata))\n",
    "])\n",
    "\n",
    "VIEW(facciataFrontaleCompleta)"
   ]
  },
  {
   "cell_type": "markdown",
   "metadata": {},
   "source": [
    "![ws7_facciataFront1.png](files/Immagini/ws7_facciataFront1.png)"
   ]
  },
  {
   "cell_type": "markdown",
   "metadata": {},
   "source": [
    "![ws7_facciataFront2.png](files/Immagini/ws7_facciataFront2.png)"
   ]
  },
  {
   "cell_type": "markdown",
   "metadata": {},
   "source": [
    "## Facciate laterali e posteriore:"
   ]
  },
  {
   "cell_type": "markdown",
   "metadata": {},
   "source": [
    "### - Facciata laterale sx:"
   ]
  },
  {
   "cell_type": "code",
   "execution_count": 38,
   "metadata": {},
   "outputs": [
    {
     "data": {
      "text/plain": [
       "<pyplasm.xgepy.Hpc; proxy of <Swig Object of type 'std::shared_ptr< Hpc > *' at 0x000000000E1229C0> >"
      ]
     },
     "execution_count": 38,
     "metadata": {},
     "output_type": "execute_result"
    }
   ],
   "source": [
    "# Facciata laterale sinistra:\n",
    "facciataLSX = TEXTURE('Texture/mattoni3M.jpg')(T(1)(-0.01)(STRUCT([\n",
    "    T(2)(-4)(CUBOID([0.01,16,4.8])),\n",
    "    T([2,3])([10.1,4.8])(CUBOID([0.01,1.9,17.7])),\n",
    "    T([2,3])([4.1,4.8])(CUBOID([0.01,4.8,17.7])),\n",
    "    T([2,3])([-4,4.8])(CUBOID([0.01,6.9,6])),\n",
    "    T([2,3])([-4,12])(CUBOID([0.01,6.9,4.5])),\n",
    "    T([2,3])([-4,16.5])(CUBOID([0.01,1.5,6])),\n",
    "    T([2,3])([-3,18])(CUBOID([0.01,5.9,4.5])),\n",
    "    T([2,3])([8.9,6.2])(CUBOID([0.01,1.2,6.6])),\n",
    "    T([2,3])([2.9,6.2])(CUBOID([0.01,1.2,6.6])),\n",
    "    T([2,3])([8.9,14.2])(CUBOID([0.01,1.2,3.6])),\n",
    "    T([2,3])([2.9,14.2])(CUBOID([0.01,1.2,3.6])),\n",
    "    T([2,3])([8.9,19.2])(CUBOID([0.01,1.2,3.3])),\n",
    "    T([2,3])([2.9,19.2])(CUBOID([0.01,1.2,3.3])),\n",
    "    T([2,3])([-1,10.8])(CUBOID([0.01,3.9,1.2])),\n",
    "    T([2,3])([-1,16.5])(CUBOID([0.01,3.9,2]))\n",
    "])))\n",
    "\n",
    "VIEW(facciataLSX)"
   ]
  },
  {
   "cell_type": "markdown",
   "metadata": {},
   "source": [
    "![ws7_facciataLatSx.png](files/Immagini/ws7_facciataLatSx.png)"
   ]
  },
  {
   "cell_type": "markdown",
   "metadata": {},
   "source": [
    "### - Facciata laterale dx:"
   ]
  },
  {
   "cell_type": "code",
   "execution_count": 39,
   "metadata": {},
   "outputs": [
    {
     "data": {
      "text/plain": [
       "<pyplasm.xgepy.Hpc; proxy of <Swig Object of type 'std::shared_ptr< Hpc > *' at 0x000000000E122B10> >"
      ]
     },
     "execution_count": 39,
     "metadata": {},
     "output_type": "execute_result"
    }
   ],
   "source": [
    "# Facciata laterale destra:\n",
    "facciataLDX = TEXTURE('Texture/mattoni3M.jpg')(T(1)(46)(STRUCT([\n",
    "    T(2)(-4)(CUBOID([0.01,16,4.8])),\n",
    "    T([2,3])([10.1,4.8])(CUBOID([0.01,1.9,17.7])),\n",
    "    T([2,3])([4.1,4.8])(CUBOID([0.01,4.8,17.7])),\n",
    "    T([2,3])([-4,4.8])(CUBOID([0.01,6.9,17.7])),\n",
    "    T([2,3])([-4,16.5])(CUBOID([0.01,1.5,6])),\n",
    "    T([2,3])([8.9,6.2])(CUBOID([0.01,1.2,6.6])),\n",
    "    T([2,3])([2.9,6.2])(CUBOID([0.01,1.2,6.6])),\n",
    "    T([2,3])([8.9,14.2])(CUBOID([0.01,1.2,3.6])),\n",
    "    T([2,3])([2.9,14.2])(CUBOID([0.01,1.2,3.6])),\n",
    "    T([2,3])([8.9,19.2])(CUBOID([0.01,1.2,3.3])),\n",
    "    T([2,3])([2.9,19.2])(CUBOID([0.01,1.2,3.3]))\n",
    "])))\n",
    "\n",
    "VIEW(facciataLDX)"
   ]
  },
  {
   "cell_type": "markdown",
   "metadata": {},
   "source": [
    "![ws7_facciataLatDx.png](files/Immagini/ws7_facciataLatDx.png)"
   ]
  },
  {
   "cell_type": "markdown",
   "metadata": {},
   "source": [
    "### - Facciata posteriore:"
   ]
  },
  {
   "cell_type": "code",
   "execution_count": null,
   "metadata": {},
   "outputs": [],
   "source": [
    "# Parte laterale della facciata posteriore:\n",
    "facciataPosterioreL = TEXTURE('Texture/mattoni3M.jpg')(T([2,3])([-4,-0.01])(STRUCT([\n",
    "    CUBOID([2.85,6.9,0.01]),\n",
    "    T(2)(6.9)(CUBOID([1.8,9.1,0.01])),\n",
    "    T([1,2])([2.85,2.55])(CUBOID([15.2,3.45,0.01])),\n",
    "    T([1,2])([2.85,6])(CUBOID([12.51,0.9,0.01])),\n",
    "    T([1,2])([16.64,6])(CUBOID([1.5,0.9,0.01])),\n",
    "    T([1,2])([2.85,0])(CUBOID([15.2,1.35,0.01])),\n",
    "    T([1,2])([4.05,1.35])(CUBOID([4.8,1.2,0.01])),\n",
    "    T([1,2])([10.05,1.35])(CUBOID([4.8,1.2,0.01])),\n",
    "    T([1,2])([16.05,1.35])(CUBOID([2,1.2,0.01])),\n",
    "    T([1,2])([1.8,8.1])(CUBOID([16.2,2.8,0.01])),\n",
    "    T([1,2])([1.8,12.1])(CUBOID([16.2,1.6,0.01])),\n",
    "    T([1,2])([1.8,14.9])(CUBOID([16.2,1.1,0.01])),\n",
    "    T([1,2])([3.2,6.9])(CUBOID([3.1,1.2,0.01])),\n",
    "    T([1,2])([3.2,10.9])(CUBOID([3.1,1.2,0.01])),\n",
    "    T([1,2])([3.2,13.7])(CUBOID([3.1,1.2,0.01])),\n",
    "    T([1,2])([7.7,6.9])(CUBOID([2.6,1.2,0.01])),\n",
    "    T([1,2])([7.7,10.9])(CUBOID([2.6,1.2,0.01])),\n",
    "    T([1,2])([7.7,13.7])(CUBOID([2.6,1.2,0.01])),\n",
    "    T([1,2])([11.7,6.9])(CUBOID([3.66,1.2,0.01])),\n",
    "    T([1,2])([16.64,6.9])(CUBOID([1.5,1.2,0.01])),\n",
    "    T([1,2])([15.35,8])(CUBOID([2,0.1,0.01])),\n",
    "    T([1,2])([11.7,10.9])(CUBOID([6.3,1.2,0.01])),\n",
    "    T([1,2])([11.7,13.7])(CUBOID([6.3,1.2,0.01]))\n",
    "])))\n",
    "\n",
    "# Parte sporgente della facciata posteriore:\n",
    "# - laterale:\n",
    "facciataPosterioreSL = STRUCT([\n",
    "    CUBOID([0.01,16,1.36]),\n",
    "    T(3)(2.64)(CUBOID([0.01,16,1.36])),\n",
    "    T(3)(1.36)(CUBOID([0.01,6,1.29])),\n",
    "    T([2,3])([8,1.36])(CUBOID([0.01,8,1.29]))\n",
    "])\n",
    "# - dietro:\n",
    "facciataPosterioreSD = STRUCT([\n",
    "    CUBOID([4,8,0.01]),\n",
    "    T(1)(6.01)(CUBOID([4,8,0.01])),\n",
    "    T(2)(8)(CUBOID([10.01,4.5,0.01])),\n",
    "    T(2)(12.5)(CUBOID([4.25,3.5,0.01])),\n",
    "    T([1,2])([4.25,14])(CUBOID([2,2,0.01])),\n",
    "    T([1,2])([5.77,12.5])(CUBOID([4.25,3.5,0.01]))\n",
    "])\n",
    "\n",
    "facciataPosterioreSTot = T([1,2,3])([17.99,-4,-4])(STRUCT([\n",
    "    TEXTURE('Texture/mattoni3R.jpg')(facciataPosterioreSL),\n",
    "    TEXTURE('Texture/mattoni3R.jpg')(T([1,3])([10.02,4])(R([1,3])(PI)(facciataPosterioreSL))),\n",
    "    TEXTURE('Texture/mattoni3R.jpg')(T(3)(-0.01)(facciataPosterioreSD))\n",
    "]))\n",
    "\n",
    "# Facciata posteriore completa:\n",
    "facciataPosteriore = STRUCT([\n",
    "    facciataPosterioreL,\n",
    "    T([1,3])([46,-0.01])(R([1,3])(PI)(facciataPosterioreL)),\n",
    "    facciataPosterioreSTot\n",
    "])\n",
    "\n",
    "VIEW(facciataPosteriore)"
   ]
  },
  {
   "cell_type": "markdown",
   "metadata": {},
   "source": [
    "![ws7_facciataPost.png](files/Immagini/ws7_facciataPost.png)"
   ]
  },
  {
   "cell_type": "markdown",
   "metadata": {},
   "source": [
    "### - Facciata completa:"
   ]
  },
  {
   "cell_type": "code",
   "execution_count": 41,
   "metadata": {},
   "outputs": [
    {
     "data": {
      "text/plain": [
       "<pyplasm.xgepy.Hpc; proxy of <Swig Object of type 'std::shared_ptr< Hpc > *' at 0x000000000DEF5570> >"
      ]
     },
     "execution_count": 41,
     "metadata": {},
     "output_type": "execute_result"
    }
   ],
   "source": [
    "facciataCompleta = STRUCT([facciataFrontaleCompleta,facciataLSX,facciataLDX,facciataPosteriore])\n",
    "VIEW(facciataCompleta)"
   ]
  },
  {
   "cell_type": "markdown",
   "metadata": {},
   "source": [
    "![ws7_facciataCompl1.png](files/Immagini/ws7_facciataCompl1.png)"
   ]
  },
  {
   "cell_type": "markdown",
   "metadata": {},
   "source": [
    "![ws7_facciataCompl2.png](files/Immagini/ws7_facciataCompl2.png)"
   ]
  },
  {
   "cell_type": "markdown",
   "metadata": {},
   "source": [
    "<hr>"
   ]
  },
  {
   "cell_type": "markdown",
   "metadata": {},
   "source": [
    "## Tetto:"
   ]
  },
  {
   "cell_type": "markdown",
   "metadata": {},
   "source": [
    "### - Tetto orizzontale:"
   ]
  },
  {
   "cell_type": "code",
   "execution_count": 42,
   "metadata": {},
   "outputs": [
    {
     "data": {
      "text/plain": [
       "<pyplasm.xgepy.Hpc; proxy of <Swig Object of type 'std::shared_ptr< Hpc > *' at 0x000000000E0C1DE0> >"
      ]
     },
     "execution_count": 42,
     "metadata": {},
     "output_type": "execute_result"
    }
   ],
   "source": [
    "# Con MKPOL facciamo il triangolo al quale aggiungeremo la profondità con OFFSET:\n",
    "triangoloTettoO = MKPOL([\n",
    "    [[0,0,-0.5],[0,0,23],[0,5,11.25]],\n",
    "    [[1,2,3]],\n",
    "    [[1]]\n",
    "])\n",
    "\n",
    "triangoloTettoOLinea = MKPOL([\n",
    "    [[0,0,-0.5],[0,0,0],[0,4.5,11.25],[0,0,22.5],[0,0,23],[0,5,11.25]],\n",
    "    [[1,2,3,6],[3,4,5,6]],\n",
    "    [[1],[2]]\n",
    "])\n",
    "\n",
    "tettoOrizzontale = T([1,2])([-0.5,12])(STRUCT([\n",
    "    TEXTURE('Texture/mattoni3M.jpg')(T(1)(-0.01)(triangoloTettoO)),\n",
    "    TEXTURE('Texture/pietraN.jpg')(T(1)(-0.02)(triangoloTettoOLinea)),\n",
    "    TEXTURE('Texture/tegole2L.jpg')(OFFSET([47,0,0])(triangoloTettoO)),\n",
    "    TEXTURE('Texture/mattoni3M.jpg')(T(1)(47.01)(triangoloTettoO)),\n",
    "    TEXTURE('Texture/pietraN.jpg')(T(1)(47.02)(triangoloTettoOLinea))\n",
    "]))\n",
    "\n",
    "VIEW(tettoOrizzontale)"
   ]
  },
  {
   "cell_type": "markdown",
   "metadata": {},
   "source": [
    "![ws7_tettoOr.png](files/Immagini/ws7_tettoOr.png)"
   ]
  },
  {
   "cell_type": "markdown",
   "metadata": {},
   "source": [
    "### - Tetto frontale:"
   ]
  },
  {
   "cell_type": "code",
   "execution_count": 43,
   "metadata": {},
   "outputs": [
    {
     "data": {
      "text/plain": [
       "<pyplasm.xgepy.Hpc; proxy of <Swig Object of type 'std::shared_ptr< Hpc > *' at 0x000000000E122B70> >"
      ]
     },
     "execution_count": 43,
     "metadata": {},
     "output_type": "execute_result"
    }
   ],
   "source": [
    "# Sempre con MKPOL facciamo la parte del tetto posto frontalmente:\n",
    "triangoloTettoFGrande = MKPOL([\n",
    "    [[0,0,0],[23,0,0],[11.5,4,0]],\n",
    "    [[1,2,3]],\n",
    "    [[1]]\n",
    "])\n",
    "\n",
    "triangoloTettoFPiccolo = MKPOL([\n",
    "    [[0.5,0,0],[22.5,0,0],[11.5,3.5,0]],\n",
    "    [[1,2,3]],\n",
    "    [[1]]\n",
    "])\n",
    "\n",
    "triangoloTettoFLinea = MKPOL([\n",
    "    [[0,0,0],[0.5,0,0],[11.5,3.5,0],[22.5,0,0],[23,0,0],[11.5,4,0]],\n",
    "    [[1,2,3,6],[3,4,5,6]],\n",
    "    [[1,2]]\n",
    "])\n",
    "\n",
    "tettoFrontale = T([1,2,3])([11.5,12.01,13])(STRUCT([\n",
    "    TEXTURE('Texture/pietra2.jpg')(T(3)(10.01)(triangoloTettoFPiccolo)),\n",
    "    TEXTURE('Texture/tegole2L.jpg')(OFFSET([0,0,10])(triangoloTettoFGrande)),\n",
    "    TEXTURE('Texture/pietra4.jpg')(OFFSET([0,0,0.1])(T(3)(10.01)(triangoloTettoFLinea)))\n",
    "]))\n",
    "\n",
    "VIEW(STRUCT([tettoFrontale,tettoOrizzontale]))"
   ]
  },
  {
   "cell_type": "markdown",
   "metadata": {},
   "source": [
    "![ws7_tettoFront.png](files/Immagini/ws7_tettoFront.png)"
   ]
  },
  {
   "cell_type": "markdown",
   "metadata": {},
   "source": [
    "### - Tetto retro:"
   ]
  },
  {
   "cell_type": "code",
   "execution_count": 44,
   "metadata": {},
   "outputs": [
    {
     "data": {
      "text/plain": [
       "<pyplasm.xgepy.Hpc; proxy of <Swig Object of type 'std::shared_ptr< Hpc > *' at 0x000000000E122A20> >"
      ]
     },
     "execution_count": 44,
     "metadata": {},
     "output_type": "execute_result"
    }
   ],
   "source": [
    "triangoloTettoRetroLinea = MKPOL([\n",
    "    [[0,0,0],[0.5,0,0],[5.5,2.5,0],[10.5,0,0],[11,0,0],[5.5,3,0]],\n",
    "    [[1,2,3,6],[3,4,5,6]],\n",
    "    [[1]]\n",
    "])\n",
    "\n",
    "triangoloTettoRetro = MKPOL([\n",
    "    [[0,0,0],[11,0,0],[5.5,3,0]],\n",
    "    [[1,2,3]],\n",
    "    [[1]]\n",
    "])\n",
    "\n",
    "tettoRetro = T([1,2,3])([17.5,12,-4.5])(STRUCT([\n",
    "    TEXTURE('Texture/tegole2L.jpg')(OFFSET([0,0,11])(triangoloTettoRetro)),\n",
    "    TEXTURE('Texture/pietraB.jpg')(T(3)(-0.01)(triangoloTettoRetro)),\n",
    "    TEXTURE('Texture/pietraN.jpg')(T(3)(-0.05)((OFFSET([0,0,0.05]))(triangoloTettoRetroLinea)))\n",
    "]))\n",
    "\n",
    "VIEW(STRUCT([tettoFrontale,tettoOrizzontale,tettoRetro]))"
   ]
  },
  {
   "cell_type": "markdown",
   "metadata": {},
   "source": [
    "![ws7_tettoRetro.png](files/Immagini/ws7_tettoRetro.png)"
   ]
  },
  {
   "cell_type": "markdown",
   "metadata": {},
   "source": [
    "### - Tettoia porta laterale:"
   ]
  },
  {
   "cell_type": "code",
   "execution_count": 45,
   "metadata": {},
   "outputs": [
    {
     "data": {
      "text/plain": [
       "<pyplasm.xgepy.Hpc; proxy of <Swig Object of type 'std::shared_ptr< Hpc > *' at 0x000000000E0C1F60> >"
      ]
     },
     "execution_count": 45,
     "metadata": {},
     "output_type": "execute_result"
    }
   ],
   "source": [
    "triangoloTettoiaLaterale = MKPOL([\n",
    "    [[0,0,0],[0,0,0.25],[0,1.25,2],[0,0,3.75],[0,0,4],[0,1.5,2]],\n",
    "    [[1,2,3,6],[3,4,5,6]],\n",
    "    [[1]]\n",
    "])\n",
    "\n",
    "trave = TEXTURE('Texture/pietra2.jpg')(CUBOID([2.4,0.1,0.1]))\n",
    "\n",
    "tettoiaLaterale = T([1,3])([-2.5,9.5])(STRUCT([\n",
    "    TEXTURE('Texture/tegole3.jpg')(OFFSET([2.5,0,0])(triangoloTettoiaLaterale)),\n",
    "    T([1,3])([0.1,0.26])(trave),\n",
    "    T([1,2,3])([0.1,0.55,1.05])(trave),\n",
    "    T([1,2,3])([0.1,1.15,1.95])(trave),\n",
    "    T([1,2,3])([0.1,0.55,2.85])(trave),\n",
    "    T([1,3])([0.1,3.64])(trave),\n",
    "]))\n",
    "\n",
    "VIEW(tettoiaLaterale)"
   ]
  },
  {
   "cell_type": "markdown",
   "metadata": {},
   "source": [
    "![ws7_tettoia1.png](files/Immagini/ws7_tettoia1.png)"
   ]
  },
  {
   "cell_type": "markdown",
   "metadata": {},
   "source": [
    "![ws7_tettoia2.png](files/Immagini/ws7_tettoia2.png)"
   ]
  },
  {
   "cell_type": "markdown",
   "metadata": {},
   "source": [
    "### - Tetto completo:"
   ]
  },
  {
   "cell_type": "code",
   "execution_count": 46,
   "metadata": {},
   "outputs": [
    {
     "data": {
      "text/plain": [
       "<pyplasm.xgepy.Hpc; proxy of <Swig Object of type 'std::shared_ptr< Hpc > *' at 0x000000000E0C1F90> >"
      ]
     },
     "execution_count": 46,
     "metadata": {},
     "output_type": "execute_result"
    }
   ],
   "source": [
    "tettoCompleto = STRUCT([\n",
    "    facciataCompleta,\n",
    "    tettoFrontale,\n",
    "    tettoOrizzontale,\n",
    "    tettoRetro,\n",
    "    tettoiaLaterale\n",
    "])\n",
    "\n",
    "VIEW(tettoCompleto)"
   ]
  },
  {
   "cell_type": "markdown",
   "metadata": {},
   "source": [
    "![ws7_tettoCompl1.png](files/Immagini/ws7_tettoCompl1.png)"
   ]
  },
  {
   "cell_type": "markdown",
   "metadata": {},
   "source": [
    "![ws7_tettoCompl2.png](files/Immagini/ws7_tettoCompl2.png)"
   ]
  },
  {
   "cell_type": "markdown",
   "metadata": {},
   "source": [
    "<hr>"
   ]
  },
  {
   "cell_type": "markdown",
   "metadata": {},
   "source": [
    "# Camini:"
   ]
  },
  {
   "cell_type": "code",
   "execution_count": 47,
   "metadata": {},
   "outputs": [
    {
     "data": {
      "text/plain": [
       "<pyplasm.xgepy.Hpc; proxy of <Swig Object of type 'std::shared_ptr< Hpc > *' at 0x000000000E0EA0F0> >"
      ]
     },
     "execution_count": 47,
     "metadata": {},
     "output_type": "execute_result"
    }
   ],
   "source": [
    "# Funzione per creare un camino (h è la sua altezza):\n",
    "def camino(h):\n",
    "    # Costruiamo la griglia della parte superiore del camino:\n",
    "    baseGriglia = STRUCT([\n",
    "        CUBOID([1,0.05,0.05]),\n",
    "        CUBOID([0.05,0.05,0.5]),\n",
    "        T(3)(0.45)(CUBOID([1,0.05,0.05])),\n",
    "        T(1)(0.95)(CUBOID([0.05,0.05,0.5]))\n",
    "    ])\n",
    "    parteXGriglia = STRUCT([\n",
    "        STRUCT(NN(6)([CUBOID([0.05,0.4,0.05]),T(1)(0.19)]))\n",
    "    ])\n",
    "    parteZGriglia = STRUCT([\n",
    "        T(3)(0.15)(CUBOID([0.05,0.4,0.05])),\n",
    "        T(3)(0.3)(CUBOID([0.05,0.4,0.05]))\n",
    "    ])\n",
    "    griglia = TEXTURE('Texture/pietra1.jpg')(STRUCT([\n",
    "        baseGriglia,\n",
    "        T(2)(0.4)(baseGriglia),\n",
    "        parteXGriglia,\n",
    "        T(3)(0.45)(parteXGriglia),\n",
    "        parteZGriglia,\n",
    "        T(1)(0.95)(parteZGriglia)\n",
    "    ]))\n",
    "    # Realizziamo la parte triangolare superiore:\n",
    "    triangolo = MKPOL([\n",
    "        [[0,0,0],[1,0,0],[0.5,0.4,0]],\n",
    "        [[1,2,3]],\n",
    "        [[1]]\n",
    "    ])\n",
    "    # Realizziamo la piccola tettoia:\n",
    "    tettoia = TEXTURE('Texture/tegole3.jpg')(STRUCT([\n",
    "        T([2,3])([h+0.45,-0.05])(OFFSET([0,0,0.6])(MKPOL([\n",
    "            [[-0.05,0,0],[0,0,0],[0.5,0.4,0],[1,0,0],[1.05,0,0],[0.5,0.45,0]],\n",
    "            [[1,2,3,6],[3,4,5,6]],\n",
    "            [[1]]\n",
    "        ]))),\n",
    "        T([1,2,3])([0.46,h+0.85,-0.05])(CUBOID([0.08,0.08,0.6]))\n",
    "    ]))\n",
    "    # Uniamo il tutto:\n",
    "    camino = STRUCT([\n",
    "        TEXTURE('Texture/pietraB.jpg')(CUBOID([1,h,0.5])),\n",
    "        T(2)(h)(griglia),\n",
    "        T(2)(h+0.45)(TEXTURE('Texture/pietraB.jpg')(OFFSET([0,0,0.5])(triangolo))),\n",
    "        tettoia\n",
    "    ])\n",
    "    return camino\n",
    "\n",
    "VIEW(camino(2))"
   ]
  },
  {
   "cell_type": "markdown",
   "metadata": {},
   "source": [
    "![ws7_camino.png](files/Immagini/ws7_camino.png)"
   ]
  },
  {
   "cell_type": "markdown",
   "metadata": {},
   "source": [
    "### - Tetto con camini:"
   ]
  },
  {
   "cell_type": "code",
   "execution_count": 50,
   "metadata": {},
   "outputs": [
    {
     "data": {
      "text/plain": [
       "<pyplasm.xgepy.Hpc; proxy of <Swig Object of type 'std::shared_ptr< Hpc > *' at 0x000000000E13FDE0> >"
      ]
     },
     "execution_count": 50,
     "metadata": {},
     "output_type": "execute_result"
    }
   ],
   "source": [
    "tettoCompletoCamini = STRUCT([\n",
    "    tettoCompleto,\n",
    "    T([1,2,3])([5,13,20])(camino(2)),\n",
    "    T([1,2,3])([40,13,20])(camino(2)),\n",
    "    T([1,2,3])([35,15.5,8])(R([1,3])(PI/2)(camino(1.5))),\n",
    "    T([1,2,3])([10,15.5,8])(R([1,3])(PI/2)(camino(1.5))),\n",
    "    T([1,2,3])([5,13,2])(camino(1))\n",
    "])\n",
    "\n",
    "VIEW(tettoCompletoCamini)"
   ]
  },
  {
   "cell_type": "markdown",
   "metadata": {},
   "source": [
    "![ws7_tettoCamini.png](files/Immagini/ws7_tettoCamini.png)"
   ]
  },
  {
   "cell_type": "markdown",
   "metadata": {},
   "source": [
    "<hr>"
   ]
  },
  {
   "cell_type": "markdown",
   "metadata": {},
   "source": [
    "# Villa completa:"
   ]
  },
  {
   "cell_type": "code",
   "execution_count": 51,
   "metadata": {},
   "outputs": [
    {
     "data": {
      "text/plain": [
       "<pyplasm.xgepy.Hpc; proxy of <Swig Object of type 'std::shared_ptr< Hpc > *' at 0x000000000E0F1ED0> >"
      ]
     },
     "execution_count": 51,
     "metadata": {},
     "output_type": "execute_result"
    }
   ],
   "source": [
    "# Aggiungi pavimento (unico) piano sotterraneo + erba intorno alla villa\n",
    "pavimentoSotterraneo = T(2)(-4.01)(TEXTURE('Texture/pavimentoS2L.jpg')(STRUCT([\n",
    "    CUBOID([46,0.01,22.5]),\n",
    "    T([1,3])([18,-7])(CUBOID([10,0.01,7]))\n",
    "])))\n",
    "villaCompleta = STRUCT([\n",
    "    tettoCompletoCamini,\n",
    "    pavimentoSotterraneo,\n",
    "    TEXTURE('Texture/prato2.jpg')(T([1,2,3])([-18,-4.02,-20])(CUBOID([80,0.01,60])))\n",
    "])\n",
    "\n",
    "VIEW(villaCompleta)"
   ]
  },
  {
   "cell_type": "markdown",
   "metadata": {},
   "source": [
    "![ws7_villaCompl1.png](files/Immagini/ws7_villaCompl1.png)"
   ]
  },
  {
   "cell_type": "markdown",
   "metadata": {},
   "source": [
    "![ws7_villaCompl2.png](files/Immagini/ws7_villaCompl2.png)"
   ]
  },
  {
   "cell_type": "markdown",
   "metadata": {},
   "source": [
    "![ws7_villaCompl3.png](files/Immagini/ws7_villaCompl3.png)"
   ]
  },
  {
   "cell_type": "markdown",
   "metadata": {},
   "source": [
    "![ws7_villaCompl4.png](files/Immagini/ws7_villaCompl4.png)"
   ]
  },
  {
   "cell_type": "markdown",
   "metadata": {},
   "source": [
    "![ws7_villaCompl5.png](files/Immagini/ws7_villaCompl5.png)"
   ]
  },
  {
   "cell_type": "markdown",
   "metadata": {},
   "source": [
    "![ws7_villaCompl6.png](files/Immagini/ws7_villaCompl6.png)"
   ]
  },
  {
   "cell_type": "markdown",
   "metadata": {},
   "source": [
    "![ws7_villaCompl7.png](files/Immagini/ws7_villaCompl7.png)"
   ]
  },
  {
   "cell_type": "markdown",
   "metadata": {},
   "source": [
    "![ws7_villaCompl8.png](files/Immagini/ws7_villaCompl8.png)"
   ]
  },
  {
   "cell_type": "markdown",
   "metadata": {},
   "source": [
    "![ws7_villaCompl9.png](files/Immagini/ws7_villaCompl9.png)"
   ]
  },
  {
   "cell_type": "markdown",
   "metadata": {},
   "source": [
    "![ws7_villaCompl10.png](files/Immagini/ws7_villaCompl10.png)"
   ]
  }
 ],
 "metadata": {
  "kernelspec": {
   "display_name": "Python 2",
   "language": "python",
   "name": "python2"
  },
  "language_info": {
   "codemirror_mode": {
    "name": "ipython",
    "version": 2
   },
   "file_extension": ".py",
   "mimetype": "text/x-python",
   "name": "python",
   "nbconvert_exporter": "python",
   "pygments_lexer": "ipython2",
   "version": "2.7.12"
  }
 },
 "nbformat": 4,
 "nbformat_minor": 2
}
