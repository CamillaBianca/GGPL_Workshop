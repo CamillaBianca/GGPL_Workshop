{
 "cells": [
  {
   "cell_type": "markdown",
   "metadata": {},
   "source": [
    "# Workshop 06"
   ]
  },
  {
   "cell_type": "markdown",
   "metadata": {},
   "source": [
    "<b>Obiettivo</b>: Tradurre il codice del modello geometrico di <i>S. Stefano Rotondo al Celio</u>."
   ]
  },
  {
   "cell_type": "code",
   "execution_count": 39,
   "metadata": {},
   "outputs": [],
   "source": [
    "# Importo le librerie:\n",
    "import sys\n",
    "sys.path.insert(0, 'C:\\Users\\Camilla Bianca\\Documents\\GGPL\\lar-cc\\larlib')\n",
    "from larlib import *\n",
    "import math"
   ]
  },
  {
   "cell_type": "markdown",
   "metadata": {},
   "source": [
    "<hr>"
   ]
  },
  {
   "cell_type": "code",
   "execution_count": null,
   "metadata": {},
   "outputs": [],
   "source": [
    "# PLASM:\n",
    "%=============================================================%\n",
    "%                                                             %\n",
    "%       Modello geometrico di S. Stefano Rotondo al Celio     %\n",
    "%               Modello della Gerusalemme Celeste             %\n",
    "%                                                             %\n",
    "%                                                             %\n",
    "%                       A.Paoluzzi, 1998                      %\n",
    "%                                                             %\n",
    "%=============================================================%\n",
    "\n",
    "%*************************************************************%\n",
    "%---Misure di riferimento--(cubito = 0.462 m)-----------------%\n",
    "%*************************************************************%\n",
    "\n",
    "%-- 1 cubito = 444 mm ----------------------------------------%\n",
    "DEF r0 = 24; %---cubiti; raggio interno del muro interno------%\n",
    "DEF r2 = 48; %---cubiti; raggio esterno del muro medio--------%\n",
    "DEF r3 = 72; %---cubiti; raggio esterno del muro esterno------%\n",
    "DEF r4 = 88; %---cubiti; raggio esterno scale esterne---------%\n",
    "\n",
    "DEF wsteps = 10;  %---cubiti; profondita' scale esterne-------%\n",
    "DEF nsteps = 10;  %---numero alzate/pedate scale esterne------%\n",
    "DEF wstep = wsteps/nsteps; %---cubiti; larghezza pedata-------%\n",
    "DEF hstep = 1/3; %---cubiti; altezza alzata-------------------%\n",
    "DEF hw4 = 29; %--cubiti; altezza all'imposta del muro esterno-%\n",
    "DEF hbasament = hstep*nsteps;"
   ]
  },
  {
   "cell_type": "code",
   "execution_count": 40,
   "metadata": {},
   "outputs": [],
   "source": [
    "# PYPLASM:\n",
    "r0 = 24.0\n",
    "r2 = 48.0\n",
    "r3 = 72.0\n",
    "r4 = 88.0\n",
    "\n",
    "wsteps = 10.0\n",
    "nsteps = 10.0\n",
    "wstep = wsteps/nsteps\n",
    "hstep = 1.0/3.0\n",
    "hw4 = 29.0\n",
    "hbasament = hstep*nsteps"
   ]
  },
  {
   "cell_type": "markdown",
   "metadata": {},
   "source": [
    "<hr>"
   ]
  },
  {
   "cell_type": "code",
   "execution_count": null,
   "metadata": {},
   "outputs": [],
   "source": [
    "# PLASM:\n",
    "%-------------------------------------------------------------%\n",
    "%---Mappa cilindrica------------------------------------------%\n",
    "%-------------------------------------------------------------%\n",
    "\n",
    "DEF cylMap = MAP:[S2 * sin ~ S1, S2 * cos ~ S1, S3];"
   ]
  },
  {
   "cell_type": "code",
   "execution_count": 41,
   "metadata": {},
   "outputs": [],
   "source": [
    "# PYPLASM:\n",
    "import math \n",
    "fx = lambda x : x[1] * sin(x[0])\n",
    "fy = lambda x : x[1] * cos(x[0])\n",
    "fz = lambda x : x[2]\n",
    "\n",
    "cylMap = MAP([fx,fy,fz])"
   ]
  },
  {
   "cell_type": "markdown",
   "metadata": {},
   "source": [
    "<hr>"
   ]
  },
  {
   "cell_type": "code",
   "execution_count": null,
   "metadata": {},
   "outputs": [],
   "source": [
    "# PLASM:\n",
    "%-------------------------------------------------------------%\n",
    "%---Scala esterna---------------------------------------------%\n",
    "%-------------------------------------------------------------%\n",
    "\n",
    "DEF vdom (h::IsRealPos) = ((EMBED:1 ~ Intervals:(PI*3/24)):3) * QUOTE:<h>;\n",
    "DEF hdom (w::IsRealPos) = (S:2:-1 ~ EMBED:1):(Intervals:(PI*3/24):3 * QUOTE:<w>);\n",
    "\n",
    "DEF steps (w,h::IsRealPos) (n::IsIntPos) = (STRUCT ~ CAT ~ #:n):\n",
    "  < vdom:h, T:3:h, hdom:w, T:2:(-:w) >;\n",
    "\n",
    "DEF hbasament = hstep*nsteps;\n",
    "DEF stair = (MKPOL ~ UKPOL):(steps:<wstep,hstep>:nsteps  \n",
    "              RIGHT (S:2:-1 ~ @2 ~ CUBOID):<PI/24,wsteps,hbasament>);\n",
    "DEF ramp  = cylMap:(T:2:r4:stair);\n",
    "DEF stairs = (STRUCT ~ ##:12):<ramp, R:<1,2>:(PI/6)>;"
   ]
  },
  {
   "cell_type": "code",
   "execution_count": 69,
   "metadata": {},
   "outputs": [
    {
     "data": {
      "text/plain": [
       "<pyplasm.xgepy.Hpc; proxy of <Swig Object of type 'std::shared_ptr< Hpc > *' at 0x000000000E85FDE0> >"
      ]
     },
     "execution_count": 69,
     "metadata": {},
     "output_type": "execute_result"
    }
   ],
   "source": [
    "# PYPLASM:\n",
    "def vdom(h):\n",
    "    return PROD([COMP([EMBED(1),INTERVALS(PI*3/24)])(3),QUOTE([h])])\n",
    "\n",
    "def hdom(w):\n",
    "    return COMP([S(2)(-1),EMBED(1)])(PROD([INTERVALS(PI*3/24)(3),QUOTE([w])]))\n",
    "\n",
    "def steps(w,h,n):\n",
    "    return COMP([STRUCT,CAT,N(n)])([vdom(h),T(3)(h),hdom(w),T(2)(-w)])\n",
    "\n",
    "hbasament = hstep*nsteps\n",
    "\n",
    "stair = RIGHT([COMP([MKPOL,UKPOL])(steps(wstep,hstep,nsteps)),\n",
    "               COMP([S(2)(-1),SKEL_2,CUBOID])([PI/24,wsteps,hbasament])])\n",
    "ramp = cylMap(T(2)(r4)(stair))\n",
    "stairs = STRUCT(NN(12)([ramp,R([1,2])(PI/6)]))\n",
    "\n",
    "VIEW(stairs)"
   ]
  },
  {
   "cell_type": "markdown",
   "metadata": {},
   "source": [
    "![ws6_stairs.png](files/Immagini/ws6_stairs.png)"
   ]
  },
  {
   "cell_type": "markdown",
   "metadata": {},
   "source": [
    "<hr>"
   ]
  },
  {
   "cell_type": "code",
   "execution_count": null,
   "metadata": {},
   "outputs": [],
   "source": [
    "# PLASM:\n",
    "%-------------------------------------------------------------%\n",
    "%---Basamento-------------------------------------------------%\n",
    "%-------------------------------------------------------------%\n",
    "\n",
    "DEF basisSector = (cylMap ~ EMBED:1):\n",
    "    (Intervals:(2*PI/12):4 * Intervals:(r4 - (wstep*(nsteps - 1))):1);\n",
    "DEF basis = (STRUCT ~ ##:12):<basisSector, R:<1,2>:(2*PI/12)>;\n",
    "DEF basement = (R:<1,2>:(PI/-48) ~ STRUCT):< stairs, T:3:(hstep*nsteps), basis >;\n",
    "\n",
    "%\n",
    "basement\n",
    "%"
   ]
  },
  {
   "cell_type": "code",
   "execution_count": 70,
   "metadata": {},
   "outputs": [
    {
     "data": {
      "text/plain": [
       "<pyplasm.xgepy.Hpc; proxy of <Swig Object of type 'std::shared_ptr< Hpc > *' at 0x000000000E87CDB0> >"
      ]
     },
     "execution_count": 70,
     "metadata": {},
     "output_type": "execute_result"
    }
   ],
   "source": [
    "# PYPLASM:\n",
    "basisSector = COMP([cylMap,EMBED(1)])(PROD([INTERVALS(2*PI/12)(4),INTERVALS(r4-(wstep*(nsteps-1)))(1)]))\n",
    "basis = COMP([STRUCT,NN(12)])([basisSector,R([1,2])(2*PI/12)])\n",
    "basement = COMP([R([1,2])(PI/-48),STRUCT])([stairs,T(3)(hstep*nsteps),basis])\n",
    "\n",
    "VIEW(basement)"
   ]
  },
  {
   "cell_type": "markdown",
   "metadata": {},
   "source": [
    "![ws6_basement.png](files/Immagini/ws6_basement.png)"
   ]
  },
  {
   "cell_type": "markdown",
   "metadata": {},
   "source": [
    "<hr>"
   ]
  },
  {
   "cell_type": "code",
   "execution_count": null,
   "metadata": {},
   "outputs": [],
   "source": [
    "# PLASM:\n",
    "%-------------------------------------------------------------%\n",
    "%---Muro esterno----------------------------------------------%\n",
    "%-------------------------------------------------------------%\n",
    "\n",
    "DEF ExtWall2Da = MKPOL:<<<0,0>,<7,0>,<7,5>,<0,8>,<7,3>,<9,4>,\n",
    "<10.5,1.5>,<10.5,0>,<11,1.5>,<11,3>>,<1..4,<2,8,7,6,5>,<6,7,9,10>>,\n",
    "<<1>,<2>,<3>>> & ((Q ~ #:12):1 * Q:8);\n",
    "DEF ExtWall2Db = MKPOL:<<<0.5,0>,<4,0>,<5,0>,<6,0>,<6,3>,<5.5,3.5>,\n",
    "  <5,3>,<4.5,3.5>,<4,3>,<2,4>,<0,3>,<0,1.5>,<0.5,1.5>>,\n",
    "  <<10,11,12,13>,<1,2,9,10,13>,<2,3,7,8,9>,<3,4,5,6,7>>,<1..4>> \n",
    "&  ((Q ~ #:6):1 * Q:4);\n",
    "DEF ExtWall2D = STRUCT:<ExtWall2Da, T:1:11, ExtWall2Db>;\n",
    "DEF sizxExtWall = SIZE:1:ExtWall2D;\n",
    "\n",
    "DEF ExtWall = R:<2,3>:(PI/2):(ExtWall2D * QUOTE:<1.5>);\n",
    "DEF CurvedExtWall = (cylMap ~ T:2:r3 ~ S:<1,3>:<PI/(4*sizxExtWall),hw4/8>):   ExtWall;\n",
    "DEF DoubleExtWall = STRUCT:<CurvedExtWall, S:1:-1, CurvedExtWall>;\n",
    "DEF FullExtWall = (STRUCT ~ ##:4):<DoubleExtWall, R:<1,2>:(PI/2)>;\n",
    "\n",
    "%\n",
    "STRUCT:<basement, T:3:hbasament, FullExtWall>;\n",
    "%"
   ]
  },
  {
   "cell_type": "code",
   "execution_count": 71,
   "metadata": {},
   "outputs": [
    {
     "data": {
      "text/plain": [
       "<pyplasm.xgepy.Hpc; proxy of <Swig Object of type 'std::shared_ptr< Hpc > *' at 0x000000000E9D05D0> >"
      ]
     },
     "execution_count": 71,
     "metadata": {},
     "output_type": "execute_result"
    }
   ],
   "source": [
    "# PYPLASM:\n",
    "ExtWall2Da = INTERSECTION([\n",
    "    MKPOL([[[0,0],[7,0],[7,5],[0,8],[7,3],[9,4],\n",
    "            [10.5,1.5],[10.5,0],[11,1.5],[11,3]],\n",
    "            [range(1,5),[2,8,7,6,5],[6,7,9,10]],[[1],[2],[3]]]),\n",
    "    PROD([COMP([QUOTE,N(12)])(1),Q(8)])\n",
    "])\n",
    "ExtWall2Db = INTERSECTION([\n",
    "    MKPOL([[[0.5,0],[4,0],[5,0],[6,0],[6,3],[5.5,3.5],\n",
    "            [5,3],[4.5,3.5],[4,3],[2,4],[0,3],[0,1.5],[0.5,1.5]],\n",
    "            [[10,11,12,13],[1,2,9,10,13],[2,3,7,8,9],[3,4,5,6,7]],\n",
    "            range(1,5)]),\n",
    "    PROD([COMP([QUOTE,N(6)])(1),Q(4)])\n",
    "])\n",
    "ExtWall2D = STRUCT([ExtWall2Da,T(1)(11),ExtWall2Db])\n",
    "sizxExtWall = SIZE(1)(ExtWall2D)\n",
    "ExtWall = R([2,3])(PI/2)(PROD([ExtWall2D,QUOTE([1,5])]))\n",
    "CurvedExtWall = COMP([cylMap,T(2)(r3),S([1,3])([PI/(4*sizxExtWall),hw4/8])])(ExtWall)\n",
    "DoubleExtWall = STRUCT([CurvedExtWall,S(1)(-1),CurvedExtWall])\n",
    "FullExtWall = COMP([STRUCT,NN(4)])([DoubleExtWall,R([1,2])(PI/2)])\n",
    "\n",
    "VIEW(FullExtWall)\n",
    "VIEW(STRUCT([basement,T(3)(hbasament),FullExtWall]))"
   ]
  },
  {
   "cell_type": "markdown",
   "metadata": {},
   "source": [
    "![ws6_fullextwall.png](files/Immagini/ws6_fullextwall.png)\n",
    "![ws6_fullextwall_2.png](files/Immagini/ws6_fullextwall_2.png)"
   ]
  },
  {
   "cell_type": "markdown",
   "metadata": {},
   "source": [
    "<hr>"
   ]
  },
  {
   "cell_type": "code",
   "execution_count": null,
   "metadata": {},
   "outputs": [],
   "source": [
    "# PLASM:\n",
    "%-------------------------------------------------------------%\n",
    "%---Colonne intermedie----------------------------------------%\n",
    "%-------------------------------------------------------------%\n",
    "\n",
    "DEF Column (w,h::IsRealPos) = basis TOP trunk TOP capitel\n",
    "WHERE\n",
    "  basis = CUBOID:<w,w,2*w/3>,\n",
    "  trunk = CYLINDER:<w/2*0.85, h - w>:8,\n",
    "  capitel = CUBOID:<w,w,w/3>\n",
    "END;\n",
    "DEF arcAngle = 2*PI/50.4;\n",
    "DEF wallAngle = -3.2*arcAngle/4;\n",
    "DEF RotCross = 3.2*arcAngle/4 + 2.5*arcAngle;\n",
    "\n",
    "DEF MyColumn = (MKPOL ~ UKPOL ~ T:2:((r2 - 0.75)) ~ Column):<1.5,hCol>;\n",
    "DEF The4cols = (R:<1,2>:(arcAngle*0.4/3.2) ~ MKPOL ~ UKPOL ~ \n",
    "  STRUCT ~ ##:4):< R:<1,2>:(-:arcAngle), MyColumn >;\n",
    "DEF The5cols = (R:<1,2>:(arcAngle*0.4/3.2) ~ MKPOL ~ UKPOL ~ \n",
    "  STRUCT ~ ##:5):< R:<1,2>:(-:arcAngle), MyColumn >;\n",
    "DEF TheBotWal = (cylMap ~ MKPOL ~ UKPOL ~ T:2:(r2 - 0.75) ~ CUBOID):\n",
    "  < 3.2*arcAngle/4, 1.5, hCol >;\n",
    "DEF TheSecCols = STRUCT:< R:<1,2>:RotCross,\n",
    "  TheBotWal, R:<1,2>:wallAngle, \n",
    "  The4cols, R:<1,2>:(-5*arcAngle), \n",
    "  TheBotWal, R:<1,2>:wallAngle, \n",
    "  The5cols >;\n",
    "DEF TheMedColumns = (STRUCT ~ ##:4):<TheSecCols, R:<1,2>:(PI/-2)>;\n",
    "DEF hCol = 12 ;\n",
    "\n",
    "%\n",
    "STRUCT:<basement, T:3:hbasament, FullExtWall, TheMedColumns >;\n",
    "%"
   ]
  },
  {
   "cell_type": "code",
   "execution_count": 72,
   "metadata": {},
   "outputs": [
    {
     "data": {
      "text/plain": [
       "<pyplasm.xgepy.Hpc; proxy of <Swig Object of type 'std::shared_ptr< Hpc > *' at 0x000000000E9F6DE0> >"
      ]
     },
     "execution_count": 72,
     "metadata": {},
     "output_type": "execute_result"
    }
   ],
   "source": [
    "# PYPLASM:\n",
    "def Column(argomento):\n",
    "    w,h = argomento\n",
    "    basis = CUBOID([w,w,2*w/3])\n",
    "    trunk = CYLINDER([w/2*0.85,h-w])(8)\n",
    "    capitel = CUBOID([w,w,w/3])\n",
    "    return TOP([TOP([basis,trunk]),capitel])\n",
    "\n",
    "hCol = 12\n",
    "arcAngle = 2*PI/50.4\n",
    "wallAngle = -3.2*arcAngle/4\n",
    "RotCross = 3.2*arcAngle/4 + 2.5*arcAngle\n",
    "MyColumn = COMP([MKPOL,UKPOL,T(2)(r2-0.75),Column])([1.5,hCol])\n",
    "The4cols = COMP([R([1,2])(arcAngle*0.4/3.2),MKPOL,UKPOL,STRUCT,NN(4)])([R([1,2])(-arcAngle),MyColumn])\n",
    "The5Cols = COMP([R([1,2])(arcAngle*0.4/3.2),MKPOL,UKPOL,STRUCT,NN(5)])([R([1,2])(-arcAngle),MyColumn])\n",
    "TheBotWal = COMP([cylMap,MKPOL,UKPOL,T(2)(r2-0.75),CUBOID])([3.2*arcAngle/4,1.5,hCol])\n",
    "TheSecCols = STRUCT([R([1,2])(RotCross),\n",
    "                    TheBotWal,R([1,2])(wallAngle),\n",
    "                    The4cols,R([1,2])(-5*arcAngle),\n",
    "                    TheBotWal,R([1,2])(wallAngle),\n",
    "                    The5Cols])\n",
    "TheMedColumns = COMP([STRUCT,NN(4)])([TheSecCols,R([1,2])(PI/(-2))])\n",
    "\n",
    "VIEW(STRUCT([basement,T(3)(hbasament),FullExtWall,TheMedColumns]))"
   ]
  },
  {
   "cell_type": "markdown",
   "metadata": {},
   "source": [
    "![ws6_columns.png](files/Immagini/ws6_columns.png)"
   ]
  },
  {
   "cell_type": "markdown",
   "metadata": {},
   "source": [
    "<hr>"
   ]
  },
  {
   "cell_type": "code",
   "execution_count": 9,
   "metadata": {},
   "outputs": [
    {
     "ename": "SyntaxError",
     "evalue": "invalid syntax (<ipython-input-9-c5246a6b4fff>, line 6)",
     "output_type": "error",
     "traceback": [
      "\u001b[1;36m  File \u001b[1;32m\"<ipython-input-9-c5246a6b4fff>\"\u001b[1;36m, line \u001b[1;32m6\u001b[0m\n\u001b[1;33m    DEF bottomArc (d::IsRealPos) = Bezier:S1:<<0,0>,<0,2*d/3>,<d,2*d/3>,<d,0>>;\u001b[0m\n\u001b[1;37m                ^\u001b[0m\n\u001b[1;31mSyntaxError\u001b[0m\u001b[1;31m:\u001b[0m invalid syntax\n"
     ]
    }
   ],
   "source": [
    "# PLASM:\n",
    "%-------------------------------------------------------------%\n",
    "%---Archi sulle colonne---------------------------------------%\n",
    "%-------------------------------------------------------------%\n",
    "\n",
    "DEF bottomArc (d::IsRealPos) = Bezier:S1:<<0,0>,<0,2*d/3>,<d,2*d/3>,<d,0>>;\n",
    "DEF topArc (d::IsRealPos) = Bezier:S1:<<0,2*d/3>,<d,2*d/3>>;\n",
    "DEF arc2D  (d::IsRealPos) = Bezier:S2:<bottomArc:d,topArc:d>;\n",
    "DEF arc3D  (d::IsRealPos)(w::IsRealPos) = (T:2:w ~ R:<2,3>:(PI/2)):\n",
    "  ( MAP:(CONS:(arc2D:d)):(Intervals:1:8 * Intervals:1:1) * QUOTE:<w> );\n",
    "DEF Interarc (d1,d2::IsReal)(w::IsRealPos)= CUBOID:<d1,w,2*d2/3>;\n",
    "DEF Xarc (d1,d2::IsRealPos) (w::IsRealPos) = \n",
    "  Interarc:<d1,d2>:w RIGHT arc3D:d2:w RIGHT Interarc:<d1,d2>:w;\n",
    "\n",
    "DEF SizeArc = SIZE:1:TheArc;\n",
    "DEF TheArc = Xarc:<0.4,3.2>:1.5;\n",
    "DEF HeigthArc = SIZE:3:CurvedArc;\n",
    "DEF CurvedArc = (cylMap ~ MKPOL ~ UKPOL ~ T:2:(r2 - 0.75) ~ S:<1,3>:<sx,sz>):TheArc\n",
    "WHERE\n",
    "  sx = (1/SizeArc)*arcAngle,\n",
    "  sz = sx * (r2 - 2)\n",
    "END;\n",
    "DEF The5arcs = (MKPOL ~ UKPOL ~ STRUCT ~ ##:5):< CurvedArc, R:<1,2>:(-:arcAngle) >;\n",
    "DEF The6arcs = (MKPOL ~ UKPOL ~ STRUCT ~ ##:6):< CurvedArc, R:<1,2>:(-:arcAngle) >;\n",
    "DEF TheMidWall = (cylMap ~ MKPOL ~ UKPOL ~ T:2:(r2 - 0.75) ~ CUBOID):\n",
    "  <3.2*arcAngle/4, 1.5, HeigthArc>;\n",
    "DEF TheSector = STRUCT:< R:<1,2>:RotCross,\n",
    "  TheMidWall, R:<1,2>:wallAngle, \n",
    "  The5arcs, R:<1,2>:(-5*arcAngle), \n",
    "  TheMidWall, R:<1,2>:wallAngle, \n",
    "  The6arcs >;\n",
    "DEF TheArcs = (STRUCT ~ ##:4):<TheSector, R:<1,2>:(PI/-2)>;\n",
    "DEF TheArcsCols = STRUCT:< TheMedColumns, T:3:hCol, TheArcs >;\n",
    "\n",
    "%\n",
    "STRUCT:<basement, T:3:hbasament, FullExtWall, TheArcsCols >;\n",
    "%"
   ]
  },
  {
   "cell_type": "code",
   "execution_count": 73,
   "metadata": {},
   "outputs": [
    {
     "data": {
      "text/plain": [
       "<pyplasm.xgepy.Hpc; proxy of <Swig Object of type 'std::shared_ptr< Hpc > *' at 0x000000000E874E10> >"
      ]
     },
     "execution_count": 73,
     "metadata": {},
     "output_type": "execute_result"
    }
   ],
   "source": [
    "# PYPLASM:\n",
    "def bottomArc(d):\n",
    "    return BEZIER(S1)([[0,0],[0,2*d/3],[d,2*d/3],[d,0]])\n",
    "\n",
    "def topArc(d):\n",
    "    return BEZIER(S1)([[0,2*d/3],[d,2*d/3]])\n",
    "\n",
    "def arc2D(d):\n",
    "    return BEZIER(S2)([bottomArc(d),topArc(d)])\n",
    "\n",
    "def arc3D(d,w):\n",
    "    return COMP([T(2)(w),R([2,3])(PI/2)])(MAP(arc2D(d))(PROD([PROD([INTERVALS(1)(8),INTERVALS(1)(1)]),QUOTE([w])])))\n",
    "\n",
    "def Interarc(d1,d2,w):\n",
    "    return CUBOID([d1,w,2*d2/3])\n",
    "\n",
    "def Xarc(d1,d2,w):\n",
    "    return RIGHT([RIGHT([Interarc(d1,d2,w),arc3D(d2,w)]),Interarc(d1,d2,w)])\n",
    "\n",
    "def CurvedArc():\n",
    "    sx = (1/SizeArc)*arcAngle\n",
    "    sz = sx*(r2-2)\n",
    "    return COMP([cylMap,MKPOL,UKPOL,T(2)(r2-0.75),S([1,3])([sx,sz])])(TheArc)\n",
    "\n",
    "TheArc = Xarc(0.4,3.2,1.5)\n",
    "SizeArc = SIZE(1)(TheArc)\n",
    "HeightArc = SIZE(3)(CurvedArc())\n",
    "The5arcs = COMP([MKPOL,UKPOL,STRUCT,NN(5)])([CurvedArc(),R([1,2])(-arcAngle)])\n",
    "The6arcs = COMP([MKPOL,UKPOL,STRUCT,NN(6)])([CurvedArc(),R([1,2])(-arcAngle)])\n",
    "TheMidWall = COMP([cylMap,MKPOL,UKPOL,T(2)(r2-0.75),CUBOID])([3.2*arcAngle/4.0,1.5,HeightArc])\n",
    "TheSector = STRUCT([\n",
    "    R([1,2])(RotCross),\n",
    "    TheMidWall,R([1,2])(wallAngle),\n",
    "    The5arcs,R([1,2])(-5*arcAngle),\n",
    "    TheMidWall,R([1,2])(wallAngle),\n",
    "    The6arcs\n",
    "])\n",
    "TheArcs = COMP([STRUCT,NN(4)])([TheSector,R([1,2])(PI/-2)])\n",
    "TheArcsCols = STRUCT([TheMedColumns,T(3)(hCol),TheArcs])\n",
    "\n",
    "VIEW(STRUCT([basement,T(3)(hbasament),FullExtWall,TheArcsCols]))"
   ]
  },
  {
   "cell_type": "markdown",
   "metadata": {},
   "source": [
    "![ws6_archi.png](files/Immagini/ws6_archi.png)"
   ]
  },
  {
   "cell_type": "markdown",
   "metadata": {},
   "source": [
    "<hr>"
   ]
  },
  {
   "cell_type": "code",
   "execution_count": null,
   "metadata": {},
   "outputs": [],
   "source": [
    "# PLASM:\n",
    "%-------------------------------------------------------------%\n",
    "%---Muro intermedio superiore---------------------------------%\n",
    "%-------------------------------------------------------------%\n",
    "\n",
    "DEF MedWall2D = MKPOL:<<<0,4>,<8,4>,<17,4>,<17,5>,<12.5,7.5>,<8,5>,<0,8>>,\n",
    "<<1,2,6,7>,<2,3,4,5,6>>,\n",
    "<<1>,<2>>> & (QUOTE:(#:17:1) * QUOTE:<8>);\n",
    "DEF sizxMedWall = SIZE:1:MedWall2D;\n",
    "\n",
    "DEF MedWall = R:<2,3>:(PI/2):(MedWall2D * QUOTE:<1.5>);\n",
    "DEF CurvedMedWall = (cylMap ~ MKPOL ~ UKPOL ~ \n",
    "    T:2:(r2+0.75) ~ S:<1,3>:<PI/(4*sizxMedWall),hw4/8>):MedWall;\n",
    "\n",
    "DEF DoubleMedWall = STRUCT:<CurvedMedWall, S:1:-1:CurvedMedWall>;\n",
    "DEF FullMedWall = (STRUCT ~ ##:4):<DoubleMedWall, R:<1,2>:(PI/2)>;\n",
    "DEF MedWallArcs = STRUCT:< FullMedWall, TheArcsCols >;\n",
    "\n",
    "%\n",
    "STRUCT:<basement, T:3:hbasament, FullExtWall, MedWallArcs >;\n",
    "%"
   ]
  },
  {
   "cell_type": "code",
   "execution_count": 74,
   "metadata": {},
   "outputs": [
    {
     "data": {
      "text/plain": [
       "<pyplasm.xgepy.Hpc; proxy of <Swig Object of type 'std::shared_ptr< Hpc > *' at 0x000000000E8FA8D0> >"
      ]
     },
     "execution_count": 74,
     "metadata": {},
     "output_type": "execute_result"
    }
   ],
   "source": [
    "# PYPLASM:\n",
    "MedWall2D = INTERSECTION([\n",
    "    MKPOL([[[0,4],[8,4],[17,4],[17,5],[12.5,7.5],[8,5],[0,8]],\n",
    "           [[1,2,6,7],[2,3,4,5,6]],\n",
    "           [[1],[2]]]),\n",
    "    PROD([COMP([QUOTE,N(17)])(1),QUOTE([8])])])\n",
    "sizxMedWall = SIZE(1)(MedWall2D)\n",
    "MedWall = R([2,3])(PI/2)(PROD([MedWall2D,QUOTE([1.5])]))\n",
    "CurvedMedWall = COMP([\n",
    "    cylMap,MKPOL,\n",
    "    UKPOL,\n",
    "    T(2)(r2+0.75),\n",
    "    S([1,3])([PI/(4*sizxMedWall),hw4/8])])(MedWall)\n",
    "DoubleMedWall = STRUCT([CurvedMedWall,S(1)(-1)(CurvedMedWall)])\n",
    "FullMedWall = COMP([STRUCT,NN(4)])([DoubleMedWall,R([1,2])(PI/2)])\n",
    "MedWallArcs = STRUCT([FullMedWall,TheArcsCols])\n",
    "\n",
    "VIEW(STRUCT([basement,T(3)(hbasament),FullExtWall,MedWallArcs]))"
   ]
  },
  {
   "cell_type": "markdown",
   "metadata": {},
   "source": [
    "![ws6_medwall.png](files/Immagini/ws6_medwall.png)"
   ]
  },
  {
   "cell_type": "markdown",
   "metadata": {},
   "source": [
    "<hr>"
   ]
  },
  {
   "cell_type": "code",
   "execution_count": null,
   "metadata": {},
   "outputs": [],
   "source": [
    "# PLASM:\n",
    "%-------------------------------------------------------------%\n",
    "%---Muri laterali della croce---------------------------------%\n",
    "%-------------------------------------------------------------%\n",
    "\n",
    "\n",
    "DEF CrossWall = (T:1:-1 ~ R:<1,2>:(0.2*arcAngle) ~ \n",
    "  S:3:(hw4/8) ~ CUBOID):<1.5,r3 - r2,5>;\n",
    "DEF SingleWall =  (R:<1,2>:(2.5*arcAngle) ~ T:2:r2):CrossWall;\n",
    "DEF DoubleWall =  STRUCT:< SingleWall, S:1:-1, SingleWall >;\n",
    "DEF CrossWalls = (STRUCT ~ ##:4):<DoubleWall, R:<1,2>:(PI/2)>;\n",
    "\n",
    "%\n",
    "STRUCT:<basement, T:3:hbasament, FullExtWall, MedWallArcs, CrossWalls >;\n",
    "%"
   ]
  },
  {
   "cell_type": "code",
   "execution_count": 75,
   "metadata": {},
   "outputs": [
    {
     "data": {
      "text/plain": [
       "<pyplasm.xgepy.Hpc; proxy of <Swig Object of type 'std::shared_ptr< Hpc > *' at 0x000000000E976F90> >"
      ]
     },
     "execution_count": 75,
     "metadata": {},
     "output_type": "execute_result"
    }
   ],
   "source": [
    "# PYPLASM:\n",
    "CrossWall = COMP([T(1)(-1),R([1,2])(0.2*arcAngle),S(3)(hw4/8),CUBOID])([1.5,r3-r2,5])\n",
    "SingleWall = COMP([R([1,2])(2.5*arcAngle),T(2)(r2)])(CrossWall)\n",
    "DoubleWall = STRUCT([SingleWall,S(1)(-1),SingleWall])\n",
    "CrossWalls = COMP([STRUCT,NN(4)])([DoubleWall,R([1,2])(PI/2)])\n",
    "\n",
    "VIEW(STRUCT([basement,T(3)(hbasament),FullExtWall, MedWallArcs,CrossWalls]))"
   ]
  },
  {
   "cell_type": "markdown",
   "metadata": {},
   "source": [
    "![ws6_crosswall.png](files/Immagini/ws6_crosswall.png)\n",
    "![ws6_crosswall_up.png](files/Immagini/ws6_crosswall_up.png)"
   ]
  },
  {
   "cell_type": "markdown",
   "metadata": {},
   "source": [
    "<hr>"
   ]
  },
  {
   "cell_type": "code",
   "execution_count": null,
   "metadata": {},
   "outputs": [],
   "source": [
    "# PLASM:\n",
    "%-------------------------------------------------------------%\n",
    "%---Tetto sulla croce-----------------------------------------%\n",
    "%-------------------------------------------------------------%\n",
    "\n",
    "DEF HalfTetto = MKPOL:<<<0,r2,8>,<8,r2,5>,<8,r3,5>,<0,r3,8>>,<1..4>,<<1>>>;\n",
    "DEF CurvedHalfTetto = (cylMap ~ S:<1,3>:<2.5*arcAngle/8,hw4/8>):HalfTetto;\n",
    "DEF DoubleHalfTetto = STRUCT:<CurvedHalfTetto, S:1:-1:CurvedHalfTetto>;\n",
    "DEF FullTetto = (STRUCT ~ ##:4):<DoubleHalfTetto, R:<1,2>:(PI/-2)>;\n",
    "\n",
    "%\n",
    "STRUCT:<basement, T:3:hbasament, FullExtWall, MedWallArcs, \n",
    "        CrossWalls, FullTetto >;\n",
    "%"
   ]
  },
  {
   "cell_type": "code",
   "execution_count": 76,
   "metadata": {},
   "outputs": [
    {
     "data": {
      "text/plain": [
       "<pyplasm.xgepy.Hpc; proxy of <Swig Object of type 'std::shared_ptr< Hpc > *' at 0x000000000E92CA80> >"
      ]
     },
     "execution_count": 76,
     "metadata": {},
     "output_type": "execute_result"
    }
   ],
   "source": [
    "# PYPLASM:\n",
    "HalfTetto = MKPOL([[[0,r2,8],[8,r2,5],[8,r3,5],[0,r3,8]],[range(1,5)],[[1]]])\n",
    "CurvedHalfTetto = COMP([cylMap,S([1,3])([2.5*arcAngle/8,hw4/8])])(HalfTetto)\n",
    "DoubleHalfTetto = STRUCT([CurvedHalfTetto,S(1)(-1)(CurvedHalfTetto)])\n",
    "FullTetto = COMP([STRUCT,NN(4)])([DoubleHalfTetto,R([1,2])(PI/-2)])\n",
    "\n",
    "VIEW(STRUCT([basement,T(3)(hbasament),FullExtWall,MedWallArcs,CrossWalls,FullTetto]))"
   ]
  },
  {
   "cell_type": "markdown",
   "metadata": {},
   "source": [
    "![ws6_halftetto.png](files/Immagini/ws6_halftetto.png)"
   ]
  },
  {
   "cell_type": "markdown",
   "metadata": {},
   "source": [
    "<hr>"
   ]
  },
  {
   "cell_type": "code",
   "execution_count": null,
   "metadata": {},
   "outputs": [],
   "source": [
    "# PLASM:\n",
    "%-------------------------------------------------------------%\n",
    "%---Muro con Triplice apertura--------------------------------%\n",
    "%-------------------------------------------------------------%\n",
    "\n",
    "DEF CourtWall (d1,d2::IsRealPos) (n1,n2::IsIntPos) = \n",
    "  LeftWall OP TripleHole OP RightWall\n",
    "WHERE\n",
    "  op = ALIGN:<<1,MAX,MIN>,<2,MIN,MIN>>,\n",
    "  LeftWall = ((QUOTE ~ #:n1):(d1/n1)) * CUBOID:<1,h>,\n",
    "  RightWall = ((QUOTE ~ #:n2):(d2/n2)) * CUBOID:<1,h>,\n",
    "  h = SIZE:3:TripleHole,\n",
    "  TripleHole = STRUCT:<column:<w,2>, T:1:(2+w), column:<w,2>> \n",
    "    TOP Xarc:<2,2>:1,\n",
    "  w = 0.7\n",
    "END;\n",
    "%\n",
    "CourtWall:<6,6>:<3,3>\n",
    "%"
   ]
  },
  {
   "cell_type": "code",
   "execution_count": 77,
   "metadata": {},
   "outputs": [
    {
     "data": {
      "text/plain": [
       "<pyplasm.xgepy.Hpc; proxy of <Swig Object of type 'std::shared_ptr< Hpc > *' at 0x000000000E914CF0> >"
      ]
     },
     "execution_count": 77,
     "metadata": {},
     "output_type": "execute_result"
    }
   ],
   "source": [
    "# PYPLASM:\n",
    "def CourtWall(d1,d2,n1,n2):\n",
    "    w = 0.7\n",
    "    TripleHole = TOP([STRUCT([Column([w,2]),T(1)(2+w),Column([w,2])]),Xarc(2,2,1)])\n",
    "    h = SIZE(3)(TripleHole)\n",
    "    op = ALIGN([[1,MAX,MIN],[2,MIN,MIN]])\n",
    "    LeftWall = PROD([COMP([QUOTE,N(n1)])(d1/n1),CUBOID([1,h])])\n",
    "    RightWall = PROD([COMP([QUOTE,N(n2)])(d2/n2),CUBOID([1,h])])\n",
    "    return op([op([LeftWall,TripleHole]),RightWall])\n",
    "\n",
    "VIEW(CourtWall(6,6,3,3))"
   ]
  },
  {
   "cell_type": "markdown",
   "metadata": {},
   "source": [
    "![ws6_courtwall.png](files/Immagini/ws6_courtwall.png)"
   ]
  },
  {
   "cell_type": "markdown",
   "metadata": {},
   "source": [
    "<hr>"
   ]
  },
  {
   "cell_type": "code",
   "execution_count": null,
   "metadata": {},
   "outputs": [],
   "source": [
    "# PLASM:\n",
    "%-------------------------------------------------------------%\n",
    "%---Muro inferiore Cortile interno----------------------------%\n",
    "%-------------------------------------------------------------%\n",
    "\n",
    "DEF MyCourtWall = CourtWall:<12,12>:<9,9>;\n",
    "DEF sizxCourtWall = SIZE:1:MyCourtWall;\n",
    "DEF CurvedCourtWall = (optimize ~ \n",
    "    R:<1,2>:(-2.5*arcAngle) ~ mapping ~ T:2:((r3+r2)/2)): MyCourtWall;\n",
    "DEF mapping = (cylMap ~ S:<1,3>:<(7.25*PI/24)*(1/sizxCourtWall),hw4/8>);\n",
    "DEF CrossCourtWall = (STRUCT ~ ##:4):<CurvedCourtWall, R:<1,2>:(PI/2)>;\n",
    "%\n",
    "STRUCT:<FullTetto, CrossWalls, CrossCourtWall >;\n",
    "STRUCT:<basement, T:3:hbasament, FullExtWall, FullTetto, CrossCourtWall,\n",
    "        CrossWalls, MedWallArcs, TheMedColumns>;\n",
    "%"
   ]
  },
  {
   "cell_type": "code",
   "execution_count": 78,
   "metadata": {},
   "outputs": [
    {
     "data": {
      "text/plain": [
       "<pyplasm.xgepy.Hpc; proxy of <Swig Object of type 'std::shared_ptr< Hpc > *' at 0x000000000E96B660> >"
      ]
     },
     "execution_count": 78,
     "metadata": {},
     "output_type": "execute_result"
    }
   ],
   "source": [
    "# PYPLASM:\n",
    "MyCourtWall = CourtWall(12,12,9,9)\n",
    "sizxCourtWall = SIZE(1)(MyCourtWall)\n",
    "mapping = COMP([cylMap,S([1,3])([(7.25*PI/24)*(1/sizxCourtWall),hw4/8])])\n",
    "CurvedCourtWall = COMP([\n",
    "    OPTIMIZE,\n",
    "    R([1,2])(-2.5*arcAngle),\n",
    "    mapping,\n",
    "    T(2)((r3+r2)/2)])(MyCourtWall)\n",
    "CrossCourtWall = COMP([STRUCT,NN(4)])([CurvedCourtWall,R([1,2])(PI/2)])\n",
    "\n",
    "VIEW(STRUCT([FullTetto,CrossWalls,CrossCourtWall]))\n",
    "VIEW(STRUCT([basement,T(3)(hbasament),FullExtWall,FullTetto,CrossCourtWall,CrossWalls,MedWallArcs,TheMedColumns]))"
   ]
  },
  {
   "cell_type": "markdown",
   "metadata": {},
   "source": [
    "![ws6_courtwall_2.png](files/Immagini/ws6_courtwall_2.png)\n",
    "![ws6_courtwall_3.png](files/Immagini/ws6_courtwall_3.png)\n",
    "![ws6_courtwall_3_detail.png](files/Immagini/ws6_courtwall_3_detail.png)"
   ]
  },
  {
   "cell_type": "markdown",
   "metadata": {},
   "source": [
    "<hr>"
   ]
  },
  {
   "cell_type": "code",
   "execution_count": null,
   "metadata": {},
   "outputs": [],
   "source": [
    "# PLASM:\n",
    "%-------------------------------------------------------------%\n",
    "%---Coronamento Muro Cortile interno--------------------------%\n",
    "%-------------------------------------------------------------%\n",
    "\n",
    "DEF TopCourtWall2D = MKPOL:<<<0,3.333>,<10,3.333>,<10,4.333>,<5,6.333>,<0,4.333>>,\n",
    "    <1..5>,<<1>>> & (QUOTE:(#:10:1) * QUOTE:<8>);\n",
    "DEF TopCourtWall = R:<2,3>:(PI/2):(TopCourtWall2D * QUOTE:<1>);\n",
    "DEF MyTopCourtWall = TopCourtWall RIGHT TopCourtWall RIGHT TopCourtWall; \n",
    "DEF CurvedTopCourtWall = (\n",
    "    R:<1,2>:(-2.5*arcAngle) ~ mapping ~ T:2:((r3+r2+2)/2)): MyTopCourtWall;\n",
    "DEF FullTopCourtWall = (STRUCT ~ ##:4):<CurvedTopCourtWall, R:<1,2>:(PI/2)>;\n",
    "%\n",
    "STRUCT:<FullTetto, CrossWalls, CrossCourtWall, FullTopCourtWall >;\n",
    "\n",
    "STRUCT:<basement, T:3:hbasament, FullExtWall, FullTetto, CrossCourtWall,\n",
    "        CrossWalls, MedWallArcs, TheMedColumns, FullTopCourtWall>;\n",
    "%"
   ]
  },
  {
   "cell_type": "code",
   "execution_count": 79,
   "metadata": {},
   "outputs": [
    {
     "data": {
      "text/plain": [
       "<pyplasm.xgepy.Hpc; proxy of <Swig Object of type 'std::shared_ptr< Hpc > *' at 0x000000000E9E36C0> >"
      ]
     },
     "execution_count": 79,
     "metadata": {},
     "output_type": "execute_result"
    }
   ],
   "source": [
    "TopCourtWall2D = INTERSECTION([\n",
    "    MKPOL([\n",
    "        [[0,3.333],[10,3.333],[10,4.333],[5,6.333],[0,4.333]],\n",
    "        [range(1,6)],\n",
    "        [[1]]]),\n",
    "    PROD([COMP([QUOTE,N(10)])(1),QUOTE([8])])])\n",
    "TopCourtWall = R([2,3])(PI/2)(PROD([TopCourtWall2D,QUOTE([1])]))\n",
    "MyTopCourtWall = RIGHT([TopCourtWall,RIGHT([TopCourtWall,TopCourtWall])])\n",
    "CurvedTopCourtWall = COMP([R([1,2])(-2.5*arcAngle),mapping,T(2)((r3+r2+2)/2)])(MyTopCourtWall)\n",
    "FullTopCourtWall = COMP([STRUCT,NN(4)])([CurvedTopCourtWall,R([1,2])(PI/2)])\n",
    "\n",
    "VIEW(STRUCT([FullTetto,CrossWalls,CrossCourtWall,FullTopCourtWall]))\n",
    "VIEW(STRUCT([\n",
    "    basement,\n",
    "    T(3)(hbasament),\n",
    "    FullExtWall,\n",
    "    FullTetto,\n",
    "    CrossCourtWall,\n",
    "    CrossWalls,\n",
    "    MedWallArcs,\n",
    "    TheMedColumns,\n",
    "    FullTopCourtWall]))"
   ]
  },
  {
   "cell_type": "markdown",
   "metadata": {},
   "source": [
    "![ws6_topcourtwall.png](files/Immagini/ws6_topcourtwall.png)\n",
    "![ws6_topcourtwall_2.png](files/Immagini/ws6_topcourtwall_2.png)"
   ]
  },
  {
   "cell_type": "markdown",
   "metadata": {},
   "source": [
    "<hr>"
   ]
  },
  {
   "cell_type": "code",
   "execution_count": null,
   "metadata": {},
   "outputs": [],
   "source": [
    "# PLASM:\n",
    "%-------------------------------------------------------------%\n",
    "%---Tetto su Cortile interno----------------------------------%\n",
    "%-------------------------------------------------------------%\n",
    "\n",
    "DEF RotWall = 2.5*arcAngle;\n",
    "DEF CourTetto = MKPOL:<<<0,(r3+r2+2)/2,3.333>,<10,(r3+r2+2)/2,3.333>,\n",
    "    <10,r2,4.333>,<0,r2,4.333>,\n",
    "    <0,(r3+r2+2)/2,3.433>,<10,(r3+r2+2)/2,3.433>,\n",
    "    <10,r2,4.433>,<0,r2,4.433> >, <1..8>,<<1>>> \n",
    "& \n",
    "   (QUOTE:(#:10:1) * QUOTE:<(r3+r2+2)/2> * QUOTE:<5>);\n",
    "\n",
    "DEF MyCourTetto = CourTetto RIGHT CourTetto RIGHT CourTetto; \n",
    "DEF CurvedCourTetto = (R:<1,2>:(-:RotWall) ~ mapping): MyCourTetto;\n",
    "DEF FullCourTetto = (STRUCT ~ ##:4):<CurvedCourTetto, R:<1,2>:(PI/2)>;\n",
    "\n",
    "%\n",
    "STRUCT:<FullTetto, CrossWalls, CrossCourtWall, FullTopCourtWall,\n",
    "        FullCourTetto >;\n",
    "STRUCT:<basement, T:3:hbasament, FullExtWall, FullTetto, CrossCourtWall,\n",
    "        CrossWalls, MedWallArcs, TheMedColumns, FullTopCourtWall, FullCourTetto>;\n",
    "%"
   ]
  },
  {
   "cell_type": "code",
   "execution_count": 80,
   "metadata": {},
   "outputs": [
    {
     "data": {
      "text/plain": [
       "<pyplasm.xgepy.Hpc; proxy of <Swig Object of type 'std::shared_ptr< Hpc > *' at 0x000000000E859030> >"
      ]
     },
     "execution_count": 80,
     "metadata": {},
     "output_type": "execute_result"
    }
   ],
   "source": [
    "RotWall = 2.5*arcAngle\n",
    "CourTetto = INTERSECTION([\n",
    "    MKPOL([\n",
    "        [[0,(r3+r2+2)/2,3.333],\n",
    "         [10,(r3+r2+2)/2,3.333],\n",
    "         [10,r2,4.333],\n",
    "         [0,r2,4.333],\n",
    "         [0,(r3+r2+2)/2,3.433],\n",
    "         [10,(r3+r2+2)/2,3.433],\n",
    "         [10,r2,4.433],\n",
    "         [0,r2,4.433]],\n",
    "        [range(1,9)],[[1]]]),\n",
    "    PROD([\n",
    "        COMP([QUOTE,N(10)])(1),PROD([QUOTE([(r3+r2+2)/2]),QUOTE([5])])])])\n",
    "MyCourTetto = RIGHT([CourTetto,RIGHT([CourTetto,CourTetto])])\n",
    "CurvedCourTetto = COMP([R([1,2])(-(RotWall)),mapping])(MyCourTetto)\n",
    "FullCourTetto = COMP([STRUCT,NN(4)])([CurvedCourTetto,R([1,2])(PI/2)])\n",
    "\n",
    "VIEW(STRUCT([FullTetto,CrossWalls,CrossCourtWall,FullTopCourtWall,FullCourTetto]))\n",
    "VIEW(STRUCT([\n",
    "    basement,\n",
    "    T(3)(hbasament),\n",
    "    FullExtWall,\n",
    "    FullTetto,\n",
    "    CrossCourtWall,\n",
    "    CrossWalls,\n",
    "    MedWallArcs,\n",
    "    TheMedColumns,\n",
    "    FullTopCourtWall,\n",
    "    FullCourTetto]))"
   ]
  },
  {
   "cell_type": "markdown",
   "metadata": {},
   "source": [
    "![ws6_courtetto.png](files/Immagini/ws6_courtetto.png)\n",
    "![ws6_courtetto_2.png](files/Immagini/ws6_courtetto_2.png)"
   ]
  },
  {
   "cell_type": "markdown",
   "metadata": {},
   "source": [
    "<hr>"
   ]
  },
  {
   "cell_type": "code",
   "execution_count": null,
   "metadata": {},
   "outputs": [],
   "source": [
    "# PLASM:\n",
    "%-------------------------------------------------------------%\n",
    "%---Colonne muro interno--------------------------------------%\n",
    "%-------------------------------------------------------------%\n",
    "\n",
    "DEF Radial22Obj (Obj::IsPol) = \n",
    "  STRUCT:< The20Obj, R:<1,2>:((20*PI)/11), The2Obj >\n",
    "WHERE\n",
    "  The4Obj = (STRUCT ~ ##:4):< Obj, R:<1,2>:(PI/11) >,\n",
    "  The2Obj  = (STRUCT ~ ##:2):< Obj, R:<1,2>:(PI/11) >,\n",
    "  The20Obj = (STRUCT ~ ##:5):< The4Obj, R:<1,2>:((4*PI)/11) >\n",
    "END;\n",
    "\n",
    "DEF InternalCol = (MKPOL ~ UKPOL ~ T:2:((r0 - 2)) ~ Column):<1.5,hCol>;\n",
    "DEF The22Columns = Radial22Obj:InternalCol;"
   ]
  },
  {
   "cell_type": "code",
   "execution_count": 81,
   "metadata": {},
   "outputs": [],
   "source": [
    "# PYPLASM:\n",
    "def Radial22Obj(Obj):\n",
    "    The4Obj = COMP([STRUCT,NN(4)])([Obj,R([1,2])(PI/11)])\n",
    "    The2Obj = COMP([STRUCT,NN(2)])([Obj,R([1,2])(PI/11)])\n",
    "    The20Obj = COMP([STRUCT,NN(5)])([The4Obj,R([1,2])((4*PI)/11)])\n",
    "    return STRUCT([The20Obj,R([1,2])((20*PI)/11),The2Obj])\n",
    "\n",
    "InternalCol = COMP([MKPOL,UKPOL,T(2)((r0-2)),Column])([1.5,hCol])\n",
    "The22Columns = Radial22Obj(InternalCol)"
   ]
  },
  {
   "cell_type": "markdown",
   "metadata": {},
   "source": [
    "<hr>"
   ]
  },
  {
   "cell_type": "code",
   "execution_count": null,
   "metadata": {},
   "outputs": [],
   "source": [
    "# PLASM:\n",
    "%-------------------------------------------------------------%\n",
    "%---Travi muro interno----------------------------------------%\n",
    "%-------------------------------------------------------------%\n",
    "\n",
    "DEF Beam = Q:<-0.5,1.5,2,1.5> * Q:<2.2> * Q:1.5;\n",
    "DEF CurvedBeam = (cylMap ~ T:<2,3>:<(r0 - 2),hcol> ~ S:1:(PI/(11*5)) ):Beam;\n",
    "DEF The22Beams = Radial22Obj:CurvedBeam;\n",
    "\n",
    "%\n",
    "STRUCT:< The22Columns, The22Beams >;\n",
    "\n",
    "STRUCT:<basement, T:3:hbasament, FullExtWall, FullTetto, CrossCourtWall,\n",
    "        CrossWalls, MedWallArcs, TheMedColumns, FullTopCourtWall, \n",
    "        FullCourTetto, The22Columns, The22Beams >;\n",
    "%"
   ]
  },
  {
   "cell_type": "code",
   "execution_count": 82,
   "metadata": {},
   "outputs": [
    {
     "data": {
      "text/plain": [
       "<pyplasm.xgepy.Hpc; proxy of <Swig Object of type 'std::shared_ptr< Hpc > *' at 0x000000000E9C4720> >"
      ]
     },
     "execution_count": 82,
     "metadata": {},
     "output_type": "execute_result"
    }
   ],
   "source": [
    "# PYPLASM:\n",
    "Beam = PROD([QUOTE([-0.5,1.5,2,1.5]),PROD([QUOTE([2.2]),QUOTE([1.5])])])\n",
    "CurvedBeam = COMP([cylMap,T([2,3])([(r0 - 2),hCol]),S(1)(PI/(11*5))])(Beam)\n",
    "The22Beams = Radial22Obj(CurvedBeam)\n",
    "\n",
    "VIEW(STRUCT([The22Columns,The22Beams]))\n",
    "VIEW(STRUCT([\n",
    "    basement,\n",
    "    T(3)(hbasament),\n",
    "    FullExtWall,\n",
    "    FullTetto,\n",
    "    CrossCourtWall,\n",
    "    CrossWalls,\n",
    "    MedWallArcs,\n",
    "    TheMedColumns,\n",
    "    FullTopCourtWall,\n",
    "    FullCourTetto,\n",
    "    The22Columns,\n",
    "    The22Beams]))"
   ]
  },
  {
   "cell_type": "markdown",
   "metadata": {},
   "source": [
    "![ws6_beam.png](files/Immagini/ws6_beam.png)\n",
    "![ws6_beam_2.png](files/Immagini/ws6_beam_2.png)"
   ]
  },
  {
   "cell_type": "markdown",
   "metadata": {},
   "source": [
    "<hr>"
   ]
  },
  {
   "cell_type": "code",
   "execution_count": null,
   "metadata": {},
   "outputs": [],
   "source": [
    "# PLASM:\n",
    "%-------------------------------------------------------------%\n",
    "%---Muro interno superiore------------------------------------%\n",
    "%-------------------------------------------------------------%\n",
    "\n",
    "DEF Hwall = STRUCT:<\n",
    "%  QUOTE:<-0.5,1.5,-2,1.5> * QUOTE:<-0.3,1.4> * QUOTE:<2.5*hCol>,\n",
    "  QUOTE:<-2.0,2> * QUOTE:<-0.3,1.4> * QUOTE:<1.5*hCol, -0.5*hcol, 0.5*hcol>\n",
    "%  QUOTE:<-0.5,1.75,-1.5,1.75> * QUOTE:<-0.3,1.4> * QUOTE:<2.5*hCol>,\n",
    "  QUOTE:<-2.25,1.5> * QUOTE:<-0.3,1.4> * QUOTE:<1.5*hCol, -0.5*hcol, 0.5*hcol>\n",
    ">;\n",
    "DEF CurvedHwall = (cylMap ~ T:<2,3>:<(r0 - 2),hcol> ~ S:1:(PI/(11*5)) ):Hwall;\n",
    "DEF The22Hwall = Radial22Obj:CurvedHwall;\n",
    "%\n",
    "STRUCT:< The22Columns, The22Beams, The22Hwall >;\n",
    "\n",
    "STRUCT:<basement, T:3:hbasament, FullExtWall, FullTetto, CrossCourtWall,\n",
    "        CrossWalls, MedWallArcs, TheMedColumns, FullTopCourtWall, \n",
    "        FullCourTetto, The22Columns, The22Beams, The22Hwall >;\n",
    "%"
   ]
  },
  {
   "cell_type": "code",
   "execution_count": 83,
   "metadata": {},
   "outputs": [
    {
     "data": {
      "text/plain": [
       "<pyplasm.xgepy.Hpc; proxy of <Swig Object of type 'std::shared_ptr< Hpc > *' at 0x000000000E96B210> >"
      ]
     },
     "execution_count": 83,
     "metadata": {},
     "output_type": "execute_result"
    }
   ],
   "source": [
    "Hwall1 = INSR(PROD)([QUOTE([-0.5,1.5,-2,1.5]),QUOTE([-0.3,1.4]),QUOTE([2.5*hCol])])\n",
    "Hwall2 = INSR(PROD)([QUOTE([-2.0,2.0]),QUOTE([-0.3,1.4]),QUOTE([1.5*hCol,-0.5*hCol,0.5*hCol])])\n",
    "Hwall3 = INSR(PROD)([QUOTE([-0.5,1.75,-1.5,1.75]),QUOTE([-0.3,1.4]),QUOTE([2.5*hCol])])\n",
    "Hwall4 = INSR(PROD)([QUOTE([-2.25,1.5]),QUOTE([-0.3,1.4]),QUOTE([1.5*hCol,-0.5*hCol,0.5*hCol])])\n",
    "Hwall = STRUCT([Hwall1,Hwall2,Hwall3,Hwall4])\n",
    "CurvedHwall = COMP([cylMap,T([2,3])([(r0-2),hCol]),S(1)(PI/(11*5))])(Hwall)\n",
    "The22Hwall = Radial22Obj(CurvedHwall)\n",
    "\n",
    "VIEW(STRUCT([The22Columns,The22Beams,The22Hwall]))\n",
    "VIEW(STRUCT([basement,\n",
    "             T(3)(hbasament),\n",
    "             FullExtWall,\n",
    "             FullTetto,\n",
    "             CrossCourtWall,\n",
    "             CrossWalls,\n",
    "             MedWallArcs,\n",
    "             MedWallArcs,\n",
    "             TheMedColumns,\n",
    "             FullTopCourtWall,\n",
    "             FullCourTetto,\n",
    "             The22Columns,\n",
    "             The22Beams,\n",
    "             The22Hwall]))"
   ]
  },
  {
   "cell_type": "markdown",
   "metadata": {},
   "source": [
    "![ws6_hwall.png](files/Immagini/ws6_hwall.png)\n",
    "![ws6_hwall_2.png](files/Immagini/ws6_hwall_2.png)"
   ]
  },
  {
   "cell_type": "markdown",
   "metadata": {},
   "source": [
    "<hr>"
   ]
  },
  {
   "cell_type": "code",
   "execution_count": null,
   "metadata": {},
   "outputs": [],
   "source": [
    "# PLASM:\n",
    "%-------------------------------------------------------------%\n",
    "%---Coronamento superiore muro interno -----------------------%\n",
    "%-------------------------------------------------------------%\n",
    "\n",
    "DEF myArc = MAP:[SIN ~ S1, COS ~ S1]:(QUOTE:(#:5:(PI/10)));\n",
    "DEF Vertex = MKPOL:<<<0,0>>,<<1>>,<<1>>>;\n",
    "DEF Sector = JOIN:<myArc, Vertex>;\n",
    "DEF Triangle = S:1:-1:(SIMPLEX:2);\n",
    "DEF SectorTriangle2D = STRUCT:<T:1:0.05, Sector, T:1:2, Triangle>;\n",
    "DEF DoubleSect = STRUCT:< SectorTriangle2D, S:1:-1:SectorTriangle2D>;\n",
    "DEF Sect2D = S:1:(2/2.05):DoubleSect;\n",
    "DEF Sect3D = R:<2,3>:(PI/2):(Sect2D * QUOTE:<0.8>);\n",
    "DEF CurvedSect = (cylMap ~ T:2:(r0 %- 2%) ~ S:<1,3>:<(2*PI)/(11*4),3> ):Sect3D;\n",
    "DEF Frieze = T:3:(3.5*hcol):CurvedSect;\n",
    "DEF Radial11Obj (Obj::IsPol) = \n",
    "  STRUCT:< The10Obj, R:<1,2>:((20*PI)/11), Obj >\n",
    "WHERE\n",
    "  The2Obj = (STRUCT ~ ##:2):< Obj, R:<1,2>:((2*PI)/11) >,\n",
    "  The10Obj = (STRUCT ~ ##:5):< The2Obj, R:<1,2>:((4*PI)/11) >\n",
    "END;\n",
    "DEF The11Frieze = Radial11Obj:Frieze;\n",
    "\n",
    "%\n",
    "The11Frieze;\n",
    "STRUCT:<basement, T:3:hbasament, FullExtWall, FullTetto, CrossCourtWall,\n",
    "        CrossWalls, MedWallArcs, TheMedColumns, FullTopCourtWall, \n",
    "        FullCourTetto, The22Columns, The22Beams, The22Hwall, The11Frieze >;\n",
    "%"
   ]
  },
  {
   "cell_type": "code",
   "execution_count": 84,
   "metadata": {},
   "outputs": [
    {
     "data": {
      "text/plain": [
       "<pyplasm.xgepy.Hpc; proxy of <Swig Object of type 'std::shared_ptr< Hpc > *' at 0x000000000E9D4A50> >"
      ]
     },
     "execution_count": 84,
     "metadata": {},
     "output_type": "execute_result"
    }
   ],
   "source": [
    "# PYPLASM:\n",
    "x2 = lambda x : math.sin(x[0])\n",
    "y2 = lambda x : math.cos(x[0])\n",
    "myArc = MAP([x2,y2])(COMP([QUOTE,N(5)])(PI/10))\n",
    "Vertex = MKPOL([[[0,0]],[[1]],[[1]]])\n",
    "Sector = JOIN([myArc,Vertex])\n",
    "Triangle = S(1)(-1)((SIMPLEX(2)))\n",
    "SectorTriangle2D = STRUCT([T(1)(0.05),Sector,T(1)(2),Triangle])\n",
    "DoubleSect = STRUCT([SectorTriangle2D,S(1)(-1)(SectorTriangle2D)])\n",
    "Sect2D = S(1)(2/2.05)(DoubleSect)\n",
    "Sect3D = R([2,3])(PI/2)(PROD([Sect2D,QUOTE([0.8])]))\n",
    "CurvedSect = COMP([cylMap, T(2)(r0),S([1,3])([(2*PI)/(11*4),3])])(Sect3D)\n",
    "Frieze = T(3)(3.5*hCol)(CurvedSect)\n",
    "\n",
    "def Radial11Obj(Obj):\n",
    "    The2Obj = COMP([STRUCT,NN(2)])([Obj,R([1,2])((2*PI)/11)])\n",
    "    The10Obj = COMP([STRUCT,NN(5)])([The2Obj,R([1,2])((4*PI)/11)])\n",
    "    return STRUCT([The10Obj,R([1,2])((20*PI)/11),Obj])\n",
    "\n",
    "The11Frieze = Radial11Obj(Frieze)\n",
    "\n",
    "VIEW(The11Frieze)\n",
    "VIEW(STRUCT([\n",
    "    basement,\n",
    "    T(3)(hbasament),\n",
    "    FullExtWall,\n",
    "    FullTetto,\n",
    "    CrossCourtWall,\n",
    "    CrossWalls,\n",
    "    MedWallArcs,\n",
    "    TheMedColumns,\n",
    "    FullTopCourtWall,\n",
    "    FullCourTetto,\n",
    "    The22Columns,\n",
    "    The22Beams,\n",
    "    The22Hwall,\n",
    "    The11Frieze]))"
   ]
  },
  {
   "cell_type": "markdown",
   "metadata": {},
   "source": [
    "![ws6_radial.png](files/Immagini/ws6_radial.png)\n",
    "![ws6_radial_2.png](files/Immagini/ws6_radial_2.png)"
   ]
  },
  {
   "cell_type": "markdown",
   "metadata": {},
   "source": [
    "<hr>"
   ]
  },
  {
   "cell_type": "code",
   "execution_count": null,
   "metadata": {},
   "outputs": [],
   "source": [
    "# PLASM:\n",
    "%-------------------------------------------------------------%\n",
    "%---Traliccio Tetto interno-----------------------------------%\n",
    "%-------------------------------------------------------------%\n",
    "\n",
    "DEF Trellis (H,L::IsRealPos) = (R:<2,3>:(PI/2) ~ EMBED:1 ~ MKPOL):\n",
    "  <<<0,0>,<L/3,0>,<2*L/3,0>,<L,0>,<2*L/3,H/3>,<L/3,2*H/3>,<0,H>>,\n",
    "   <<1,2>,<2,3>,<3,4>,<4,5>,<5,6>,<6,7>,<7,1>,<1,6>,<6,2>,<2,5>,<5,3>>,\n",
    "   <1..11> > ;\n",
    "DEF Radial (n::IsIntPos)(obj::IsPol) = (STRUCT ~ ##:3):\n",
    "   <(STRUCT ~ ##:(n/3)):< obj, R:<1,2>:(2*PI/n) >, R:<1,2>:(2*PI/3)>;\n",
    "\n",
    "DEF TrellisTop3D = (T:2:-0.25 ~ S:2:0.5 ~ OffSet:<1,1,1> ~ Trellis):<hcol,r0 - 1>;\n",
    "DEF TheTopTrellis = T:3:(3.5*hcol):TrellisTop3D;\n",
    "DEF TopTrellis = Radial:12:TheTopTrellis;\n",
    "%\n",
    "STRUCT:< The11Frieze, TopTrellis >;\n",
    "\n",
    "STRUCT:<basement, T:3:hbasament, FullExtWall, FullTetto, CrossCourtWall,\n",
    "        CrossWalls, MedWallArcs, TheMedColumns, FullTopCourtWall, \n",
    "        FullCourTetto, The22Columns, The22Beams, The22Hwall, \n",
    "        The11Frieze, TopTrellis >;\n",
    "%"
   ]
  },
  {
   "cell_type": "code",
   "execution_count": 85,
   "metadata": {},
   "outputs": [
    {
     "data": {
      "text/plain": [
       "<pyplasm.xgepy.Hpc; proxy of <Swig Object of type 'std::shared_ptr< Hpc > *' at 0x000000000E87CBA0> >"
      ]
     },
     "execution_count": 85,
     "metadata": {},
     "output_type": "execute_result"
    }
   ],
   "source": [
    "def Trellis(argomenti):\n",
    "    H,L = argomenti\n",
    "    return COMP([R([2,3])(PI/2),\n",
    "                 EMBED(1),\n",
    "                 MKPOL])([\n",
    "        [[0,0],[L/3,0],[2*L/3,0],[L,0],[2*L/3,H/3],[L/3,2*H/3],[0,H]],\n",
    "        [[1,2],[2,3],[3,4],[4,5],[5,6],[6,7],[7,1],[1,6],[6,2],[2,5],[5,3]],\n",
    "        range(1,12)])\n",
    "\n",
    "def Radial(n,obj):\n",
    "    return COMP([STRUCT,NN(3)])([COMP([STRUCT,NN(n/3)])([obj,R([1,2])(2*PI/n)]),R([1,2])(2*PI/3)])\n",
    "\n",
    "TrellisTop3D = COMP([T(2)(-0.25),S(2)(0.5),OFFSET([1,1,1]),Trellis])([hCol,r0-1])\n",
    "TheTopTrellis = T(3)(3.5*hCol)(TrellisTop3D)\n",
    "TopTrellis = Radial(12,TheTopTrellis)\n",
    "\n",
    "VIEW(STRUCT([The11Frieze,TopTrellis]))\n",
    "VIEW(STRUCT([basement,\n",
    "             T(3)(hbasament),\n",
    "             FullExtWall,\n",
    "             FullTetto,\n",
    "             CrossCourtWall,\n",
    "             CrossWalls,\n",
    "             MedWallArcs,\n",
    "             TheMedColumns,\n",
    "             FullTopCourtWall,\n",
    "             FullCourTetto,\n",
    "             The22Columns,\n",
    "             The22Beams,\n",
    "             The22Hwall,\n",
    "             The11Frieze,\n",
    "             TopTrellis]))"
   ]
  },
  {
   "cell_type": "markdown",
   "metadata": {},
   "source": [
    "![ws6_trellis.png](files/Immagini/ws6_trellis.png)\n",
    "![ws6_trellis_2.png](files/Immagini/ws6_trellis_2.png)"
   ]
  },
  {
   "cell_type": "markdown",
   "metadata": {},
   "source": [
    "<hr>"
   ]
  },
  {
   "cell_type": "code",
   "execution_count": null,
   "metadata": {},
   "outputs": [],
   "source": [
    "# PLASM:\n",
    "%-------------------------------------------------------------%\n",
    "%---Traliccio Tetto intermedio--------------------------------%\n",
    "%-------------------------------------------------------------%\n",
    "\n",
    "DEF TrellisMed3D = (T:2:-0.25 ~ S:2:0.5 ~ OffSet:<1,1,1> ~ Trellis):<hcol,r2 - r0>;\n",
    "DEF TheMedTrellis = T:3:(hcol+3):TrellisMed3D;\n",
    "DEF MedTrellis = Radial:24:(T:1:r0:TheMedTrellis);\n",
    "DEF DoubleMedTrellis = STRUCT:<MedTrellis, R:<1,2>:(PI/24), MedTrellis>;\n",
    "\n",
    "\n",
    "%---------------------------------------------------------------------\n",
    "DEF out = (CenteredCameras ~ STRUCT):\n",
    "  <basement, T:3:hbasament, FullExtWall, FullTetto, CrossCourtWall,\n",
    "        CrossWalls, MedWallArcs, TheMedColumns, FullTopCourtWall, \n",
    "        FullCourTetto, The22Columns, The22Beams, The22Hwall, \n",
    "        The11Frieze, TopTrellis , DoubleMedTrellis >;\n",
    "---------------------------------------------------------------------%\n",
    "\n",
    "DEF out = STRUCT:\n",
    "  <basement, T:3:hbasament, FullExtWall, FullTetto, CrossCourtWall,\n",
    "        CrossWalls, MedWallArcs, TheMedColumns, FullTopCourtWall, \n",
    "        FullCourTetto, The22Columns, The22Beams, The22Hwall, \n",
    "        The11Frieze, TopTrellis , DoubleMedTrellis >;"
   ]
  },
  {
   "cell_type": "code",
   "execution_count": 86,
   "metadata": {},
   "outputs": [
    {
     "data": {
      "text/plain": [
       "<pyplasm.xgepy.Hpc; proxy of <Swig Object of type 'std::shared_ptr< Hpc > *' at 0x000000000E9C0C00> >"
      ]
     },
     "execution_count": 86,
     "metadata": {},
     "output_type": "execute_result"
    }
   ],
   "source": [
    "# PYPLASM:\n",
    "TrellisMed3D = COMP([T(2)(-0.25),S(2)(0.5),OFFSET([1,1,1]),Trellis])([hCol,r2-r0])\n",
    "TheMedTrellis = T(3)(hCol+3)(TrellisMed3D)\n",
    "MedTrellis = Radial(24,T(1)(r0)(TheMedTrellis))\n",
    "DoubleMedTrellis = STRUCT([MedTrellis,R([1,2])(PI/24),MedTrellis])\n",
    "out = STRUCT([\n",
    "    basement,\n",
    "    T(3)(hbasament),\n",
    "    FullExtWall,\n",
    "    FullTetto,\n",
    "    CrossCourtWall,\n",
    "    CrossWalls,\n",
    "    MedWallArcs,\n",
    "    TheMedColumns,\n",
    "    FullTopCourtWall,\n",
    "    FullCourTetto,\n",
    "    The22Columns,\n",
    "    The22Beams,\n",
    "    The22Hwall,\n",
    "    The11Frieze,\n",
    "    TopTrellis,\n",
    "    DoubleMedTrellis])\n",
    "\n",
    "# VIEW(TEXTURE('Texture/pietra5.jpg')(out))\n",
    "VIEW(out)"
   ]
  },
  {
   "cell_type": "markdown",
   "metadata": {},
   "source": [
    "![ws6_tot.png](files/Immagini/ws6_tot.png)\n",
    "![ws6_tot_2.png](files/Immagini/ws6_tot_2.png)\n",
    "![ws6_tot_3.png](files/Immagini/ws6_tot_3.png)"
   ]
  },
  {
   "cell_type": "code",
   "execution_count": null,
   "metadata": {},
   "outputs": [],
   "source": []
  }
 ],
 "metadata": {
  "kernelspec": {
   "display_name": "Python 2",
   "language": "python",
   "name": "python2"
  },
  "language_info": {
   "codemirror_mode": {
    "name": "ipython",
    "version": 2
   },
   "file_extension": ".py",
   "mimetype": "text/x-python",
   "name": "python",
   "nbconvert_exporter": "python",
   "pygments_lexer": "ipython2",
   "version": "2.7.12"
  }
 },
 "nbformat": 4,
 "nbformat_minor": 2
}
