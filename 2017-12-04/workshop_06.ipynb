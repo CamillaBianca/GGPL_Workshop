{
 "cells": [
  {
   "cell_type": "markdown",
   "metadata": {},
   "source": [
    "# Workshop 06"
   ]
  },
  {
   "cell_type": "markdown",
   "metadata": {},
   "source": [
    "<b>Obiettivo</b>: Tradurre il codice del modello geometrico di <i>S. Stefano Rotondo al Celio</u>."
   ]
  },
  {
   "cell_type": "code",
   "execution_count": null,
   "metadata": {},
   "outputs": [],
   "source": [
    "# PLASM:\n",
    "\n",
    "%=============================================================%\n",
    "%                                                             %\n",
    "%       Modello geometrico di S. Stefano Rotondo al Celio     %\n",
    "%               Modello della Gerusalemme Celeste             %\n",
    "%                                                             %\n",
    "%                                                             %\n",
    "%                       A.Paoluzzi, 1998                      %\n",
    "%                                                             %\n",
    "%=============================================================%\n",
    "\n",
    "%*************************************************************%\n",
    "%---Misure di riferimento--(cubito = 0.462 m)-----------------%\n",
    "%*************************************************************%\n",
    "\n",
    "%-- 1 cubito = 444 mm ----------------------------------------%\n",
    "DEF r0 = 24; %---cubiti; raggio interno del muro interno------%\n",
    "DEF r2 = 48; %---cubiti; raggio esterno del muro medio--------%\n",
    "DEF r3 = 72; %---cubiti; raggio esterno del muro esterno------%\n",
    "DEF r4 = 88; %---cubiti; raggio esterno scale esterne---------%\n",
    "\n",
    "DEF wsteps = 10;  %---cubiti; profondita' scale esterne-------%\n",
    "DEF nsteps = 10;  %---numero alzate/pedate scale esterne------%\n",
    "DEF wstep = wsteps/nsteps; %---cubiti; larghezza pedata-------%\n",
    "DEF hstep = 1/3; %---cubiti; altezza alzata-------------------%\n",
    "DEF hw4 = 29; %--cubiti; altezza all'imposta del muro esterno-%\n",
    "DEF hbasament = hstep*nsteps;"
   ]
  },
  {
   "cell_type": "code",
   "execution_count": 11,
   "metadata": {},
   "outputs": [],
   "source": [
    "# PYPLASM:\n",
    "\n",
    "# Importo le librerie:\n",
    "import sys\n",
    "sys.path.insert(0, 'C:\\Users\\Camilla Bianca\\Documents\\GGPL\\lar-cc\\larlib')\n",
    "from larlib import *\n",
    "import math"
   ]
  },
  {
   "cell_type": "code",
   "execution_count": 2,
   "metadata": {},
   "outputs": [],
   "source": [
    "r0 = 24\n",
    "r2 = 48\n",
    "r3 = 72\n",
    "r4 = 88\n",
    "\n",
    "wsteps = 10\n",
    "nsteps = 10\n",
    "wstep = wsteps/nsteps\n",
    "hstep = 1/3\n",
    "hw4 = 29\n",
    "hbasament = hstep*nsteps"
   ]
  },
  {
   "cell_type": "code",
   "execution_count": null,
   "metadata": {},
   "outputs": [],
   "source": [
    "# PLASM:\n",
    "\n",
    "%-------------------------------------------------------------%\n",
    "%---Mappa cilindrica------------------------------------------%\n",
    "%-------------------------------------------------------------%\n",
    "\n",
    "DEF cylMap = MAP:[S2 * sin ~ S1, S2 * cos ~ S1, S3];"
   ]
  },
  {
   "cell_type": "code",
   "execution_count": 73,
   "metadata": {},
   "outputs": [],
   "source": [
    "# PYPLASM:\n",
    "import math \n",
    "fx = lambda x : x[1] * sin(x[0])\n",
    "fy = lambda x : x[1] * cos(x[0])\n",
    "fz = lambda x : x[2]\n",
    "\n",
    "cylMap = MAP([fx,fy,fz])"
   ]
  },
  {
   "cell_type": "code",
   "execution_count": 51,
   "metadata": {},
   "outputs": [
    {
     "data": {
      "text/plain": [
       "<function pyplasm.fenvs.<lambda>>"
      ]
     },
     "execution_count": 51,
     "metadata": {},
     "output_type": "execute_result"
    }
   ],
   "source": [
    "# PLASM:\n",
    "\n",
    "%-------------------------------------------------------------%\n",
    "%---Scala esterna---------------------------------------------%\n",
    "%-------------------------------------------------------------%\n",
    "\n",
    "DEF vdom (h::IsRealPos) = ((EMBED:1 ~ Intervals:(PI*3/24)):3) * QUOTE:<h>;\n",
    "DEF hdom (w::IsRealPos) = (S:2:-1 ~ EMBED:1):(Intervals:(PI*3/24):3 * QUOTE:<w>);\n",
    "\n",
    "DEF steps (w,h::IsRealPos) (n::IsIntPos) = (STRUCT ~ CAT ~ #:n):\n",
    "  < vdom:h, T:3:h, hdom:w, T:2:(-:w) >;\n",
    "\n",
    "DEF hbasament = hstep*nsteps;\n",
    "DEF stair = (MKPOL ~ UKPOL):(steps:<wstep,hstep>:nsteps  \n",
    "              RIGHT (S:2:-1 ~ @2 ~ CUBOID):<PI/24,wsteps,hbasament>);\n",
    "DEF ramp  = cylMap:(T:2:r4:stair);\n",
    "DEF stairs = (STRUCT ~ ##:12):<ramp, R:<1,2>:(PI/6)>;"
   ]
  },
  {
   "cell_type": "code",
   "execution_count": 85,
   "metadata": {},
   "outputs": [
    {
     "ename": "TypeError",
     "evalue": "'int' object is not iterable",
     "output_type": "error",
     "traceback": [
      "\u001b[1;31m---------------------------------------------------------------------------\u001b[0m",
      "\u001b[1;31mTypeError\u001b[0m                                 Traceback (most recent call last)",
      "\u001b[1;32m<ipython-input-85-064051f6fa54>\u001b[0m in \u001b[0;36m<module>\u001b[1;34m()\u001b[0m\n\u001b[0;32m     14\u001b[0m \u001b[0mhbasement\u001b[0m \u001b[1;33m=\u001b[0m \u001b[0mhstep\u001b[0m\u001b[1;33m*\u001b[0m\u001b[0mnsteps\u001b[0m\u001b[1;33m\u001b[0m\u001b[0m\n\u001b[0;32m     15\u001b[0m \u001b[1;33m\u001b[0m\u001b[0m\n\u001b[1;32m---> 16\u001b[1;33m stair = RIGHT([COMP([MKPOL, UKPOL])(steps(wstep,hstep)(nsteps)),\n\u001b[0m\u001b[0;32m     17\u001b[0m                \u001b[0mCOMP\u001b[0m\u001b[1;33m(\u001b[0m\u001b[1;33m[\u001b[0m\u001b[0mS\u001b[0m\u001b[1;33m(\u001b[0m\u001b[1;36m2\u001b[0m\u001b[1;33m)\u001b[0m\u001b[1;33m(\u001b[0m\u001b[1;33m-\u001b[0m\u001b[1;36m1\u001b[0m\u001b[1;33m)\u001b[0m\u001b[1;33m,\u001b[0m\u001b[0mSKEL_2\u001b[0m\u001b[1;33m,\u001b[0m\u001b[0mCUBOID\u001b[0m\u001b[1;33m]\u001b[0m\u001b[1;33m)\u001b[0m\u001b[1;33m(\u001b[0m\u001b[1;33m[\u001b[0m\u001b[0mPI\u001b[0m\u001b[1;33m/\u001b[0m\u001b[1;36m24\u001b[0m\u001b[1;33m,\u001b[0m\u001b[0mwsteps\u001b[0m\u001b[1;33m,\u001b[0m\u001b[0mhbasement\u001b[0m\u001b[1;33m]\u001b[0m\u001b[1;33m)\u001b[0m\u001b[1;33m\u001b[0m\u001b[0m\n\u001b[0;32m     18\u001b[0m               ])\n",
      "\u001b[1;32m<ipython-input-85-064051f6fa54>\u001b[0m in \u001b[0;36msteps1\u001b[1;34m(n)\u001b[0m\n\u001b[0;32m      9\u001b[0m \u001b[1;32mdef\u001b[0m \u001b[0msteps\u001b[0m \u001b[1;33m(\u001b[0m\u001b[0mw\u001b[0m\u001b[1;33m,\u001b[0m\u001b[0mh\u001b[0m\u001b[1;33m)\u001b[0m\u001b[1;33m:\u001b[0m\u001b[1;33m\u001b[0m\u001b[0m\n\u001b[0;32m     10\u001b[0m     \u001b[1;32mdef\u001b[0m \u001b[0msteps1\u001b[0m\u001b[1;33m(\u001b[0m\u001b[0mn\u001b[0m\u001b[1;33m)\u001b[0m\u001b[1;33m:\u001b[0m\u001b[1;33m\u001b[0m\u001b[0m\n\u001b[1;32m---> 11\u001b[1;33m         \u001b[1;32mreturn\u001b[0m \u001b[0mCOMP\u001b[0m\u001b[1;33m(\u001b[0m\u001b[1;33m[\u001b[0m\u001b[0mSTRUCT\u001b[0m\u001b[1;33m,\u001b[0m\u001b[0mCAT\u001b[0m\u001b[1;33m,\u001b[0m\u001b[0mN\u001b[0m\u001b[1;33m(\u001b[0m\u001b[0mn\u001b[0m\u001b[1;33m)\u001b[0m\u001b[1;33m]\u001b[0m\u001b[1;33m)\u001b[0m\u001b[1;33m(\u001b[0m\u001b[1;33m[\u001b[0m\u001b[0mvdom\u001b[0m\u001b[1;33m(\u001b[0m\u001b[0mh\u001b[0m\u001b[1;33m)\u001b[0m\u001b[1;33m,\u001b[0m \u001b[0mT\u001b[0m\u001b[1;33m(\u001b[0m\u001b[1;36m3\u001b[0m\u001b[1;33m)\u001b[0m\u001b[1;33m(\u001b[0m\u001b[0mh\u001b[0m\u001b[1;33m)\u001b[0m\u001b[1;33m,\u001b[0m \u001b[0mhdom\u001b[0m\u001b[1;33m(\u001b[0m\u001b[0mw\u001b[0m\u001b[1;33m)\u001b[0m\u001b[1;33m,\u001b[0m \u001b[0mT\u001b[0m\u001b[1;33m(\u001b[0m\u001b[1;36m2\u001b[0m\u001b[1;33m)\u001b[0m\u001b[1;33m(\u001b[0m\u001b[1;33m-\u001b[0m\u001b[0mw\u001b[0m\u001b[1;33m)\u001b[0m\u001b[1;33m]\u001b[0m\u001b[1;33m)\u001b[0m\u001b[1;33m\u001b[0m\u001b[0m\n\u001b[0m\u001b[0;32m     12\u001b[0m     \u001b[1;32mreturn\u001b[0m \u001b[0msteps1\u001b[0m\u001b[1;33m\u001b[0m\u001b[0m\n\u001b[0;32m     13\u001b[0m \u001b[1;33m\u001b[0m\u001b[0m\n",
      "\u001b[1;32m<ipython-input-85-064051f6fa54>\u001b[0m in \u001b[0;36mvdom\u001b[1;34m(h)\u001b[0m\n\u001b[0;32m      2\u001b[0m \u001b[1;33m\u001b[0m\u001b[0m\n\u001b[0;32m      3\u001b[0m \u001b[1;32mdef\u001b[0m \u001b[0mvdom\u001b[0m \u001b[1;33m(\u001b[0m\u001b[0mh\u001b[0m\u001b[1;33m)\u001b[0m\u001b[1;33m:\u001b[0m\u001b[1;33m\u001b[0m\u001b[0m\n\u001b[1;32m----> 4\u001b[1;33m     \u001b[1;32mreturn\u001b[0m \u001b[0mEMBED\u001b[0m\u001b[1;33m(\u001b[0m\u001b[1;36m1\u001b[0m\u001b[1;33m)\u001b[0m\u001b[1;33m(\u001b[0m\u001b[0mINTERVALS\u001b[0m\u001b[1;33m(\u001b[0m\u001b[0mPI\u001b[0m\u001b[1;33m*\u001b[0m\u001b[1;36m3\u001b[0m\u001b[1;33m/\u001b[0m\u001b[1;36m24\u001b[0m\u001b[1;33m)\u001b[0m\u001b[1;33m(\u001b[0m\u001b[1;36m3\u001b[0m\u001b[1;33m)\u001b[0m\u001b[1;33m)\u001b[0m\u001b[1;33m*\u001b[0m\u001b[0mQUOTE\u001b[0m\u001b[1;33m(\u001b[0m\u001b[0mh\u001b[0m\u001b[1;33m)\u001b[0m\u001b[1;33m\u001b[0m\u001b[0m\n\u001b[0m\u001b[0;32m      5\u001b[0m \u001b[1;33m\u001b[0m\u001b[0m\n\u001b[0;32m      6\u001b[0m \u001b[1;32mdef\u001b[0m \u001b[0mhdom\u001b[0m\u001b[1;33m(\u001b[0m\u001b[0mw\u001b[0m\u001b[1;33m)\u001b[0m\u001b[1;33m:\u001b[0m\u001b[1;33m\u001b[0m\u001b[0m\n",
      "\u001b[1;32mc:\\program files\\python27\\lib\\site-packages\\pyplasm\\fenvs.py\u001b[0m in \u001b[0;36mGRID\u001b[1;34m(sequence)\u001b[0m\n\u001b[0;32m   1284\u001b[0m \u001b[1;32mdef\u001b[0m \u001b[0mGRID\u001b[0m \u001b[1;33m(\u001b[0m\u001b[0msequence\u001b[0m\u001b[1;33m)\u001b[0m\u001b[1;33m:\u001b[0m\u001b[1;33m\u001b[0m\u001b[0m\n\u001b[0;32m   1285\u001b[0m         \u001b[0mcursor\u001b[0m\u001b[1;33m,\u001b[0m\u001b[0mpoints\u001b[0m\u001b[1;33m,\u001b[0m\u001b[0mhulls\u001b[0m\u001b[1;33m=\u001b[0m \u001b[1;33m(\u001b[0m\u001b[1;36m0\u001b[0m\u001b[1;33m,\u001b[0m\u001b[1;33m[\u001b[0m\u001b[1;33m[\u001b[0m\u001b[1;36m0\u001b[0m\u001b[1;33m]\u001b[0m\u001b[1;33m]\u001b[0m\u001b[1;33m,\u001b[0m\u001b[1;33m[\u001b[0m\u001b[1;33m]\u001b[0m\u001b[1;33m)\u001b[0m\u001b[1;33m\u001b[0m\u001b[0m\n\u001b[1;32m-> 1286\u001b[1;33m         \u001b[1;32mfor\u001b[0m \u001b[0mvalue\u001b[0m \u001b[1;32min\u001b[0m \u001b[0msequence\u001b[0m\u001b[1;33m:\u001b[0m\u001b[1;33m\u001b[0m\u001b[0m\n\u001b[0m\u001b[0;32m   1287\u001b[0m                 \u001b[0mpoints\u001b[0m \u001b[1;33m=\u001b[0m \u001b[0mpoints\u001b[0m \u001b[1;33m+\u001b[0m \u001b[1;33m[\u001b[0m\u001b[1;33m[\u001b[0m\u001b[0mcursor\u001b[0m \u001b[1;33m+\u001b[0m \u001b[0mabs\u001b[0m\u001b[1;33m(\u001b[0m\u001b[0mvalue\u001b[0m\u001b[1;33m)\u001b[0m\u001b[1;33m]\u001b[0m\u001b[1;33m]\u001b[0m\u001b[1;33m\u001b[0m\u001b[0m\n\u001b[0;32m   1288\u001b[0m                 \u001b[1;32mif\u001b[0m \u001b[0mvalue\u001b[0m\u001b[1;33m>=\u001b[0m\u001b[1;36m0\u001b[0m\u001b[1;33m:\u001b[0m \u001b[0mhulls\u001b[0m \u001b[1;33m+=\u001b[0m \u001b[1;33m[\u001b[0m\u001b[1;33m[\u001b[0m\u001b[0mlen\u001b[0m\u001b[1;33m(\u001b[0m\u001b[0mpoints\u001b[0m\u001b[1;33m)\u001b[0m\u001b[1;33m-\u001b[0m\u001b[1;36m2\u001b[0m\u001b[1;33m,\u001b[0m\u001b[0mlen\u001b[0m\u001b[1;33m(\u001b[0m\u001b[0mpoints\u001b[0m\u001b[1;33m)\u001b[0m\u001b[1;33m-\u001b[0m\u001b[1;36m1\u001b[0m\u001b[1;33m]\u001b[0m\u001b[1;33m]\u001b[0m\u001b[1;33m\u001b[0m\u001b[0m\n",
      "\u001b[1;31mTypeError\u001b[0m: 'int' object is not iterable"
     ]
    }
   ],
   "source": [
    "# PYPLASM:\n",
    "\n",
    "def vdom (h):\n",
    "    return EMBED(1)(INTERVALS(PI*3/24)(3))*QUOTE(h)\n",
    "\n",
    "def hdom(w):\n",
    "    S(2)(-1)(EMBED(1)(INTERVALS(PI*3/24)(3))*QUOTE(w))\n",
    "\n",
    "def steps (w,h):\n",
    "    def steps1(n):\n",
    "        return COMP([STRUCT,CAT,N(n)])([vdom(h), T(3)(h), hdom(w), T(2)(-w)])\n",
    "    return steps1\n",
    "\n",
    "hbasement = hstep*nsteps\n",
    "\n",
    "stair = RIGHT([COMP([MKPOL, UKPOL])(steps(wstep,hstep)(nsteps)),\n",
    "               COMP([S(2)(-1),SKEL_2,CUBOID])([PI/24,wsteps,hbasement])\n",
    "              ])\n",
    "\n",
    "# CONTINUAAAAAAAAAAAAAAAAAAAAAAAAAAAAAAAAAAAAAAAAAAAAAAAAAAAAA\n"
   ]
  },
  {
   "cell_type": "code",
   "execution_count": null,
   "metadata": {},
   "outputs": [],
   "source": [
    "# PLASM:\n",
    "\n",
    "%-------------------------------------------------------------%\n",
    "%---Basamento-------------------------------------------------%\n",
    "%-------------------------------------------------------------%\n",
    "\n",
    "DEF basisSector = (cylMap ~ EMBED:1):\n",
    "    (Intervals:(2*PI/12):4 * Intervals:(r4 - (wstep*(nsteps - 1))):1);\n",
    "DEF basis = (STRUCT ~ ##:12):<basisSector, R:<1,2>:(2*PI/12)>;\n",
    "DEF basement = (R:<1,2>:(PI/-48) ~ STRUCT):< stairs, T:3:(hstep*nsteps), basis >;\n",
    "\n",
    "%\n",
    "basement\n",
    "%"
   ]
  },
  {
   "cell_type": "code",
   "execution_count": 83,
   "metadata": {},
   "outputs": [
    {
     "ename": "NameError",
     "evalue": "name 'stair' is not defined",
     "output_type": "error",
     "traceback": [
      "\u001b[1;31m---------------------------------------------------------------------------\u001b[0m",
      "\u001b[1;31mNameError\u001b[0m                                 Traceback (most recent call last)",
      "\u001b[1;32m<ipython-input-83-e1bdf15b017f>\u001b[0m in \u001b[0;36m<module>\u001b[1;34m()\u001b[0m\n\u001b[0;32m      5\u001b[0m \u001b[0mbasis\u001b[0m \u001b[1;33m=\u001b[0m \u001b[0mCOMP\u001b[0m\u001b[1;33m(\u001b[0m\u001b[1;33m[\u001b[0m\u001b[0mSTRUCT\u001b[0m\u001b[1;33m,\u001b[0m\u001b[0mNN\u001b[0m\u001b[1;33m(\u001b[0m\u001b[1;36m12\u001b[0m\u001b[1;33m)\u001b[0m\u001b[1;33m]\u001b[0m\u001b[1;33m)\u001b[0m\u001b[1;33m(\u001b[0m\u001b[1;33m[\u001b[0m\u001b[0mbasisSector\u001b[0m\u001b[1;33m,\u001b[0m\u001b[0mR\u001b[0m\u001b[1;33m(\u001b[0m\u001b[1;33m[\u001b[0m\u001b[1;36m1\u001b[0m\u001b[1;33m,\u001b[0m\u001b[1;36m2\u001b[0m\u001b[1;33m]\u001b[0m\u001b[1;33m)\u001b[0m\u001b[1;33m(\u001b[0m\u001b[1;36m2\u001b[0m\u001b[1;33m*\u001b[0m\u001b[0mPI\u001b[0m\u001b[1;33m/\u001b[0m\u001b[1;36m12\u001b[0m\u001b[1;33m)\u001b[0m\u001b[1;33m]\u001b[0m\u001b[1;33m)\u001b[0m\u001b[1;33m\u001b[0m\u001b[0m\n\u001b[0;32m      6\u001b[0m \u001b[1;33m\u001b[0m\u001b[0m\n\u001b[1;32m----> 7\u001b[1;33m \u001b[0mbasement\u001b[0m \u001b[1;33m=\u001b[0m \u001b[0mR\u001b[0m\u001b[1;33m(\u001b[0m\u001b[1;33m[\u001b[0m\u001b[1;36m1\u001b[0m\u001b[1;33m,\u001b[0m\u001b[1;36m2\u001b[0m\u001b[1;33m]\u001b[0m\u001b[1;33m)\u001b[0m\u001b[1;33m(\u001b[0m\u001b[0mPI\u001b[0m\u001b[1;33m/\u001b[0m\u001b[1;33m-\u001b[0m\u001b[1;36m48\u001b[0m\u001b[1;33m)\u001b[0m\u001b[1;33m(\u001b[0m\u001b[0mSTRUCT\u001b[0m\u001b[1;33m(\u001b[0m\u001b[1;33m[\u001b[0m\u001b[0mstair\u001b[0m\u001b[1;33m,\u001b[0m\u001b[0mT\u001b[0m\u001b[1;33m(\u001b[0m\u001b[1;36m3\u001b[0m\u001b[1;33m)\u001b[0m\u001b[1;33m(\u001b[0m\u001b[0mhstep\u001b[0m\u001b[1;33m*\u001b[0m\u001b[0mnsteps\u001b[0m\u001b[1;33m)\u001b[0m\u001b[1;33m,\u001b[0m\u001b[0mbasis\u001b[0m\u001b[1;33m]\u001b[0m\u001b[1;33m)\u001b[0m\u001b[1;33m)\u001b[0m\u001b[1;33m\u001b[0m\u001b[0m\n\u001b[0m",
      "\u001b[1;31mNameError\u001b[0m: name 'stair' is not defined"
     ]
    }
   ],
   "source": [
    "# PYPLASM:\n",
    "\n",
    "basisSector = COMP([cylMap,EMBED(1)])(PROD([INTERVALS(2*PI/12)(4),INTERVALS(r4-(wstep*(nsteps-1)))(1)]))\n",
    "\n",
    "basis = COMP([STRUCT,NN(12)])([basisSector,R([1,2])(2*PI/12)])\n",
    "\n",
    "basement = R([1,2])(PI/-48)(STRUCT([stairs,T(3)(hstep*nsteps),basis]))"
   ]
  },
  {
   "cell_type": "code",
   "execution_count": null,
   "metadata": {},
   "outputs": [],
   "source": []
  }
 ],
 "metadata": {
  "kernelspec": {
   "display_name": "Python 2",
   "language": "python",
   "name": "python2"
  },
  "language_info": {
   "codemirror_mode": {
    "name": "ipython",
    "version": 2
   },
   "file_extension": ".py",
   "mimetype": "text/x-python",
   "name": "python",
   "nbconvert_exporter": "python",
   "pygments_lexer": "ipython2",
   "version": "2.7.12"
  }
 },
 "nbformat": 4,
 "nbformat_minor": 2
}
