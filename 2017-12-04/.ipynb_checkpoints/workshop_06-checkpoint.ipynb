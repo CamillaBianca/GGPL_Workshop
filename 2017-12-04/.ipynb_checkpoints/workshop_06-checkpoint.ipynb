{
 "cells": [
  {
   "cell_type": "markdown",
   "metadata": {},
   "source": [
    "# Workshop 06"
   ]
  },
  {
   "cell_type": "markdown",
   "metadata": {},
   "source": [
    "<b>Obiettivo</b>: Tradurre il codice del modello geometrico di <i>S. Stefano Rotondo al Celio</u>."
   ]
  },
  {
   "cell_type": "code",
   "execution_count": 1,
   "metadata": {},
   "outputs": [
    {
     "name": "stdout",
     "output_type": "stream",
     "text": [
      "Evaluating fenvs.py..\n",
      "...fenvs.py imported in 0.0154095757735 seconds\n"
     ]
    }
   ],
   "source": [
    "# Importo le librerie:\n",
    "import sys\n",
    "sys.path.insert(0, 'C:\\Users\\Camilla Bianca\\Documents\\GGPL\\lar-cc\\larlib')\n",
    "from larlib import *\n",
    "import math"
   ]
  },
  {
   "cell_type": "markdown",
   "metadata": {},
   "source": [
    "<hr>"
   ]
  },
  {
   "cell_type": "code",
   "execution_count": null,
   "metadata": {},
   "outputs": [],
   "source": [
    "# PLASM:\n",
    "%=============================================================%\n",
    "%                                                             %\n",
    "%       Modello geometrico di S. Stefano Rotondo al Celio     %\n",
    "%               Modello della Gerusalemme Celeste             %\n",
    "%                                                             %\n",
    "%                                                             %\n",
    "%                       A.Paoluzzi, 1998                      %\n",
    "%                                                             %\n",
    "%=============================================================%\n",
    "\n",
    "%*************************************************************%\n",
    "%---Misure di riferimento--(cubito = 0.462 m)-----------------%\n",
    "%*************************************************************%\n",
    "\n",
    "%-- 1 cubito = 444 mm ----------------------------------------%\n",
    "DEF r0 = 24; %---cubiti; raggio interno del muro interno------%\n",
    "DEF r2 = 48; %---cubiti; raggio esterno del muro medio--------%\n",
    "DEF r3 = 72; %---cubiti; raggio esterno del muro esterno------%\n",
    "DEF r4 = 88; %---cubiti; raggio esterno scale esterne---------%\n",
    "\n",
    "DEF wsteps = 10;  %---cubiti; profondita' scale esterne-------%\n",
    "DEF nsteps = 10;  %---numero alzate/pedate scale esterne------%\n",
    "DEF wstep = wsteps/nsteps; %---cubiti; larghezza pedata-------%\n",
    "DEF hstep = 1/3; %---cubiti; altezza alzata-------------------%\n",
    "DEF hw4 = 29; %--cubiti; altezza all'imposta del muro esterno-%\n",
    "DEF hbasament = hstep*nsteps;"
   ]
  },
  {
   "cell_type": "code",
   "execution_count": 2,
   "metadata": {},
   "outputs": [],
   "source": [
    "# PYPLASM:\n",
    "r0 = 24.0\n",
    "r2 = 48.0\n",
    "r3 = 72.0\n",
    "r4 = 88.0\n",
    "\n",
    "wsteps = 10.0\n",
    "nsteps = 10.0\n",
    "wstep = wsteps/nsteps\n",
    "hstep = 1.0/3.0\n",
    "hw4 = 29.0\n",
    "hbasament = hstep*nsteps"
   ]
  },
  {
   "cell_type": "markdown",
   "metadata": {},
   "source": [
    "<hr>"
   ]
  },
  {
   "cell_type": "code",
   "execution_count": null,
   "metadata": {},
   "outputs": [],
   "source": [
    "# PLASM:\n",
    "%-------------------------------------------------------------%\n",
    "%---Mappa cilindrica------------------------------------------%\n",
    "%-------------------------------------------------------------%\n",
    "\n",
    "DEF cylMap = MAP:[S2 * sin ~ S1, S2 * cos ~ S1, S3];"
   ]
  },
  {
   "cell_type": "code",
   "execution_count": 3,
   "metadata": {},
   "outputs": [],
   "source": [
    "# PYPLASM:\n",
    "import math \n",
    "fx = lambda x : x[1] * sin(x[0])\n",
    "fy = lambda x : x[1] * cos(x[0])\n",
    "fz = lambda x : x[2]\n",
    "\n",
    "cylMap = MAP([fx,fy,fz])"
   ]
  },
  {
   "cell_type": "markdown",
   "metadata": {},
   "source": [
    "<hr>"
   ]
  },
  {
   "cell_type": "code",
   "execution_count": null,
   "metadata": {},
   "outputs": [],
   "source": [
    "# PLASM:\n",
    "%-------------------------------------------------------------%\n",
    "%---Scala esterna---------------------------------------------%\n",
    "%-------------------------------------------------------------%\n",
    "\n",
    "DEF vdom (h::IsRealPos) = ((EMBED:1 ~ Intervals:(PI*3/24)):3) * QUOTE:<h>;\n",
    "DEF hdom (w::IsRealPos) = (S:2:-1 ~ EMBED:1):(Intervals:(PI*3/24):3 * QUOTE:<w>);\n",
    "\n",
    "DEF steps (w,h::IsRealPos) (n::IsIntPos) = (STRUCT ~ CAT ~ #:n):\n",
    "  < vdom:h, T:3:h, hdom:w, T:2:(-:w) >;\n",
    "\n",
    "DEF hbasament = hstep*nsteps;\n",
    "DEF stair = (MKPOL ~ UKPOL):(steps:<wstep,hstep>:nsteps  \n",
    "              RIGHT (S:2:-1 ~ @2 ~ CUBOID):<PI/24,wsteps,hbasament>);\n",
    "DEF ramp  = cylMap:(T:2:r4:stair);\n",
    "DEF stairs = (STRUCT ~ ##:12):<ramp, R:<1,2>:(PI/6)>;"
   ]
  },
  {
   "cell_type": "code",
   "execution_count": 4,
   "metadata": {},
   "outputs": [],
   "source": [
    "# PYPLASM:\n",
    "def vdom(h):\n",
    "    return PROD([COMP([EMBED(1),INTERVALS(PI*3/24)])(3),QUOTE([h])])\n",
    "\n",
    "def hdom(w):\n",
    "    return COMP([S(2)(-1),EMBED(1)])(PROD([INTERVALS(PI*3/24)(3),QUOTE([w])]))\n",
    "\n",
    "def steps(w,h,n):\n",
    "    return COMP([STRUCT,CAT,N(n)])([vdom(h),T(3)(h),hdom(w),T(2)(-w)])\n",
    "\n",
    "hbasament = hstep*nsteps\n",
    "\n",
    "stair = RIGHT([COMP([MKPOL,UKPOL])(steps(wstep,hstep,nsteps)),\n",
    "               COMP([S(2)(-1),SKEL_2,CUBOID])([PI/24,wsteps,hbasament])])\n",
    "ramp = cylMap(T(2)(r4)(stair))\n",
    "stairs = STRUCT(NN(12)([ramp,R([1,2])(PI/6)]))"
   ]
  },
  {
   "cell_type": "markdown",
   "metadata": {},
   "source": [
    "<hr>"
   ]
  },
  {
   "cell_type": "code",
   "execution_count": null,
   "metadata": {},
   "outputs": [],
   "source": [
    "# PLASM:\n",
    "%-------------------------------------------------------------%\n",
    "%---Basamento-------------------------------------------------%\n",
    "%-------------------------------------------------------------%\n",
    "\n",
    "DEF basisSector = (cylMap ~ EMBED:1):\n",
    "    (Intervals:(2*PI/12):4 * Intervals:(r4 - (wstep*(nsteps - 1))):1);\n",
    "DEF basis = (STRUCT ~ ##:12):<basisSector, R:<1,2>:(2*PI/12)>;\n",
    "DEF basement = (R:<1,2>:(PI/-48) ~ STRUCT):< stairs, T:3:(hstep*nsteps), basis >;\n",
    "\n",
    "%\n",
    "basement\n",
    "%"
   ]
  },
  {
   "cell_type": "code",
   "execution_count": 5,
   "metadata": {},
   "outputs": [
    {
     "data": {
      "text/plain": [
       "<pyplasm.xgepy.Hpc; proxy of <Swig Object of type 'std::shared_ptr< Hpc > *' at 0x000000000E339420> >"
      ]
     },
     "execution_count": 5,
     "metadata": {},
     "output_type": "execute_result"
    }
   ],
   "source": [
    "# PYPLASM:\n",
    "basisSector = COMP([cylMap,EMBED(1)])(PROD([INTERVALS(2*PI/12)(4),INTERVALS(r4-(wstep*(nsteps-1)))(1)]))\n",
    "basis = STRUCT(NN(12)([basisSector,R([1,2])(2*PI/12)]))\n",
    "basement = COMP([R([1,2])(PI/-48),STRUCT])([stairs,T(3)(hstep*nsteps),basis])\n",
    "\n",
    "VIEW(basement)"
   ]
  },
  {
   "cell_type": "markdown",
   "metadata": {},
   "source": [
    "<hr>"
   ]
  },
  {
   "cell_type": "code",
   "execution_count": null,
   "metadata": {},
   "outputs": [],
   "source": [
    "# PLASM:\n",
    "%-------------------------------------------------------------%\n",
    "%---Muro esterno----------------------------------------------%\n",
    "%-------------------------------------------------------------%\n",
    "\n",
    "DEF ExtWall2Da = MKPOL:<<<0,0>,<7,0>,<7,5>,<0,8>,<7,3>,<9,4>,\n",
    "<10.5,1.5>,<10.5,0>,<11,1.5>,<11,3>>,<1..4,<2,8,7,6,5>,<6,7,9,10>>,\n",
    "<<1>,<2>,<3>>> & ((Q ~ #:12):1 * Q:8);\n",
    "DEF ExtWall2Db = MKPOL:<<<0.5,0>,<4,0>,<5,0>,<6,0>,<6,3>,<5.5,3.5>,\n",
    "  <5,3>,<4.5,3.5>,<4,3>,<2,4>,<0,3>,<0,1.5>,<0.5,1.5>>,\n",
    "  <<10,11,12,13>,<1,2,9,10,13>,<2,3,7,8,9>,<3,4,5,6,7>>,<1..4>> \n",
    "&  ((Q ~ #:6):1 * Q:4);\n",
    "DEF ExtWall2D = STRUCT:<ExtWall2Da, T:1:11, ExtWall2Db>;\n",
    "DEF sizxExtWall = SIZE:1:ExtWall2D;\n",
    "\n",
    "DEF ExtWall = R:<2,3>:(PI/2):(ExtWall2D * QUOTE:<1.5>);\n",
    "DEF CurvedExtWall = (cylMap ~ T:2:r3 ~ S:<1,3>:<PI/(4*sizxExtWall),hw4/8>):   ExtWall;\n",
    "DEF DoubleExtWall = STRUCT:<CurvedExtWall, S:1:-1, CurvedExtWall>;\n",
    "DEF FullExtWall = (STRUCT ~ ##:4):<DoubleExtWall, R:<1,2>:(PI/2)>;\n",
    "\n",
    "%\n",
    "STRUCT:<basement, T:3:hbasament, FullExtWall>;\n",
    "%"
   ]
  },
  {
   "cell_type": "code",
   "execution_count": 6,
   "metadata": {},
   "outputs": [
    {
     "data": {
      "text/plain": [
       "<pyplasm.xgepy.Hpc; proxy of <Swig Object of type 'std::shared_ptr< Hpc > *' at 0x000000000E3881E0> >"
      ]
     },
     "execution_count": 6,
     "metadata": {},
     "output_type": "execute_result"
    }
   ],
   "source": [
    "# PYPLASM:\n",
    "ExtWall2Da = INTERSECTION([\n",
    "    MKPOL([[[0,0],[7,0],[7,5],[0,8],[7,3],[9,4],\n",
    "            [10.5,1.5],[10.5,0],[11,1.5],[11,3]],\n",
    "            [range(1,5),[2,8,7,6,5],[6,7,9,10]],[[1],[2],[3]]]),\n",
    "    PROD([COMP([QUOTE,N(12)])(1),Q(8)])\n",
    "])\n",
    "ExtWall2Db = INTERSECTION([\n",
    "    MKPOL([[[0.5,0],[4,0],[5,0],[6,0],[6,3],[5.5,3.5],\n",
    "            [5,3],[4.5,3.5],[4,3],[2,4],[0,3],[0,1.5],[0.5,1.5]],\n",
    "            [[10,11,12,13],[1,2,9,10,13],[2,3,7,8,9],[3,4,5,6,7]],\n",
    "            range(1,5)]),\n",
    "    PROD([COMP([QUOTE,N(6)])(1),Q(4)])\n",
    "])\n",
    "ExtWall2D = STRUCT([ExtWall2Da,T(1)(11),ExtWall2Db])\n",
    "sizxExtWall = SIZE(1)(ExtWall2D)\n",
    "ExtWall = R([2,3])(PI/2)(PROD([ExtWall2D,QUOTE([1,5])]))\n",
    "CurvedExtWall = COMP([cylMap,T(2)(r3),S([1,3])([PI/(4*sizxExtWall),hw4/8])])(ExtWall)\n",
    "DoubleExtWall = STRUCT([CurvedExtWall,S(1)(-1),CurvedExtWall])\n",
    "FullExtWall = COMP([STRUCT,NN(4)])([DoubleExtWall,R([1,2])(PI/2)])\n",
    "VIEW(FullExtWall)\n",
    "VIEW(STRUCT([basement,T(3)(hbasament),FullExtWall]))"
   ]
  },
  {
   "cell_type": "markdown",
   "metadata": {},
   "source": [
    "<hr>"
   ]
  },
  {
   "cell_type": "code",
   "execution_count": null,
   "metadata": {},
   "outputs": [],
   "source": [
    "# PLASM:\n",
    "%-------------------------------------------------------------%\n",
    "%---Colonne intermedie----------------------------------------%\n",
    "%-------------------------------------------------------------%\n",
    "\n",
    "DEF Column (w,h::IsRealPos) = basis TOP trunk TOP capitel\n",
    "WHERE\n",
    "  basis = CUBOID:<w,w,2*w/3>,\n",
    "  trunk = CYLINDER:<w/2*0.85, h - w>:8,\n",
    "  capitel = CUBOID:<w,w,w/3>\n",
    "END;\n",
    "DEF arcAngle = 2*PI/50.4;\n",
    "DEF wallAngle = -3.2*arcAngle/4;\n",
    "DEF RotCross = 3.2*arcAngle/4 + 2.5*arcAngle;\n",
    "\n",
    "DEF MyColumn = (MKPOL ~ UKPOL ~ T:2:((r2 - 0.75)) ~ Column):<1.5,hCol>;\n",
    "DEF The4cols = (R:<1,2>:(arcAngle*0.4/3.2) ~ MKPOL ~ UKPOL ~ \n",
    "  STRUCT ~ ##:4):< R:<1,2>:(-:arcAngle), MyColumn >;\n",
    "DEF The5cols = (R:<1,2>:(arcAngle*0.4/3.2) ~ MKPOL ~ UKPOL ~ \n",
    "  STRUCT ~ ##:5):< R:<1,2>:(-:arcAngle), MyColumn >;\n",
    "DEF TheBotWal = (cylMap ~ MKPOL ~ UKPOL ~ T:2:(r2 - 0.75) ~ CUBOID):\n",
    "  < 3.2*arcAngle/4, 1.5, hCol >;\n",
    "DEF TheSecCols = STRUCT:< R:<1,2>:RotCross,\n",
    "  TheBotWal, R:<1,2>:wallAngle, \n",
    "  The4cols, R:<1,2>:(-5*arcAngle), \n",
    "  TheBotWal, R:<1,2>:wallAngle, \n",
    "  The5cols >;\n",
    "DEF TheMedColumns = (STRUCT ~ ##:4):<TheSecCols, R:<1,2>:(PI/-2)>;\n",
    "DEF hCol = 12 ;\n",
    "\n",
    "%\n",
    "STRUCT:<basement, T:3:hbasament, FullExtWall, TheMedColumns >;\n",
    "%"
   ]
  },
  {
   "cell_type": "code",
   "execution_count": 7,
   "metadata": {},
   "outputs": [
    {
     "data": {
      "text/plain": [
       "<pyplasm.xgepy.Hpc; proxy of <Swig Object of type 'std::shared_ptr< Hpc > *' at 0x000000000E3D82A0> >"
      ]
     },
     "execution_count": 7,
     "metadata": {},
     "output_type": "execute_result"
    }
   ],
   "source": [
    "# PYPLASM:\n",
    "def Column(argomento):\n",
    "    w,h = argomento\n",
    "    basis = CUBOID([w,w,2*w/3])\n",
    "    trunk = CYLINDER([w/2*0.85,h-w])(8)\n",
    "    capitel = CUBOID([w,w,w/3])\n",
    "    return TOP([TOP([trunk,basis]),capitel])\n",
    "\n",
    "hCol = 12\n",
    "arcAngle = 2*PI/50.4\n",
    "wallAngle = -3.2*arcAngle/4\n",
    "RotCross = 3.2*arcAngle/4 + 2.5*arcAngle;\n",
    "MyColumn = COMP([MKPOL,UKPOL,T(2)(r2-0.75),Column])([1.5,hCol])\n",
    "The4cols = COMP([R([1,2])(arcAngle*0.4/3.2),MKPOL,UKPOL,STRUCT,NN(4)])([R([1,2])(-arcAngle),MyColumn])\n",
    "The5Cols = COMP([R([1,2])(arcAngle*0.4/3.2),MKPOL,UKPOL,STRUCT,NN(5)])([R([1,2])(-arcAngle),MyColumn])\n",
    "TheBotWal = COMP([cylMap,MKPOL,UKPOL,T(2)(r2-0.75),CUBOID])([3.2*arcAngle/4,1.5,hCol])\n",
    "TheSecCols = STRUCT([R([1,2])(RotCross),\n",
    "                    TheBotWal,R([1,2])(wallAngle),\n",
    "                    The4cols,R([1,2])(-5*arcAngle),\n",
    "                    TheBotWal,R([1,2])(wallAngle),\n",
    "                    The5Cols])\n",
    "TheMedColumns = COMP([STRUCT,NN(4)])([TheSecCols,R([1,2])(PI/(-2))])\n",
    "VIEW(STRUCT([basement,T(3)(hbasament),FullExtWall,TheMedColumns]))"
   ]
  },
  {
   "cell_type": "markdown",
   "metadata": {},
   "source": [
    "<hr>"
   ]
  },
  {
   "cell_type": "code",
   "execution_count": null,
   "metadata": {},
   "outputs": [],
   "source": [
    "# PLASM:\n",
    "%-------------------------------------------------------------%\n",
    "%---Archi sulle colonne---------------------------------------%\n",
    "%-------------------------------------------------------------%\n",
    "\n",
    "DEF bottomArc (d::IsRealPos) = Bezier:S1:<<0,0>,<0,2*d/3>,<d,2*d/3>,<d,0>>;\n",
    "DEF topArc (d::IsRealPos) = Bezier:S1:<<0,2*d/3>,<d,2*d/3>>;\n",
    "DEF arc2D  (d::IsRealPos) = Bezier:S2:<bottomArc:d,topArc:d>;\n",
    "DEF arc3D  (d::IsRealPos)(w::IsRealPos) = (T:2:w ~ R:<2,3>:(PI/2)):\n",
    "  ( MAP:(CONS:(arc2D:d)):(Intervals:1:8 * Intervals:1:1) * QUOTE:<w> );\n",
    "DEF Interarc (d1,d2::IsReal)(w::IsRealPos)= CUBOID:<d1,w,2*d2/3>;\n",
    "DEF Xarc (d1,d2::IsRealPos) (w::IsRealPos) = \n",
    "  Interarc:<d1,d2>:w RIGHT arc3D:d2:w RIGHT Interarc:<d1,d2>:w;\n",
    "\n",
    "DEF SizeArc = SIZE:1:TheArc;\n",
    "DEF TheArc = Xarc:<0.4,3.2>:1.5;\n",
    "DEF HeigthArc = SIZE:3:CurvedArc;\n",
    "DEF CurvedArc = (cylMap ~ MKPOL ~ UKPOL ~ T:2:(r2 - 0.75) ~ S:<1,3>:<sx,sz>):TheArc\n",
    "WHERE\n",
    "  sx = (1/SizeArc)*arcAngle,\n",
    "  sz = sx * (r2 - 2)\n",
    "END;\n",
    "DEF The5arcs = (MKPOL ~ UKPOL ~ STRUCT ~ ##:5):< CurvedArc, R:<1,2>:(-:arcAngle) >;\n",
    "DEF The6arcs = (MKPOL ~ UKPOL ~ STRUCT ~ ##:6):< CurvedArc, R:<1,2>:(-:arcAngle) >;\n",
    "DEF TheMidWall = (cylMap ~ MKPOL ~ UKPOL ~ T:2:(r2 - 0.75) ~ CUBOID):\n",
    "  <3.2*arcAngle/4, 1.5, HeigthArc>;\n",
    "DEF TheSector = STRUCT:< R:<1,2>:RotCross,\n",
    "  TheMidWall, R:<1,2>:wallAngle, \n",
    "  The5arcs, R:<1,2>:(-5*arcAngle), \n",
    "  TheMidWall, R:<1,2>:wallAngle, \n",
    "  The6arcs >;\n",
    "DEF TheArcs = (STRUCT ~ ##:4):<TheSector, R:<1,2>:(PI/-2)>;\n",
    "DEF TheArcsCols = STRUCT:< TheMedColumns, T:3:hCol, TheArcs >;\n",
    "\n",
    "%\n",
    "STRUCT:<basement, T:3:hbasament, FullExtWall, TheArcsCols >;\n",
    "%"
   ]
  },
  {
   "cell_type": "code",
   "execution_count": 10,
   "metadata": {},
   "outputs": [
    {
     "data": {
      "text/plain": [
       "<pyplasm.xgepy.Hpc; proxy of <Swig Object of type 'std::shared_ptr< Hpc > *' at 0x000000000E388EA0> >"
      ]
     },
     "execution_count": 10,
     "metadata": {},
     "output_type": "execute_result"
    }
   ],
   "source": [
    "# PYPLASM:\n",
    "def bottomArc(d):\n",
    "    return BEZIER(S1)([[0,0],[0,2*d/3],[d,2*d/3],[d,0]])\n",
    "\n",
    "def topArc(d):\n",
    "    return BEZIER(S1)([[0,2*d/3],[d,2*d/3]])\n",
    "\n",
    "def arc2D(d):\n",
    "    return BEZIER(S2)([bottomArc(d),topArc(d)])\n",
    "\n",
    "def arc3D(d,w):\n",
    "    return COMP([T(2)(w),R([2,3])(PI/2)])(MAP(arc2D(d))(PROD([PROD([INTERVALS(1)(8),INTERVALS(1)(1)]),QUOTE([w])])))\n",
    "\n",
    "def Interarc(d1,d2,w):\n",
    "    return CUBOID([d1,w,2*d2/3])\n",
    "\n",
    "def Xarc(d1,d2,w):\n",
    "    return RIGHT([RIGHT([Interarc(d1,d2,w),arc3D(d2,w)]),Interarc(d1,d2,w)])\n",
    "\n",
    "def CurvedArc():\n",
    "    sx = (1/SizeArc)*arcAngle\n",
    "    sz = sx*(r2-2)\n",
    "    return COMP([cylMap,MKPOL,UKPOL,T(2)(r2-0.75),S([1,3])([sx,sz])])(TheArc)\n",
    "\n",
    "TheArc = Xarc(0.4,3.2,1.5)\n",
    "SizeArc = SIZE(1)(TheArc)\n",
    "HeightArc = SIZE(3)(CurvedArc())\n",
    "The5arcs = COMP([MKPOL,UKPOL,STRUCT,NN(5)])([CurvedArc(),R([1,2])(-arcAngle)])\n",
    "The6arcs = COMP([MKPOL,UKPOL,STRUCT,NN(6)])([CurvedArc(),R([1,2])(-arcAngle)])\n",
    "TheMidWall = COMP([cylMap,MKPOL,UKPOL,T(2)(r2-0.75),CUBOID])([3.2*arcAngle/4,1.5,HeightArc])\n",
    "TheSector = STRUCT([\n",
    "    R([1,2])(RotCross),\n",
    "    TheMidWall,R([1,2])(wallAngle),\n",
    "    The5arcs,R([1,2])(-5*arcAngle),\n",
    "    TheMidWall,R([1,2])(wallAngle),\n",
    "    The6arcs\n",
    "])\n",
    "TheArcs = COMP([STRUCT,NN(4)])([TheSector,R([1,2])(PI/(-2))])\n",
    "TheArcsCols = STRUCT([TheMedColumns,T(3)(hCol),TheArcs])\n",
    "\n",
    "VIEW(STRUCT([basement,T(3)(hbasament),FullExtWall,TheArcsCols]))"
   ]
  },
  {
   "cell_type": "markdown",
   "metadata": {},
   "source": [
    "<hr>"
   ]
  },
  {
   "cell_type": "code",
   "execution_count": null,
   "metadata": {},
   "outputs": [],
   "source": []
  }
 ],
 "metadata": {
  "kernelspec": {
   "display_name": "Python 2",
   "language": "python",
   "name": "python2"
  },
  "language_info": {
   "codemirror_mode": {
    "name": "ipython",
    "version": 2
   },
   "file_extension": ".py",
   "mimetype": "text/x-python",
   "name": "python",
   "nbconvert_exporter": "python",
   "pygments_lexer": "ipython2",
   "version": "2.7.12"
  }
 },
 "nbformat": 4,
 "nbformat_minor": 2
}
