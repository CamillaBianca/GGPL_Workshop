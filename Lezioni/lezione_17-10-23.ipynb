{
 "cells": [
  {
   "cell_type": "markdown",
   "metadata": {},
   "source": [
    "# Spiegazione: Funzioni composte"
   ]
  },
  {
   "cell_type": "code",
   "execution_count": 3,
   "metadata": {},
   "outputs": [
    {
     "name": "stdout",
     "output_type": "stream",
     "text": [
      "Evaluating fenvs.py..\n",
      "...fenvs.py imported in 0.006798595572 seconds\n"
     ]
    },
    {
     "name": "stderr",
     "output_type": "stream",
     "text": [
      "c:\\program files\\python27\\lib\\site-packages\\larlib\\larstruct.py:233: FutureWarning: comparison to `None` will result in an elementwise object comparison in the future.\n",
      "  self.body = [item for item in data if item != None]\n"
     ]
    }
   ],
   "source": [
    "# librerie:\n",
    "import sys\n",
    "sys.path.insert(0, 'C:\\Program Files\\Python27\\Lib\\site-packages\\larlib')\n",
    "from simplexn import *\n",
    "from larcc import *\n",
    "from lar2psm import *\n",
    "from largrid import *\n",
    "from pyplasm import *"
   ]
  },
  {
   "cell_type": "code",
   "execution_count": null,
   "metadata": {},
   "outputs": [],
   "source": [
    "# STRUCT prende più oggetti geometrici e li piazza tutti insieme, nello stesso sistema di riferimento\n",
    "# del primo oggetto contenuto nella sequenza di argomenti.\n",
    "\n",
    "# La R([1,2])(PI/4) indica che gli assi x ed y ruotano: l'asse di rotazione (fisso) è z!"
   ]
  },
  {
   "cell_type": "code",
   "execution_count": 4,
   "metadata": {},
   "outputs": [],
   "source": [
    "element = COMP([T([1,2])([-5,-5]), CUBOID])([10,10,2])"
   ]
  },
  {
   "cell_type": "code",
   "execution_count": null,
   "metadata": {},
   "outputs": [],
   "source": [
    "# Nell'esempio la T è applicata solo due volte T()() e non tre, come al solito T()()(): è una funzione parziale.\n",
    "# COMP sta per COMPOSIZIONE di FUNZIONI\n",
    "# Parliamo di funzione composta: f(g(x))\n",
    "# Ovviamente possiamo comporre quante funzioni ce pare: f(g(h(x)))"
   ]
  },
  {
   "cell_type": "code",
   "execution_count": 5,
   "metadata": {},
   "outputs": [],
   "source": [
    "element = COMP([T([1,2])([-5,-5]), CUBOID])([10,10,2])"
   ]
  },
  {
   "cell_type": "code",
   "execution_count": 6,
   "metadata": {},
   "outputs": [],
   "source": [
    "element = T([1,2])([-5,-5])(CUBOID([10,10,2]))"
   ]
  },
  {
   "cell_type": "code",
   "execution_count": 7,
   "metadata": {},
   "outputs": [],
   "source": [
    "# Questi precedenti due modi di scrivere sono equivalenti!"
   ]
  },
  {
   "cell_type": "code",
   "execution_count": 8,
   "metadata": {},
   "outputs": [],
   "source": [
    "column = STRUCT(NN(17)([element, T(3)(2), R([1,2])(PI/8)]))"
   ]
  },
  {
   "cell_type": "code",
   "execution_count": 9,
   "metadata": {},
   "outputs": [],
   "source": [
    "# Faccio una sequenza (NN) con dentro l'elemento e due tensori (T ed R)\n",
    "# Praticamente concateno 17 volte lo stesso elemento, e tutti gli elementi rimangono nella stessa lista."
   ]
  },
  {
   "cell_type": "code",
   "execution_count": 10,
   "metadata": {},
   "outputs": [],
   "source": [
    "column = STRUCT(NN(17)([element, T(3)(2), R([1,2])(PI/8)]))"
   ]
  },
  {
   "cell_type": "code",
   "execution_count": 11,
   "metadata": {},
   "outputs": [],
   "source": [
    "column = STRUCT(CAT(N(17)([element, T(3)(2), R([1,2])(PI/8)])))"
   ]
  },
  {
   "cell_type": "code",
   "execution_count": 12,
   "metadata": {},
   "outputs": [],
   "source": [
    "# Anche questi due modi di scrivere qui sopra dovrebbero essere equivalenti!"
   ]
  },
  {
   "cell_type": "code",
   "execution_count": 14,
   "metadata": {},
   "outputs": [
    {
     "data": {
      "text/plain": [
       "[<pyplasm.xgepy.Hpc; proxy of <Swig Object of type 'std::shared_ptr< Hpc > *' at 0x000000000EBA6030> >,\n",
       " <function pyplasm.fenvs.<lambda>>,\n",
       " <function pyplasm.fenvs.ROTATE2>]"
      ]
     },
     "execution_count": 14,
     "metadata": {},
     "output_type": "execute_result"
    }
   ],
   "source": [
    "[element, T(3)(2), R([1,2])(PI/8)] # Array di 3 elementi: un dato Hcp e due funzioni (traslazione e rotazione)."
   ]
  },
  {
   "cell_type": "code",
   "execution_count": 15,
   "metadata": {},
   "outputs": [
    {
     "data": {
      "text/plain": [
       "[<pyplasm.xgepy.Hpc; proxy of <Swig Object of type 'std::shared_ptr< Hpc > *' at 0x000000000EBA6030> >,\n",
       " <function pyplasm.fenvs.<lambda>>,\n",
       " <function pyplasm.fenvs.ROTATE2>,\n",
       " <pyplasm.xgepy.Hpc; proxy of <Swig Object of type 'std::shared_ptr< Hpc > *' at 0x000000000EBA6030> >,\n",
       " <function pyplasm.fenvs.<lambda>>,\n",
       " <function pyplasm.fenvs.ROTATE2>,\n",
       " <pyplasm.xgepy.Hpc; proxy of <Swig Object of type 'std::shared_ptr< Hpc > *' at 0x000000000EBA6030> >,\n",
       " <function pyplasm.fenvs.<lambda>>,\n",
       " <function pyplasm.fenvs.ROTATE2>,\n",
       " <pyplasm.xgepy.Hpc; proxy of <Swig Object of type 'std::shared_ptr< Hpc > *' at 0x000000000EBA6030> >,\n",
       " <function pyplasm.fenvs.<lambda>>,\n",
       " <function pyplasm.fenvs.ROTATE2>,\n",
       " <pyplasm.xgepy.Hpc; proxy of <Swig Object of type 'std::shared_ptr< Hpc > *' at 0x000000000EBA6030> >,\n",
       " <function pyplasm.fenvs.<lambda>>,\n",
       " <function pyplasm.fenvs.ROTATE2>,\n",
       " <pyplasm.xgepy.Hpc; proxy of <Swig Object of type 'std::shared_ptr< Hpc > *' at 0x000000000EBA6030> >,\n",
       " <function pyplasm.fenvs.<lambda>>,\n",
       " <function pyplasm.fenvs.ROTATE2>,\n",
       " <pyplasm.xgepy.Hpc; proxy of <Swig Object of type 'std::shared_ptr< Hpc > *' at 0x000000000EBA6030> >,\n",
       " <function pyplasm.fenvs.<lambda>>,\n",
       " <function pyplasm.fenvs.ROTATE2>,\n",
       " <pyplasm.xgepy.Hpc; proxy of <Swig Object of type 'std::shared_ptr< Hpc > *' at 0x000000000EBA6030> >,\n",
       " <function pyplasm.fenvs.<lambda>>,\n",
       " <function pyplasm.fenvs.ROTATE2>,\n",
       " <pyplasm.xgepy.Hpc; proxy of <Swig Object of type 'std::shared_ptr< Hpc > *' at 0x000000000EBA6030> >,\n",
       " <function pyplasm.fenvs.<lambda>>,\n",
       " <function pyplasm.fenvs.ROTATE2>,\n",
       " <pyplasm.xgepy.Hpc; proxy of <Swig Object of type 'std::shared_ptr< Hpc > *' at 0x000000000EBA6030> >,\n",
       " <function pyplasm.fenvs.<lambda>>,\n",
       " <function pyplasm.fenvs.ROTATE2>,\n",
       " <pyplasm.xgepy.Hpc; proxy of <Swig Object of type 'std::shared_ptr< Hpc > *' at 0x000000000EBA6030> >,\n",
       " <function pyplasm.fenvs.<lambda>>,\n",
       " <function pyplasm.fenvs.ROTATE2>,\n",
       " <pyplasm.xgepy.Hpc; proxy of <Swig Object of type 'std::shared_ptr< Hpc > *' at 0x000000000EBA6030> >,\n",
       " <function pyplasm.fenvs.<lambda>>,\n",
       " <function pyplasm.fenvs.ROTATE2>,\n",
       " <pyplasm.xgepy.Hpc; proxy of <Swig Object of type 'std::shared_ptr< Hpc > *' at 0x000000000EBA6030> >,\n",
       " <function pyplasm.fenvs.<lambda>>,\n",
       " <function pyplasm.fenvs.ROTATE2>,\n",
       " <pyplasm.xgepy.Hpc; proxy of <Swig Object of type 'std::shared_ptr< Hpc > *' at 0x000000000EBA6030> >,\n",
       " <function pyplasm.fenvs.<lambda>>,\n",
       " <function pyplasm.fenvs.ROTATE2>,\n",
       " <pyplasm.xgepy.Hpc; proxy of <Swig Object of type 'std::shared_ptr< Hpc > *' at 0x000000000EBA6030> >,\n",
       " <function pyplasm.fenvs.<lambda>>,\n",
       " <function pyplasm.fenvs.ROTATE2>,\n",
       " <pyplasm.xgepy.Hpc; proxy of <Swig Object of type 'std::shared_ptr< Hpc > *' at 0x000000000EBA6030> >,\n",
       " <function pyplasm.fenvs.<lambda>>,\n",
       " <function pyplasm.fenvs.ROTATE2>,\n",
       " <pyplasm.xgepy.Hpc; proxy of <Swig Object of type 'std::shared_ptr< Hpc > *' at 0x000000000EBA6030> >,\n",
       " <function pyplasm.fenvs.<lambda>>,\n",
       " <function pyplasm.fenvs.ROTATE2>]"
      ]
     },
     "execution_count": 15,
     "metadata": {},
     "output_type": "execute_result"
    }
   ],
   "source": [
    "NN(17)([element, T(3)(2), R([1,2])(PI/8)])"
   ]
  },
  {
   "cell_type": "code",
   "execution_count": 16,
   "metadata": {},
   "outputs": [],
   "source": [
    "# Il precedente è un array con 17*3 elementi: inizia con [ e finisce con ], ogni elemento è separato da virgola.\n",
    "# Ogni funzione è applicata su tutto ciò che c'è alla propria destra, gerarchicamente."
   ]
  },
  {
   "cell_type": "code",
   "execution_count": 17,
   "metadata": {},
   "outputs": [
    {
     "data": {
      "text/plain": [
       "<pyplasm.xgepy.Hpc; proxy of <Swig Object of type 'std::shared_ptr< Hpc > *' at 0x000000000EE486F0> >"
      ]
     },
     "execution_count": 17,
     "metadata": {},
     "output_type": "execute_result"
    }
   ],
   "source": [
    "ROTN([PI/4, [0,0,1]])(CUBE(1))"
   ]
  },
  {
   "cell_type": "code",
   "execution_count": 18,
   "metadata": {},
   "outputs": [
    {
     "data": {
      "text/plain": [
       "<pyplasm.xgepy.Hpc; proxy of <Swig Object of type 'std::shared_ptr< Hpc > *' at 0x000000000EE48750> >"
      ]
     },
     "execution_count": 18,
     "metadata": {},
     "output_type": "execute_result"
    }
   ],
   "source": [
    "VIEW(ROTN([PI/4, [0,0,1]])(CUBE(1)))"
   ]
  },
  {
   "cell_type": "code",
   "execution_count": 19,
   "metadata": {},
   "outputs": [],
   "source": [
    "# ROTN è la rotazione intorno ad n assi: nel caso [0,0,1] ruota intorno al versore dell'asse z!"
   ]
  },
  {
   "cell_type": "code",
   "execution_count": 21,
   "metadata": {},
   "outputs": [
    {
     "data": {
      "text/plain": [
       "<pyplasm.xgepy.Hpc; proxy of <Swig Object of type 'std::shared_ptr< Hpc > *' at 0x000000000EE5C090> >"
      ]
     },
     "execution_count": 21,
     "metadata": {},
     "output_type": "execute_result"
    }
   ],
   "source": [
    "VIEW(ROTN([PI/4,[1,1,1]])(CUBE(1))) # In questo caso, invece, ruota intorno a tutti gli assi!"
   ]
  }
 ],
 "metadata": {
  "kernelspec": {
   "display_name": "Python 2",
   "language": "python",
   "name": "python2"
  },
  "language_info": {
   "codemirror_mode": {
    "name": "ipython",
    "version": 2
   },
   "file_extension": ".py",
   "mimetype": "text/x-python",
   "name": "python",
   "nbconvert_exporter": "python",
   "pygments_lexer": "ipython2",
   "version": "2.7.12"
  }
 },
 "nbformat": 4,
 "nbformat_minor": 2
}
