{
 "cells": [
  {
   "cell_type": "markdown",
   "metadata": {},
   "source": [
    "# Spiegazione: Combinare mappe generatrici"
   ]
  },
  {
   "cell_type": "code",
   "execution_count": 1,
   "metadata": {},
   "outputs": [
    {
     "name": "stdout",
     "output_type": "stream",
     "text": [
      "Evaluating fenvs.py..\n",
      "...fenvs.py imported in 0.00404896243286 seconds\n"
     ]
    }
   ],
   "source": [
    "import sys\n",
    "sys.path.insert(0, 'C:\\Users\\Camilla Bianca\\Documents\\GGPL\\lar-cc\\larlib')\n",
    "from larlib import *"
   ]
  },
  {
   "cell_type": "code",
   "execution_count": 8,
   "metadata": {},
   "outputs": [],
   "source": [
    "# Creo delle semplici curve e poi le combino per costruire\n",
    "# delle superfici che hanno queste curve come bordo\n",
    "# Poi le due superfici saranno le frontiere per fare un solido\n",
    "#\n",
    "# EQUAZIONE PARAMETRICA DI UNA CIRCONFERENZA:"
   ]
  },
  {
   "cell_type": "code",
   "execution_count": 7,
   "metadata": {},
   "outputs": [
    {
     "data": {
      "text/plain": [
       "<function __main__.<lambda>>"
      ]
     },
     "execution_count": 7,
     "metadata": {},
     "output_type": "execute_result"
    }
   ],
   "source": [
    "x=lambda p : cos(p[0])\n",
    "x"
   ]
  },
  {
   "cell_type": "code",
   "execution_count": 4,
   "metadata": {},
   "outputs": [],
   "source": [
    "y = lambda p : sin(p[0])\n",
    "dom = INTERVALS(2*PI)(32)   # prende come primo argomento l'ampiezza del dominio\n",
    "                            # e come secondo argomento in quanti parti voglio suddividere"
   ]
  },
  {
   "cell_type": "code",
   "execution_count": 5,
   "metadata": {},
   "outputs": [
    {
     "data": {
      "text/plain": [
       "<pyplasm.xgepy.Hpc; proxy of <Swig Object of type 'std::shared_ptr< Hpc > *' at 0x000000000C3F6F60> >"
      ]
     },
     "execution_count": 5,
     "metadata": {},
     "output_type": "execute_result"
    }
   ],
   "source": [
    "MAP([x,y])(dom)"
   ]
  },
  {
   "cell_type": "code",
   "execution_count": 6,
   "metadata": {},
   "outputs": [
    {
     "data": {
      "text/plain": [
       "<pyplasm.xgepy.Hpc; proxy of <Swig Object of type 'std::shared_ptr< Hpc > *' at 0x000000000C4D0180> >"
      ]
     },
     "execution_count": 6,
     "metadata": {},
     "output_type": "execute_result"
    }
   ],
   "source": [
    "VIEW(MAP([x,y])(dom))"
   ]
  },
  {
   "cell_type": "code",
   "execution_count": 9,
   "metadata": {},
   "outputs": [
    {
     "data": {
      "text/plain": [
       "<pyplasm.xgepy.Hpc; proxy of <Swig Object of type 'std::shared_ptr< Hpc > *' at 0x000000000C4D05A0> >"
      ]
     },
     "execution_count": 9,
     "metadata": {},
     "output_type": "execute_result"
    }
   ],
   "source": [
    "# UN QUARTO DI CIRCONFERENZA:\n",
    "dom = INTERVALS(PI/2)(32)\n",
    "VIEW(MAP([x,y])(dom))"
   ]
  },
  {
   "cell_type": "code",
   "execution_count": 10,
   "metadata": {},
   "outputs": [
    {
     "data": {
      "text/plain": [
       "<pyplasm.xgepy.Hpc; proxy of <Swig Object of type 'std::shared_ptr< Hpc > *' at 0x000000000C4D0720> >"
      ]
     },
     "execution_count": 10,
     "metadata": {},
     "output_type": "execute_result"
    }
   ],
   "source": [
    "# Curva:\n",
    "dom = T(1)(PI/4)(INTERVALS(PI/2)(32))\n",
    "VIEW(MAP([x,y])(dom))"
   ]
  },
  {
   "cell_type": "code",
   "execution_count": 17,
   "metadata": {},
   "outputs": [
    {
     "data": {
      "text/plain": [
       "<pyplasm.xgepy.Hpc; proxy of <Swig Object of type 'std::shared_ptr< Hpc > *' at 0x000000000C6017E0> >"
      ]
     },
     "execution_count": 17,
     "metadata": {},
     "output_type": "execute_result"
    }
   ],
   "source": [
    "# Cerchio pieno:\n",
    "x = lambda (u,v) : v * cos(u)\n",
    "y = lambda (u,v) : v * sin(u)\n",
    "dom = PROD([INTERVALS(2*PI)(32),INTERVALS(1)(32)])\n",
    "VIEW(MAP([x,y])(dom))"
   ]
  },
  {
   "cell_type": "code",
   "execution_count": 19,
   "metadata": {},
   "outputs": [
    {
     "data": {
      "text/plain": [
       "<pyplasm.xgepy.Hpc; proxy of <Swig Object of type 'std::shared_ptr< Hpc > *' at 0x000000000C601990> >"
      ]
     },
     "execution_count": 19,
     "metadata": {},
     "output_type": "execute_result"
    }
   ],
   "source": [
    "# Corona circolare:\n",
    "# Le funzioni generatrici rimangono le stesse, cambia il dominio!\n",
    "dom = T(2)(.5)(PROD([INTERVALS(2*PI)(32),INTERVALS(.5)(32)]))\n",
    "VIEW(MAP([x,y])(dom))"
   ]
  },
  {
   "cell_type": "code",
   "execution_count": 20,
   "metadata": {},
   "outputs": [],
   "source": [
    "# Scriviamo una funzione per la corona circolare:\n",
    "def ring(r,R):\n",
    "    x = lambda (u,v) : v * cos(u)\n",
    "    y = lambda (u,v) : v * sin(u)\n",
    "    dom = T(2)(r)(PROD([INTERVALS(2*PI)(32),INTERVALS(R-r)(32)]))\n",
    "    return MAP([x,y])(dom)"
   ]
  },
  {
   "cell_type": "code",
   "execution_count": 21,
   "metadata": {},
   "outputs": [
    {
     "data": {
      "text/plain": [
       "<pyplasm.xgepy.Hpc; proxy of <Swig Object of type 'std::shared_ptr< Hpc > *' at 0x000000000C6041B0> >"
      ]
     },
     "execution_count": 21,
     "metadata": {},
     "output_type": "execute_result"
    }
   ],
   "source": [
    "# Utilizziamo la funzione:\n",
    "VIEW(ring(1,1.5))"
   ]
  },
  {
   "cell_type": "code",
   "execution_count": 27,
   "metadata": {},
   "outputs": [
    {
     "data": {
      "text/plain": [
       "<pyplasm.xgepy.Hpc; proxy of <Swig Object of type 'std::shared_ptr< Hpc > *' at 0x000000000C5FB870> >"
      ]
     },
     "execution_count": 27,
     "metadata": {},
     "output_type": "execute_result"
    }
   ],
   "source": [
    "# Curva di Bezier\n",
    "b = BEZIER(S1)([[0,0],[1,0],[0,1],[0,0]])\n",
    "VIEW(MAP(b)(INTERVALS(1)(32))) # intervallo da 0 a 1, diviso in 32 parti"
   ]
  },
  {
   "cell_type": "code",
   "execution_count": 29,
   "metadata": {},
   "outputs": [
    {
     "data": {
      "text/plain": [
       "<pyplasm.xgepy.Hpc; proxy of <Swig Object of type 'std::shared_ptr< Hpc > *' at 0x000000000C5FB330> >"
      ]
     },
     "execution_count": 29,
     "metadata": {},
     "output_type": "execute_result"
    }
   ],
   "source": [
    "b = BEZIER(S1)([[0,0],[1,0],[0,0],[0,1],[0,0]])\n",
    "VIEW(MAP(b)(INTERVALS(1)(32)))"
   ]
  },
  {
   "cell_type": "code",
   "execution_count": 30,
   "metadata": {},
   "outputs": [
    {
     "data": {
      "text/plain": [
       "<pyplasm.xgepy.Hpc; proxy of <Swig Object of type 'std::shared_ptr< Hpc > *' at 0x000000000C5FB600> >"
      ]
     },
     "execution_count": 30,
     "metadata": {},
     "output_type": "execute_result"
    }
   ],
   "source": [
    "b = BEZIER(S1)([[0,0],[1,0],[-10,-10],[0,1],[0,0]])\n",
    "VIEW(MAP(b)(INTERVALS(1)(32)))"
   ]
  },
  {
   "cell_type": "code",
   "execution_count": 31,
   "metadata": {},
   "outputs": [
    {
     "data": {
      "text/plain": [
       "<pyplasm.xgepy.Hpc; proxy of <Swig Object of type 'std::shared_ptr< Hpc > *' at 0x000000000C5FB750> >"
      ]
     },
     "execution_count": 31,
     "metadata": {},
     "output_type": "execute_result"
    }
   ],
   "source": [
    "# FACIOLO:\n",
    "b = BEZIER(S1)([[0,0],[1,0],[-1,-1],[0,1],[0,0]])\n",
    "VIEW(MAP(b)(INTERVALS(1)(32)))"
   ]
  },
  {
   "cell_type": "code",
   "execution_count": 34,
   "metadata": {},
   "outputs": [
    {
     "data": {
      "text/plain": [
       "<pyplasm.xgepy.Hpc; proxy of <Swig Object of type 'std::shared_ptr< Hpc > *' at 0x000000000C5FB6F0> >"
      ]
     },
     "execution_count": 34,
     "metadata": {},
     "output_type": "execute_result"
    }
   ],
   "source": [
    "# INTERPOLAZIONE TRANSFINITA\n",
    "# Due corve non troppo diverse:\n",
    "b1 = BEZIER(S1)([[0,0],[1,0],[-1,-1],[0,1],[0,0]])\n",
    "b2 = BEZIER(S1)([[0,0],[1,0],[-2,-2],[0,1],[0,0]])\n",
    "# Posso usare due curve come dati di controllo di una superficie:\n",
    "bb = BEZIER(S2)([b1,b2])\n",
    "# Ora il dominio deve essere bidimensionale, a causa di S2!\n",
    "# (Il dominio non è più unidimensionale (com'era con S1))\n",
    "dom = PROD([INTERVALS(1)(32),INTERVALS(1)(1)])\n",
    "VIEW(MAP(bb)(dom))\n",
    "VIEW(SKEL_1(MAP(bb)(dom)))"
   ]
  },
  {
   "cell_type": "code",
   "execution_count": 35,
   "metadata": {},
   "outputs": [
    {
     "data": {
      "text/plain": [
       "<pyplasm.xgepy.Hpc; proxy of <Swig Object of type 'std::shared_ptr< Hpc > *' at 0x000000000C604C60> >"
      ]
     },
     "execution_count": 35,
     "metadata": {},
     "output_type": "execute_result"
    }
   ],
   "source": [
    "# Dividiamo in 4 parti lo stesso dominio:\n",
    "dom = PROD([INTERVALS(1)(32),INTERVALS(1)(4)])\n",
    "VIEW(SKEL_1(MAP(bb)(dom)))"
   ]
  },
  {
   "cell_type": "code",
   "execution_count": 41,
   "metadata": {},
   "outputs": [
    {
     "data": {
      "text/plain": [
       "<pyplasm.xgepy.Hpc; proxy of <Swig Object of type 'std::shared_ptr< Hpc > *' at 0x000000000C7914B0> >"
      ]
     },
     "execution_count": 41,
     "metadata": {},
     "output_type": "execute_result"
    }
   ],
   "source": [
    "x = lambda (u,v) : 1.5 * cos(u) # raggio=1.5\n",
    "y = lambda (u,v) : 1.5 * sin(u)\n",
    "# Prendo una curva quadratica di Bezier:\n",
    "b = BEZIER(S1)([[1,.5],[1,1],[.5,1]]) # 3 punti di controllo: 1,1.5 , 1,1 , 1.5,1\n",
    "bb = BEZIER(S2)([b,CONS([x,y])])      # b e (x,y) sono le due funzioni generatrici di una curva\n",
    "VIEW(SKEL_1(MAP(bb)(dom)))"
   ]
  },
  {
   "cell_type": "code",
   "execution_count": 43,
   "metadata": {},
   "outputs": [
    {
     "data": {
      "text/plain": [
       "<pyplasm.xgepy.Hpc; proxy of <Swig Object of type 'std::shared_ptr< Hpc > *' at 0x000000000C791300> >"
      ]
     },
     "execution_count": 43,
     "metadata": {},
     "output_type": "execute_result"
    }
   ],
   "source": [
    "# La alzo e la metto per sbieco:\n",
    "# Mi serve un'altra coordinata:\n",
    "z = lambda (u,v) : 1\n",
    "b = BEZIER(S1)([[1,.5,1],[1,1,2],[.5,1,3]])\n",
    "bb = BEZIER(S2)([b,CONS([x,y,z])])\n",
    "VIEW(SKEL_1(MAP(bb)(dom)))"
   ]
  },
  {
   "cell_type": "code",
   "execution_count": 52,
   "metadata": {},
   "outputs": [
    {
     "data": {
      "text/plain": [
       "<pyplasm.xgepy.Hpc; proxy of <Swig Object of type 'std::shared_ptr< Hpc > *' at 0x000000000C5CC150> >"
      ]
     },
     "execution_count": 52,
     "metadata": {},
     "output_type": "execute_result"
    }
   ],
   "source": [
    "# Spirale: \n",
    "# h = passo, n = numero di giri\n",
    "def spiral(r,h,n):\n",
    "    x = lambda (u,) : r*cos(u) # Le funzioni sono applicate dal MAP nei punti del dominio, e cioè i vettori! \n",
    "    y = lambda (u,) : r*sin(u) # Per questo si usa [u]\n",
    "    # z = lambda (u,) : u        # Lo uso come quota: ottengo così una spirale!\n",
    "    # z = lambda (u,) : u/(2*PI) # Dopo un giro si trova a quota 1\n",
    "    z = lambda (u,) : h*u/(2*PI) # Dopo un giro si trova a quota h\n",
    "    dom = INTERVALS(2*n*PI)(36*n)\n",
    "    return MAP(CONS([x,y,z]))(dom)\n",
    "VIEW(spiral(.5,.1,20))"
   ]
  },
  {
   "cell_type": "code",
   "execution_count": 61,
   "metadata": {},
   "outputs": [
    {
     "data": {
      "text/plain": [
       "<pyplasm.xgepy.Hpc; proxy of <Swig Object of type 'std::shared_ptr< Hpc > *' at 0x000000000C5A31E0> >"
      ]
     },
     "execution_count": 61,
     "metadata": {},
     "output_type": "execute_result"
    }
   ],
   "source": [
    "# Rampa:\n",
    "# Ridefiniamo spiral:\n",
    "def spiral(r,h):\n",
    "    x = lambda (u,v) : r*cos(u)\n",
    "    y = lambda (u,v) : r*sin(u)\n",
    "    z = lambda (u,v) : h*u/(2*PI)\n",
    "    return CONS([x,y,z])\n",
    "    \n",
    "s1 = spiral(.5,.2)\n",
    "s2 = spiral(1,.2)\n",
    "sup = BEZIER(S2)([s1,s2])\n",
    "dom = lambda n : PROD([\n",
    "    INTERVALS(2*n*PI)(36*n),\n",
    "    INTERVALS(1)(1)\n",
    "])\n",
    "\n",
    "rampa = MAP(sup)(dom(10))\n",
    "VIEW(rampa)"
   ]
  },
  {
   "cell_type": "code",
   "execution_count": 87,
   "metadata": {},
   "outputs": [
    {
     "data": {
      "text/plain": [
       "<pyplasm.xgepy.Hpc; proxy of <Swig Object of type 'std::shared_ptr< Hpc > *' at 0x000000000C791930> >"
      ]
     },
     "execution_count": 87,
     "metadata": {},
     "output_type": "execute_result"
    }
   ],
   "source": [
    "# Griglia di triangoli:\n",
    "\n",
    "dom = larExtrude1(VOID,200*[PI/10])\n",
    "dom = larExtrude1(dom,[1])\n",
    "hpc = MKPOL([dom[0],[[v1+1,v2+1,v3+1] for v1,v2,v3 in dom[1]],None])\n",
    "rampa = MAP(sup)(hpc)\n",
    "#VIEW(rampa)\n",
    "\n",
    "# Aumentiamo il numero dei triangoli:\n",
    "\n",
    "dom = larExtrude1(dom, 5*[1./5])\n",
    "#VIEW(SKEL_1(STRUCT(MKPOLS(dom))))\n",
    "#hpc = MKPOL([dom[0],[[v1+1,v2+1,v3+1] for v1,v2,v3 in dom[1]],None])\n",
    "rampa = MAP(sup)(hpc)\n",
    "#VIEW(SKEL_1(rampa))\n",
    "\n",
    "#VIEW(OFFSET([.1,.1,.1])(SKEL_1(rampa)))\n",
    "VIEW(OFFSET([.01,.01,.01])(SKEL_1(rampa)))"
   ]
  }
 ],
 "metadata": {
  "kernelspec": {
   "display_name": "Python 2",
   "language": "python",
   "name": "python2"
  },
  "language_info": {
   "codemirror_mode": {
    "name": "ipython",
    "version": 2
   },
   "file_extension": ".py",
   "mimetype": "text/x-python",
   "name": "python",
   "nbconvert_exporter": "python",
   "pygments_lexer": "ipython2",
   "version": "2.7.12"
  }
 },
 "nbformat": 4,
 "nbformat_minor": 2
}
