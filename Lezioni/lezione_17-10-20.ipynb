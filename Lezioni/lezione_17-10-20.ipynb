{
 "cells": [
  {
   "cell_type": "markdown",
   "metadata": {},
   "source": [
    "# Spiegazione: Facciata casa"
   ]
  },
  {
   "cell_type": "code",
   "execution_count": 1,
   "metadata": {},
   "outputs": [
    {
     "name": "stdout",
     "output_type": "stream",
     "text": [
      "Evaluating fenvs.py..\n",
      "...fenvs.py imported in 0.00824269997929 seconds\n"
     ]
    },
    {
     "name": "stderr",
     "output_type": "stream",
     "text": [
      "c:\\program files\\python27\\lib\\site-packages\\larlib\\larstruct.py:233: FutureWarning: comparison to `None` will result in an elementwise object comparison in the future.\n",
      "  self.body = [item for item in data if item != None]\n"
     ]
    }
   ],
   "source": [
    "# librerie:\n",
    "import sys\n",
    "sys.path.insert(0, 'C:\\Program Files\\Python27\\Lib\\site-packages\\larlib')\n",
    "from simplexn import *\n",
    "from larcc import *\n",
    "from lar2psm import *\n",
    "from largrid import *\n",
    "from pyplasm import *"
   ]
  },
  {
   "cell_type": "code",
   "execution_count": 2,
   "metadata": {},
   "outputs": [
    {
     "ename": "NameError",
     "evalue": "name 'verts' is not defined",
     "output_type": "error",
     "traceback": [
      "\u001b[1;31m---------------------------------------------------------------------------\u001b[0m",
      "\u001b[1;31mNameError\u001b[0m                                 Traceback (most recent call last)",
      "\u001b[1;32m<ipython-input-2-dae406776d69>\u001b[0m in \u001b[0;36m<module>\u001b[1;34m()\u001b[0m\n\u001b[1;32m----> 1\u001b[1;33m \u001b[0mwall\u001b[0m \u001b[1;33m=\u001b[0m \u001b[0mMKPOL\u001b[0m\u001b[1;33m(\u001b[0m\u001b[1;33m[\u001b[0m\u001b[0mverts\u001b[0m\u001b[1;33m,\u001b[0m\u001b[0mcells\u001b[0m\u001b[1;33m,\u001b[0m\u001b[0mpols\u001b[0m\u001b[1;33m]\u001b[0m\u001b[1;33m)\u001b[0m\u001b[1;33m\u001b[0m\u001b[0m\n\u001b[0m\u001b[0;32m      2\u001b[0m \u001b[1;31m# con le parentesi quadre mi indica un solo elemento, composto in realtà di 3.\u001b[0m\u001b[1;33m\u001b[0m\u001b[1;33m\u001b[0m\u001b[0m\n",
      "\u001b[1;31mNameError\u001b[0m: name 'verts' is not defined"
     ]
    }
   ],
   "source": [
    "wall = MKPOL([verts,cells,pols])\n",
    "# con le parentesi quadre mi indica un solo elemento, composto in realtà di 3."
   ]
  },
  {
   "cell_type": "code",
   "execution_count": 3,
   "metadata": {},
   "outputs": [
    {
     "data": {
      "text/plain": [
       "<pyplasm.xgepy.Hpc; proxy of <Swig Object of type 'std::shared_ptr< Hpc > *' at 0x000000000E2D5CC0> >"
      ]
     },
     "execution_count": 3,
     "metadata": {},
     "output_type": "execute_result"
    }
   ],
   "source": [
    "# È normale che mi dia errori: non esistono le variabili vars, cells e pols!\n",
    "verts=[[0,0],[10,0],[10,10],[5,13],[0,10]] # array di vertici\n",
    "cells = [[1,2,3,4,5]] # ci sono 5 punti (cioè vertici) e quindi si usano 5 celle:\n",
    "# le celle sono gli indici (cioè i \"nomi\") dei vertici!\n",
    "# Le celle devono essere figure convesse (?)\n",
    "pols = [] # poligoni creati da celle convesse (?)\n",
    "# i pols sono gli indici delle celle!\n",
    "wall = MKPOL([verts,cells,pols])\n",
    "wall\n",
    "# wall è un ogetto di tipo Hpc (complesso poliedrale gerarchico)"
   ]
  },
  {
   "cell_type": "code",
   "execution_count": 4,
   "metadata": {},
   "outputs": [
    {
     "data": {
      "text/plain": [
       "<pyplasm.xgepy.Hpc; proxy of <Swig Object of type 'std::shared_ptr< Hpc > *' at 0x000000000E2D5CC0> >"
      ]
     },
     "execution_count": 4,
     "metadata": {},
     "output_type": "execute_result"
    }
   ],
   "source": [
    "VIEW(wall) # visualizzo l'oggetto"
   ]
  },
  {
   "cell_type": "code",
   "execution_count": 5,
   "metadata": {},
   "outputs": [
    {
     "data": {
      "text/plain": [
       "<pyplasm.xgepy.Hpc; proxy of <Swig Object of type 'std::shared_ptr< Hpc > *' at 0x000000000700FB40> >"
      ]
     },
     "execution_count": 5,
     "metadata": {},
     "output_type": "execute_result"
    }
   ],
   "source": [
    "# Mettiamo porte e finestre\n",
    "door = CUBOID([2,5]) # anche questa, come MKPOL() è unaria: mettiamo le []\n",
    "window = CUBOID([2,3]) # la finestra è meno alta della porta\n",
    "# La funzione CUBOID crea con vertice nell'origine\n",
    "# Aggreghiamo gli oggetti con STRUCT:\n",
    "house = STRUCT([wall,door,window])\n",
    "# Questi creati sono tutti oggetti Hpc!\n",
    "VIEW(house)"
   ]
  },
  {
   "cell_type": "code",
   "execution_count": 6,
   "metadata": {},
   "outputs": [
    {
     "data": {
      "text/plain": [
       "<pyplasm.xgepy.Hpc; proxy of <Swig Object of type 'std::shared_ptr< Hpc > *' at 0x000000000E4B40C0> >"
      ]
     },
     "execution_count": 6,
     "metadata": {},
     "output_type": "execute_result"
    }
   ],
   "source": [
    "VIEW(SKEL_1(house))"
   ]
  },
  {
   "cell_type": "code",
   "execution_count": 12,
   "metadata": {},
   "outputs": [],
   "source": [
    "# Con VIEW non si vedevano perché sia porta che finestra sono bianche!\n",
    "\n",
    "# Ora trasliamo porta e finestra solo sull'asse x:\n",
    "house = STRUCT([wall,T(1)(4)(door),T([1,2])([7,2])(window)]) #la finestra trasla anche in y!"
   ]
  },
  {
   "cell_type": "code",
   "execution_count": 8,
   "metadata": {},
   "outputs": [],
   "source": [
    "#########################################################################\n",
    "# TRASLAZIONE:\n",
    "# T(1)(4) = trasla sulla prima coordinata (cioè x) di 4 posizioni.\n",
    "# T([1,2])([7,2]) = trasla sulla prima coordinata (cioè x) di 7, e trasla sulla seconda (cioè y) di 2!\n",
    "##########################################################################"
   ]
  },
  {
   "cell_type": "code",
   "execution_count": 9,
   "metadata": {},
   "outputs": [
    {
     "data": {
      "text/plain": [
       "<pyplasm.xgepy.Hpc; proxy of <Swig Object of type 'std::shared_ptr< Hpc > *' at 0x000000000E4B43C0> >"
      ]
     },
     "execution_count": 9,
     "metadata": {},
     "output_type": "execute_result"
    }
   ],
   "source": [
    "VIEW(SKEL_1(house))"
   ]
  },
  {
   "cell_type": "code",
   "execution_count": 10,
   "metadata": {},
   "outputs": [
    {
     "data": {
      "text/plain": [
       "<pyplasm.xgepy.Hpc; proxy of <Swig Object of type 'std::shared_ptr< Hpc > *' at 0x000000000E4B44B0> >"
      ]
     },
     "execution_count": 10,
     "metadata": {},
     "output_type": "execute_result"
    }
   ],
   "source": [
    "# Sottraiamo alla faccia (wall) le altre due figure (door e window), così che non siano più piene!\n",
    "house = DIFFERENCE([wall,T(1)(4)(door),T([1,2])([7,2])(window)])\n",
    "VIEW(house)"
   ]
  },
  {
   "cell_type": "code",
   "execution_count": 11,
   "metadata": {},
   "outputs": [
    {
     "data": {
      "text/plain": [
       "<pyplasm.xgepy.Hpc; proxy of <Swig Object of type 'std::shared_ptr< Hpc > *' at 0x000000000E4B4480> >"
      ]
     },
     "execution_count": 11,
     "metadata": {},
     "output_type": "execute_result"
    }
   ],
   "source": [
    "# Ora si vede tutto bene perché porta e finestra sono state eliminate dalla facciata!\n",
    "VIEW(SKEL_1(house))"
   ]
  },
  {
   "cell_type": "code",
   "execution_count": 13,
   "metadata": {},
   "outputs": [
    {
     "data": {
      "text/plain": [
       "<pyplasm.xgepy.Hpc; proxy of <Swig Object of type 'std::shared_ptr< Hpc > *' at 0x000000000700F870> >"
      ]
     },
     "execution_count": 13,
     "metadata": {},
     "output_type": "execute_result"
    }
   ],
   "source": [
    "# Con lo scheletro vediamo un sacco di linee perché quelli sono tutti i calcoli fatti per la sottrazione!\n",
    "\n",
    "# Trasformazione di scala: scaliamo la figura\n",
    "# Scalamento uniforme: riduciamo la dimensione trasformando seguendo una retta che passa per l'origine\n",
    "# Prima traslo la casa più in alto (e a destra) rispetto all'origine\n",
    "house = T([1,2])([10,10])(house)\n",
    "STRUCT([house, S([1,2])([.5,.5])(house)]) # faccio due copie e scalo la seconda"
   ]
  },
  {
   "cell_type": "code",
   "execution_count": 14,
   "metadata": {},
   "outputs": [
    {
     "data": {
      "text/plain": [
       "<pyplasm.xgepy.Hpc; proxy of <Swig Object of type 'std::shared_ptr< Hpc > *' at 0x000000000E4B4510> >"
      ]
     },
     "execution_count": 14,
     "metadata": {},
     "output_type": "execute_result"
    }
   ],
   "source": [
    "VIEW(STRUCT([house, S([1,2])([.5,.5])(house)]))"
   ]
  },
  {
   "cell_type": "code",
   "execution_count": 15,
   "metadata": {},
   "outputs": [
    {
     "data": {
      "text/plain": [
       "<pyplasm.xgepy.Hpc; proxy of <Swig Object of type 'std::shared_ptr< Hpc > *' at 0x000000000E4B44E0> >"
      ]
     },
     "execution_count": 15,
     "metadata": {},
     "output_type": "execute_result"
    }
   ],
   "source": [
    "# Ribaltiamo la figura: si fa una riflessione che si può fare sia sull'asse x che sulla y\n",
    "VIEW(STRUCT([house, S([1,2])([1,-1])(house)])) # rispetto all'asse x"
   ]
  },
  {
   "cell_type": "code",
   "execution_count": 16,
   "metadata": {},
   "outputs": [
    {
     "data": {
      "text/plain": [
       "<pyplasm.xgepy.Hpc; proxy of <Swig Object of type 'std::shared_ptr< Hpc > *' at 0x000000000E4B4450> >"
      ]
     },
     "execution_count": 16,
     "metadata": {},
     "output_type": "execute_result"
    }
   ],
   "source": [
    "VIEW(STRUCT([house, S([1,2])([-1,1])(house)])) # rispetto all'asse y "
   ]
  }
 ],
 "metadata": {
  "kernelspec": {
   "display_name": "Python 2",
   "language": "python",
   "name": "python2"
  },
  "language_info": {
   "codemirror_mode": {
    "name": "ipython",
    "version": 2
   },
   "file_extension": ".py",
   "mimetype": "text/x-python",
   "name": "python",
   "nbconvert_exporter": "python",
   "pygments_lexer": "ipython2",
   "version": "2.7.12"
  }
 },
 "nbformat": 4,
 "nbformat_minor": 2
}
