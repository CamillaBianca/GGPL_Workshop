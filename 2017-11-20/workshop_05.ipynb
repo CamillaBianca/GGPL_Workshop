{
 "cells": [
  {
   "cell_type": "markdown",
   "metadata": {},
   "source": [
    "# Workshop 05"
   ]
  },
  {
   "cell_type": "markdown",
   "metadata": {},
   "source": [
    "<b>Obiettivo</b>: Realizzazione del modello 3D di <i><b>Villa Gazzotti Grimani</b></i>."
   ]
  },
  {
   "cell_type": "markdown",
   "metadata": {},
   "source": [
    "![VillaGazzotti_pianta.jpg](files/Immagini/VillaGazzotti_pianta.jpg)"
   ]
  },
  {
   "cell_type": "code",
   "execution_count": 1,
   "metadata": {},
   "outputs": [
    {
     "name": "stdout",
     "output_type": "stream",
     "text": [
      "Evaluating fenvs.py..\n",
      "...fenvs.py imported in 0.00662937045596 seconds\n"
     ]
    }
   ],
   "source": [
    "# Importo le librerie:\n",
    "import sys\n",
    "sys.path.insert(0, 'C:\\Users\\Camilla Bianca\\Documents\\GGPL\\lar-cc\\larlib')\n",
    "from larlib import *\n",
    "import math\n",
    "import csv"
   ]
  },
  {
   "cell_type": "code",
   "execution_count": 7,
   "metadata": {},
   "outputs": [
    {
     "data": {
      "text/plain": [
       "<pyplasm.xgepy.Hpc; proxy of <Swig Object of type 'std::shared_ptr< Hpc > *' at 0x000000000E2E4F60> >"
      ]
     },
     "execution_count": 7,
     "metadata": {},
     "output_type": "execute_result"
    }
   ],
   "source": [
    "with open(\"piantaSenzaSpiazzo.lines\",\"rb\") as file:\n",
    "    reader = csv.reader(file,delimiter=\",\")\n",
    "    muri = []\n",
    "    for row in reader:\n",
    "        row0 = math.floor(float(row[0])*10)/10\n",
    "        row1 = math.floor(float(row[1])*10)/10\n",
    "        row2 = math.floor(float(row[2])*10)/10\n",
    "        row3 = math.floor(float(row[3])*10)/10\n",
    "        muri.append(POLYLINE([[row0,row1],[row2,row3]]))\n",
    "        \n",
    "VIEW(STRUCT(muri))"
   ]
  },
  {
   "cell_type": "code",
   "execution_count": 5,
   "metadata": {},
   "outputs": [
    {
     "data": {
      "text/plain": [
       "<pyplasm.xgepy.Hpc; proxy of <Swig Object of type 'std::shared_ptr< Hpc > *' at 0x000000000E2C9930> >"
      ]
     },
     "execution_count": 5,
     "metadata": {},
     "output_type": "execute_result"
    }
   ],
   "source": [
    "h = 20\n",
    "VIEW(MULTEXTRUDE(OFFSET([2,2])(STRUCT(muri)))(h))\n",
    "#Se si vede una linea nei muri / Se vuoi fare i contorni più spessi:\n",
    "#VIEW(MULTEXTRUDE(OFFSET([2.5,2.5])(STRUCT(muri)))(h))"
   ]
  },
  {
   "cell_type": "code",
   "execution_count": null,
   "metadata": {},
   "outputs": [],
   "source": []
  }
 ],
 "metadata": {
  "kernelspec": {
   "display_name": "Python 2",
   "language": "python",
   "name": "python2"
  },
  "language_info": {
   "codemirror_mode": {
    "name": "ipython",
    "version": 2
   },
   "file_extension": ".py",
   "mimetype": "text/x-python",
   "name": "python",
   "nbconvert_exporter": "python",
   "pygments_lexer": "ipython2",
   "version": "2.7.12"
  }
 },
 "nbformat": 4,
 "nbformat_minor": 2
}
