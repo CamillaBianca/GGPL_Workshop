{
 "cells": [
  {
   "cell_type": "markdown",
   "metadata": {},
   "source": [
    "# Workshop 03"
   ]
  },
  {
   "cell_type": "markdown",
   "metadata": {},
   "source": [
    "<b>Obiettivo</b>: Creare un modello 3D per la <i>chiesa centralizzata di Leonardo</i>."
   ]
  },
  {
   "cell_type": "markdown",
   "metadata": {},
   "source": [
    "![ws3_Leo.png](files/Immagini/ws3_Leo.png)"
   ]
  },
  {
   "cell_type": "code",
   "execution_count": 3,
   "metadata": {},
   "outputs": [
    {
     "name": "stdout",
     "output_type": "stream",
     "text": [
      "Evaluating fenvs.py..\n",
      "...fenvs.py imported in 0.00699367768328 seconds\n"
     ]
    }
   ],
   "source": [
    "# Importo la libreria:\n",
    "import sys\n",
    "sys.path.insert(0, 'C:\\Users\\Camilla Bianca\\Documents\\GGPL\\lar-cc\\larlib')\n",
    "from larlib import *"
   ]
  },
  {
   "cell_type": "markdown",
   "metadata": {},
   "source": [
    "<hr>\n",
    "- <b>Torre cilindrica</b>:"
   ]
  },
  {
   "cell_type": "code",
   "execution_count": 5,
   "metadata": {},
   "outputs": [
    {
     "name": "stdout",
     "output_type": "stream",
     "text": [
      "Child 3\n",
      "Child 3\n"
     ]
    },
    {
     "data": {
      "text/plain": [
       "<pyplasm.xgepy.Hpc; proxy of <Swig Object of type 'std::shared_ptr< Hpc > *' at 0x0000000006EEE5D0> >"
      ]
     },
     "execution_count": 5,
     "metadata": {},
     "output_type": "execute_result"
    }
   ],
   "source": [
    "# l = larghezza; h = altezza; n = numero facce;\n",
    "def cilindro(l,h,n):\n",
    "    return TEXTURE('Texture/legno.jpg')(CYLINDER([l,h])(n))\n",
    "\n",
    "VIEW(cilindro(8,15,10))\n",
    "\n",
    "# Per ottenere una cupola faccio l'intersezione tra una sfera ed un cubo:\n",
    "# d = diametro; fo = facce orizzontali; fv = facce verticali;\n",
    "def cupola(d,fo,fv):\n",
    "    sfera=JOIN(SPHERE(d)([fo,fv]))\n",
    "    cubo=T([1,2])([-d,-d])(CUBOID([d*3,d*3,d*3]))\n",
    "    cupola=INTERSECTION([cubo,sfera])\n",
    "    # Abbellisco la cupola con due scalini nella parte bassa:\n",
    "    baseBassa=CYLINDER([d*1.05,d*0.05])(fv)\n",
    "    baseAlta=T(3)(d*0.1)(CYLINDER([d*1.1,d*0.1])(fv))\n",
    "    cupolaCompleta=STRUCT([baseBassa,baseAlta,cupola])\n",
    "    return TEXTURE('Texture/legno.jpg')(cupolaCompleta)\n",
    "\n",
    "VIEW(cupola(8,15,8))\n",
    "\n",
    "# Per ottenere una torre uniamo un cilindro ed una cupola:\n",
    "# l = larghezza; h = altezza; n = numero facce;\n",
    "def torre(l,h,n):\n",
    "    i=int(n)\n",
    "    cup=cupola(l,i,i)\n",
    "    cil=cilindro(l,h/2,i)\n",
    "    return TOP([cil,cup])\n",
    "\n",
    "VIEW(torre(8,16,8))"
   ]
  },
  {
   "cell_type": "markdown",
   "metadata": {},
   "source": [
    "![ws3_cilindro.png](files/Immagini/ws3_cilindro.png)\n",
    "![ws3_cupola.png](files/Immagini/ws3_cupola.png)\n",
    "![ws3_torre.png](files/Immagini/ws3_torre.png)"
   ]
  },
  {
   "cell_type": "markdown",
   "metadata": {},
   "source": [
    "<hr>\n",
    "- <b>Puntale</b>:"
   ]
  },
  {
   "cell_type": "code",
   "execution_count": 6,
   "metadata": {},
   "outputs": [
    {
     "name": "stdout",
     "output_type": "stream",
     "text": [
      "Child 3\n"
     ]
    },
    {
     "data": {
      "text/plain": [
       "<pyplasm.xgepy.Hpc; proxy of <Swig Object of type 'std::shared_ptr< Hpc > *' at 0x000000000E23F330> >"
      ]
     },
     "execution_count": 6,
     "metadata": {},
     "output_type": "execute_result"
    }
   ],
   "source": [
    "def puntale(l,h):\n",
    "    parteSuperiore=S(3)(1.5)(cupola(l,4,4))\n",
    "    centro=cilindro(l,h/2,4)\n",
    "    parteInferiore=cilindro(l*1.1,h*0.1,4)\n",
    "    p=TOP([TOP([parteInferiore,centro]),parteSuperiore])\n",
    "    return TEXTURE('Texture/legno.jpg')(p)\n",
    "\n",
    "VIEW(puntale(1,2))"
   ]
  },
  {
   "cell_type": "markdown",
   "metadata": {},
   "source": [
    "![ws3_puntale.png](files/Immagini/ws3_puntale.png)"
   ]
  },
  {
   "cell_type": "markdown",
   "metadata": {},
   "source": [
    "<hr>\n",
    "- <b>Base della struttura</b>:"
   ]
  },
  {
   "cell_type": "code",
   "execution_count": 7,
   "metadata": {
    "scrolled": true
   },
   "outputs": [
    {
     "name": "stdout",
     "output_type": "stream",
     "text": [
      "Child 3\n",
      "Child 3\n"
     ]
    },
    {
     "data": {
      "text/plain": [
       "<pyplasm.xgepy.Hpc; proxy of <Swig Object of type 'std::shared_ptr< Hpc > *' at 0x000000000E23F090> >"
      ]
     },
     "execution_count": 7,
     "metadata": {},
     "output_type": "execute_result"
    }
   ],
   "source": [
    "# lBase = larghezza edificio;\n",
    "# hBase = altezza edificio;\n",
    "# lTorre = larghezza torre centrale;\n",
    "# hTorre = altezza torre centrale;\n",
    "def struttura(lBase,hBase,lTorre,hTorre,n):\n",
    "    # t è la torre centrale, con il puntale in cima\n",
    "    t=TOP([\n",
    "        torre(lTorre,hTorre,n),\n",
    "        puntale(lTorre/4,hTorre/4)\n",
    "    ])\n",
    "    # creo la struttura dell'edificio, con due \"scalini\": uno nel mezzo ed uno superiore\n",
    "    piastra=CUBOID([lBase*1.05,lBase*1.05,hBase/10])\n",
    "    base=TOP([TOP([CUBOID([lBase,lBase,(hBase/2)-(hBase/10)]),piastra]),CUBOID([lBase,lBase,(hBase/2)-(hBase/10)])])\n",
    "    return TEXTURE('Texture/legno.jpg')(TOP([TOP([base,piastra]),t]))\n",
    "    \n",
    "VIEW(struttura(20,10,5,10,10))"
   ]
  },
  {
   "cell_type": "markdown",
   "metadata": {},
   "source": [
    "![ws3_struttura.png](files/Immagini/ws3_struttura.png)"
   ]
  },
  {
   "cell_type": "markdown",
   "metadata": {},
   "source": [
    "<hr>\n",
    "- <b>Parte superiore della struttura</b>:"
   ]
  },
  {
   "cell_type": "code",
   "execution_count": 8,
   "metadata": {},
   "outputs": [
    {
     "name": "stdout",
     "output_type": "stream",
     "text": [
      "Child 3\n",
      "Child 3\n",
      "Child 3\n"
     ]
    },
    {
     "data": {
      "text/plain": [
       "<pyplasm.xgepy.Hpc; proxy of <Swig Object of type 'std::shared_ptr< Hpc > *' at 0x0000000006EE7CF0> >"
      ]
     },
     "execution_count": 8,
     "metadata": {},
     "output_type": "execute_result"
    }
   ],
   "source": [
    "# La parte superiore della struttura è composta dalla struttura di base appena vista\n",
    "# con l'aggiunta di quattro torri più piccole che si poggiano sulla piastra superiore:\n",
    "def strutturaSuperiore(lBase,hBase,lTorre,hTorre,n):\n",
    "    b=struttura(lBase,hBase,lTorre,hTorre,n)\n",
    "    # t è una torre da ripetere 4 volte, più piccola di quella centrale:\n",
    "    t=torre(lTorre/2,hTorre/2,n)\n",
    "    torri=STRUCT([\n",
    "        b,\n",
    "        T([1,2,3])([lBase*0.15,lBase*0.15,hBase])(t),\n",
    "        T([1,2,3])([lBase*0.85,lBase*0.15,hBase])(t),\n",
    "        T([1,2,3])([lBase*0.15,lBase*0.85,hBase])(t),\n",
    "        T([1,2,3])([lBase*0.85,lBase*0.85,hBase])(t)\n",
    "    ])\n",
    "    return torri\n",
    "\n",
    "VIEW(strutturaSuperiore(20,10,5,10,8))"
   ]
  },
  {
   "cell_type": "markdown",
   "metadata": {},
   "source": [
    "![ws3_strutturaS.png](files/Immagini/ws3_strutturaS.png)"
   ]
  },
  {
   "cell_type": "markdown",
   "metadata": {},
   "source": [
    "<hr>\n",
    "- <b>Parte laterale della struttura</b>:"
   ]
  },
  {
   "cell_type": "code",
   "execution_count": 9,
   "metadata": {},
   "outputs": [
    {
     "name": "stdout",
     "output_type": "stream",
     "text": [
      "Child 3\n",
      "Child 3\n",
      "Child 3\n"
     ]
    },
    {
     "data": {
      "text/plain": [
       "<pyplasm.xgepy.Hpc; proxy of <Swig Object of type 'std::shared_ptr< Hpc > *' at 0x0000000006EE7D20> >"
      ]
     },
     "execution_count": 9,
     "metadata": {},
     "output_type": "execute_result"
    }
   ],
   "source": [
    "# La struttura laterale è praticamente una struttura base, ma più ristretta\n",
    "# e con l'aggiunta di quattro mezze torri inserite nelle pareti laterali:\n",
    "def strutturaLaterale(lBase,hBase,lTorre,hTorre,n):\n",
    "    b=struttura(lBase,hBase,lTorre,hTorre,n)\n",
    "    # t è una torre da ripetere 4 volte, più piccola di quella centrale:\n",
    "    t=torre(lTorre*0.8,hTorre*2,n)\n",
    "    s=STRUCT([\n",
    "        b,\n",
    "        T(1)(lBase/2)(t),\n",
    "        T(2)(lBase/2)(t),\n",
    "        T([1,2])([lBase,lBase/2])(t),\n",
    "        T([1,2])([lBase/2,lBase])(t)\n",
    "    ])\n",
    "    return s\n",
    "\n",
    "VIEW(strutturaLaterale(5,8,2,5,8))"
   ]
  },
  {
   "cell_type": "markdown",
   "metadata": {},
   "source": [
    "![ws3_strutturaL_1.png](files/Immagini/ws3_strutturaL_1.png)"
   ]
  },
  {
   "cell_type": "markdown",
   "metadata": {},
   "source": [
    "![ws3_strutturaL_2.png](files/Immagini/ws3_strutturaL_2.png)"
   ]
  },
  {
   "cell_type": "markdown",
   "metadata": {},
   "source": [
    "<hr>\n",
    "- <b>Struttura finale</b>:"
   ]
  },
  {
   "cell_type": "code",
   "execution_count": 10,
   "metadata": {},
   "outputs": [
    {
     "name": "stdout",
     "output_type": "stream",
     "text": [
      "Child 3\n",
      "Child 3\n",
      "Child 3\n",
      "Child 3\n",
      "Child 3\n",
      "Child 3\n"
     ]
    },
    {
     "data": {
      "text/plain": [
       "<pyplasm.xgepy.Hpc; proxy of <Swig Object of type 'std::shared_ptr< Hpc > *' at 0x000000000E23F450> >"
      ]
     },
     "execution_count": 10,
     "metadata": {},
     "output_type": "execute_result"
    }
   ],
   "source": [
    "# base(l) è una funzione che crea la base del modellino della chiesa:\n",
    "def base(l):\n",
    "    return TEXTURE('Texture/legno.jpg')(STRUCT([\n",
    "        T([1,2])([-l/4,-l/4])(CUBOID([l+l/2,l+l/2,0.5])),\n",
    "    ]))\n",
    "\n",
    "# Funzione che crea la struttura intera:\n",
    "def chiesaDaVinci(lBase,hBase,lTorre,hTorre,n):\n",
    "    s=strutturaSuperiore(lBase,hBase,lTorre,hTorre,n)\n",
    "    # misure delle parti laterali:\n",
    "    htl=int(hTorre/1.5)\n",
    "    lbl=lBase/3\n",
    "    hbl=hBase/2\n",
    "    ltl=lTorre/3\n",
    "    l=strutturaLaterale(lbl,hbl,ltl,htl,n)\n",
    "    b=base(lBase)\n",
    "    return STRUCT([\n",
    "        s,\n",
    "        b,\n",
    "        T([1,2])([lBase/2-lbl/2,-lbl/2])(l),\n",
    "        T([1,2])(([-lbl/2,lBase/2-lbl/2]))(l),\n",
    "        T([1,2])([lBase-lbl/2,lBase/2-lbl/2])(l),\n",
    "        T([1,2])([lBase/2-lbl/2,lBase-lbl/2])(l),\n",
    "    ])\n",
    "   \n",
    "VIEW(chiesaDaVinci(40,20,10,20,10))"
   ]
  },
  {
   "cell_type": "markdown",
   "metadata": {},
   "source": [
    "![ws3_DaVinci_1.png](files/Immagini/ws3_DaVinci_1.png)"
   ]
  },
  {
   "cell_type": "markdown",
   "metadata": {},
   "source": [
    "![ws3_DaVinci_2.png](files/Immagini/ws3_DaVinci_2.png)"
   ]
  }
 ],
 "metadata": {
  "kernelspec": {
   "display_name": "Python 2",
   "language": "python",
   "name": "python2"
  },
  "language_info": {
   "codemirror_mode": {
    "name": "ipython",
    "version": 2
   },
   "file_extension": ".py",
   "mimetype": "text/x-python",
   "name": "python",
   "nbconvert_exporter": "python",
   "pygments_lexer": "ipython2",
   "version": "2.7.12"
  }
 },
 "nbformat": 4,
 "nbformat_minor": 2
}
