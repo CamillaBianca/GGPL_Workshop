{
 "cells": [
  {
   "cell_type": "markdown",
   "metadata": {},
   "source": [
    "# Workshop 04"
   ]
  },
  {
   "cell_type": "markdown",
   "metadata": {},
   "source": [
    "<b>Obiettivo</b>: Convertire scripts da <i>classic PLaSM</i> a <i>Pyplasm</i> nel file <i>\"CAD-LAMPS-2008.pdf\"</i>."
   ]
  },
  {
   "cell_type": "code",
   "execution_count": 1,
   "metadata": {},
   "outputs": [
    {
     "name": "stdout",
     "output_type": "stream",
     "text": [
      "Evaluating fenvs.py..\n",
      "...fenvs.py imported in 0.00545439759667 seconds\n"
     ]
    }
   ],
   "source": [
    "# Importo la libreria:\n",
    "import sys\n",
    "sys.path.insert(0, 'C:\\Users\\Camilla Bianca\\Documents\\GGPL\\lar-cc\\larlib')\n",
    "from larlib import *"
   ]
  },
  {
   "cell_type": "markdown",
   "metadata": {},
   "source": [
    "<hr>\n",
    "- <b>Colonna</b>:"
   ]
  },
  {
   "cell_type": "code",
   "execution_count": null,
   "metadata": {},
   "outputs": [],
   "source": [
    "# PLASM:\n",
    "DEF columna (dm, h , h b a s e : : isReal) = b a s e TOP\n",
    "t o r u s b o t TOP c y l n d r TOP t o r u s t o p TOP c a p i t a l\n",
    "TOP b a s e t o p\n",
    "WHERE\n",
    "c y l n d r = (JOIN∼TRUNCONE:<dm/2 , 0 . 8*dm/2 , h>) : 2 4 ,\n",
    "t o r u s b o t = (JOIN∼TORUS:<dm/1 2 ,d/2>):<8 ,24>,\n",
    "t o r u s t o p = (JOIN∼TORUS: <0.8*(dm/1 2 ) , 0 . 8 *(dm/\n",
    "2 ) >):<8 ,24>,\n",
    "b a s e = (T:<1,2>:<7*dm/-1 2 , 7*dm/-12> ∼ CUBOID)\n",
    ":<7*dm/6 , 7*dm/6 , h b a s e >,\n",
    "b a s e t o p = (T:<1,2>:<7*dm/-1 2 , 7*dm/-12> ∼\n",
    "CUBOID) :<7*dm/6 , 7*dm/6 , dm/6>,\n",
    "c a p i t a l = (JOIN ∼ TRUNCONE:< 0 . 8*dm/2 , 1 . 2*dm/\n",
    "2 , h/8>) : 4 + (R: <1 ,2 >: (PI/4 ) ∼ JOIN ∼\n",
    "TRUNCONE:< 0 . 8*dm/2 , 1 . 2*dm/2 , h/8>) : \n",
    "END ;"
   ]
  },
  {
   "cell_type": "code",
   "execution_count": 4,
   "metadata": {},
   "outputs": [
    {
     "name": "stdout",
     "output_type": "stream",
     "text": [
      "Child 3\n",
      "Child 3\n"
     ]
    },
    {
     "data": {
      "text/plain": [
       "<pyplasm.xgepy.Hpc; proxy of <Swig Object of type 'std::shared_ptr< Hpc > *' at 0x000000000E7B2570> >"
      ]
     },
     "execution_count": 4,
     "metadata": {},
     "output_type": "execute_result"
    }
   ],
   "source": [
    "# PYPLASM:\n",
    "def columna(dm,h,hbase):\n",
    "    cylndr=JOIN(TRUNCONE([dm/2,0.8*dm/2,h])(24))\n",
    "    torus_bot=JOIN(TORUS([dm/12,dm/2])([8,24]))\n",
    "    torus_top=JOIN(TORUS([0.8*(dm/12),0.8*(dm/2)])([8,24]))\n",
    "    base=T([1,2])([7*dm/-12,7*dm/-12])(CUBOID([7*dm/6,7*dm/6,dm/6]))\n",
    "    base_top=T([1,2])([7*dm/-12,7*dm/-12])(CUBOID([7*dm/6,7*dm/6,dm/6]))\n",
    "    capital=SUM([JOIN(TRUNCONE([0.8*dm/2,1.2*dm/2,h/8])(4)),R([1,2])(PI/4)(JOIN(TRUNCONE([0.8*dm/2,1.2*dm/2,h/8])(4)))])\n",
    "    return TOP([TOP([TOP([TOP([TOP([base,torus_bot]),cylndr]),torus_top]),capital]),base_top])\n",
    "\n",
    "VIEW(columna(6,36,2))"
   ]
  },
  {
   "cell_type": "markdown",
   "metadata": {},
   "source": [
    "![ws4_colonna.png](files/Immagini/ws4_colonna.png)"
   ]
  },
  {
   "cell_type": "markdown",
   "metadata": {},
   "source": [
    "<hr>\n",
    "- <b>Arco</b>:"
   ]
  },
  {
   "cell_type": "code",
   "execution_count": null,
   "metadata": {},
   "outputs": [],
   "source": [
    "# PLASM:\n",
    "DEF ArchSurface ( rr ,w::isreal) = Bezier:S2:< Circle0 , Circle1>\n",
    "WHERE\n",
    "Circle0 = <K: rr * cos ∼ S1 , K: rr * sin ∼ S1>,\n",
    "Circle1 = <K:( rr - w) * cos ∼ S1 , K:( rr - w) * sin ∼ S1>\n",
    "END ;\n",
    "\n",
    "DEF Arch ( length ,w, depth ::isreal) ( angle ::isreal) = (T:3:(-: ceiling ) ∼ MAP: SolidMap) :domain3D\n",
    "WHERE \n",
    "radius = ( length/2) / cos:( angle/2) ,\n",
    "ceiling = MIN:2:(MAP: ArchSurf2D :domain2D) ,\n",
    "domain2D = (T:1:( angle/2) ∼ intervals:(PI - angle ) ) :16 * q:1 ,\n",
    "domain3D = domain2D * q:1 ,\n",
    "SolidMap = Bezier:S3:<Surf3D_0 ,Surf3D_1 >, \n",
    "ArchSurf2D = ArchSurface:<radius ,w>,\n",
    "Surf3D_0 = K:0 AL ArchSurf2D ,\n",
    "Surf3D_1 = K: depth AL ArchSurf2D\n",
    "END;"
   ]
  },
  {
   "cell_type": "code",
   "execution_count": 5,
   "metadata": {},
   "outputs": [
    {
     "data": {
      "text/plain": [
       "<pyplasm.xgepy.Hpc; proxy of <Swig Object of type 'std::shared_ptr< Hpc > *' at 0x000000000E894630> >"
      ]
     },
     "execution_count": 5,
     "metadata": {},
     "output_type": "execute_result"
    }
   ],
   "source": [
    "# PYPLASM:\n",
    "def ArchSurface(rr,w,h):\n",
    "    x1=lambda k: rr*cos(k[0])\n",
    "    y1=lambda k: rr*sin(k[0])\n",
    "    x2=lambda k: (rr-w)*cos(k[0])\n",
    "    y2=lambda k: (rr-w)*sin(k[0])\n",
    "    z=lambda k: h\n",
    "    \n",
    "    Circle0=BEZIER(S1)([CONS([x1,y1,z])])\n",
    "    Circle1=BEZIER(S1)([CONS([x2,y2,z])])\n",
    "    return BEZIER(S2)([Circle0,Circle1])\n",
    "\n",
    "def Arch(length,w,depth,angle):\n",
    "    radius=(length/2)/cos(angle/2)\n",
    "    domain2D=PROD([T(1)(angle/2)(INTERVALS(PI-angle)(16)),QUOTE([1])])\n",
    "    domain3D=PROD([domain2D,QUOTE([1])])\n",
    "    ArchSurf2D_0=ArchSurface(radius,w,0)\n",
    "    ArchSurf2D_1=ArchSurface(radius,w,depth)\n",
    "    SolidMap=BEZIER(S3)([ArchSurf2D_0,ArchSurf2D_1])\n",
    "    #ceiling=MIN(2)(MAP(ArchSurf2D)(domain2D))\n",
    "    return MAP(SolidMap)(domain3D)\n",
    "\n",
    "VIEW(Arch(20,1,2,0.2*PI))"
   ]
  },
  {
   "cell_type": "markdown",
   "metadata": {},
   "source": [
    "![ws4_arco.png](files/Immagini/ws4_arco.png)"
   ]
  },
  {
   "cell_type": "code",
   "execution_count": null,
   "metadata": {},
   "outputs": [],
   "source": [
    "# PLASM:\n",
    "(STRUCT∼AA: (Arch:<3, 0.2, 0.4>)): (AA∼c:*:(pi/6)):(1..6))"
   ]
  },
  {
   "cell_type": "code",
   "execution_count": null,
   "metadata": {},
   "outputs": [],
   "source": [
    "# PYPLASM: "
   ]
  },
  {
   "cell_type": "markdown",
   "metadata": {},
   "source": [
    "<hr>\n",
    "- <b>Cupola</b>:"
   ]
  },
  {
   "cell_type": "code",
   "execution_count": null,
   "metadata": {},
   "outputs": [],
   "source": [
    "# PLASM:\n",
    "DEF HalfSphere (r::IsRealPos) = <fx , fy , fz>\n",
    "WHERE\n",
    "fx = K:r * - ∼ SIN ∼ S2 * COS ∼ S1 , fy = K:r * COS ∼ S1 * COS ∼ S2 , fz = K:r * SIN ∼ S1\n",
    "END ;\n",
    "\n",
    "DEF Dome (n::isnat) ( length ,w, angle ::isreal) = (T:3:(-: ceiling ) ∼ MAP: SolidMap) :domain3D\n",
    "WHERE\n",
    "radius = length/(2 * cos: angle ) ,\n",
    "ceiling = MIN:3:dome1 ,\n",
    "SolidMap = Bezier:S3:<Surf3D 0 ,\n",
    "Surf3D 1 >, Surf3D 0 = HalfSphere : radius ,\n",
    "Surf3D 1 = HalfSphere :( radius - w) ,\n",
    "domain2D = (T:1:( angle ) ∼ Intervals:(PI angle ) ) :12 * Intervals:(2*PI) :n,\n",
    "domain3D = domain2D * q:1\n",
    "END;"
   ]
  },
  {
   "cell_type": "code",
   "execution_count": 6,
   "metadata": {},
   "outputs": [
    {
     "data": {
      "text/plain": [
       "<pyplasm.xgepy.Hpc; proxy of <Swig Object of type 'std::shared_ptr< Hpc > *' at 0x000000000E894DB0> >"
      ]
     },
     "execution_count": 6,
     "metadata": {},
     "output_type": "execute_result"
    }
   ],
   "source": [
    "# PYPLASM:\n",
    "def HalfSphere(r):\n",
    "    fx=lambda k: r*-(sin(k[1])*cos(k[0]))\n",
    "    fy=lambda k: r*cos(k[0])*cos(k[1])\n",
    "    fz=lambda k: r*sin(k[0])\n",
    "    return CONS([fx,fy,fz])\n",
    "                     \n",
    "def Dome(n,length,w,angle):\n",
    "    radius=length/(2*cos(angle))\n",
    "    Surf3D_0=HalfSphere(radius)\n",
    "    Surf3D_1=HalfSphere(radius-w)\n",
    "    SolidMap=BEZIER(S3)([Surf3D_0,Surf3D_1])\n",
    "    domain2D=T(1)(angle)(PROD([INTERVALS(PI-angle)(12),INTERVALS(2*PI)(n)]))\n",
    "    domain3D=PROD([domain2D,QUOTE([1])])\n",
    "    return MAP(SolidMap)(domain3D)\n",
    "                     \n",
    "VIEW(Dome(40,1,50,0.2*PI))"
   ]
  },
  {
   "cell_type": "markdown",
   "metadata": {},
   "source": [
    "![ws4_cupola.png](files/Immagini/ws4_cupola.png)"
   ]
  }
 ],
 "metadata": {
  "kernelspec": {
   "display_name": "Python 2",
   "language": "python",
   "name": "python2"
  },
  "language_info": {
   "codemirror_mode": {
    "name": "ipython",
    "version": 2
   },
   "file_extension": ".py",
   "mimetype": "text/x-python",
   "name": "python",
   "nbconvert_exporter": "python",
   "pygments_lexer": "ipython2",
   "version": "2.7.12"
  }
 },
 "nbformat": 4,
 "nbformat_minor": 2
}
